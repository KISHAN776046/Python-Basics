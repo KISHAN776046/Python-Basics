{
 "cells": [
  {
   "cell_type": "markdown",
   "id": "b4eb9fc3-7376-49e5-95e8-9ee262fe5c35",
   "metadata": {},
   "source": [
    "1. What is the difference between a function and a method in Python?"
   ]
  },
  {
   "cell_type": "markdown",
   "id": "e7f28e5b-6639-4b7e-b2fd-855c9615c6a6",
   "metadata": {},
   "source": [
    "A function is a block of code that performs a specific task and can be called independently. It is defined using def keyword.\n",
    "\n",
    "A method is a function that is associated with an object and is called on that object. It is defined within a class and accessed using the dot notation (e.g., object.method())."
   ]
  },
  {
   "cell_type": "code",
   "execution_count": null,
   "id": "65799fe8-b228-44f4-869a-b47a3ad6a91f",
   "metadata": {},
   "outputs": [],
   "source": []
  },
  {
   "cell_type": "markdown",
   "id": "238ddf6e-9e89-4227-9a78-bc4fa1b92c7b",
   "metadata": {},
   "source": [
    "2.  Explain the concept of function arguments and parameters in Python."
   ]
  },
  {
   "cell_type": "markdown",
   "id": "bfed3d7b-b6eb-4129-8050-ec7f6647e602",
   "metadata": {},
   "source": [
    "Parameters are variables listed in the function definition, while arguments are the actual values passed to the function when it is called."
   ]
  },
  {
   "cell_type": "markdown",
   "id": "4bc8d374-9243-45dd-8937-641276085d58",
   "metadata": {},
   "source": [
    "For example,"
   ]
  },
  {
   "cell_type": "code",
   "execution_count": 1,
   "id": "b32aa495-f28f-49e4-bc85-fac80bbe4b69",
   "metadata": {},
   "outputs": [
    {
     "name": "stdout",
     "output_type": "stream",
     "text": [
      "Hello, Alice!\n"
     ]
    }
   ],
   "source": [
    "def greet(name):  # 'name' is a parameter\n",
    "    print(f\"Hello, {name}!\")\n",
    "\n",
    "greet(\"Alice\")  # \"Alice\" is an argument"
   ]
  },
  {
   "cell_type": "code",
   "execution_count": null,
   "id": "f16080d6-be01-402d-88ec-e45bbcde905a",
   "metadata": {},
   "outputs": [],
   "source": []
  },
  {
   "cell_type": "markdown",
   "id": "205e87d3-8733-4106-b186-6b3dd0987b0a",
   "metadata": {},
   "source": [
    "3. What are the different ways to define and call a function in Python? "
   ]
  },
  {
   "cell_type": "markdown",
   "id": "8744e7dc-7a28-4881-a2a0-d34d39a3ceea",
   "metadata": {},
   "source": [
    "Here are the different ways to define and call a function in Python:"
   ]
  },
  {
   "cell_type": "markdown",
   "id": "7b3ed0ab-b3b4-4e1d-b26f-47dc24e6a140",
   "metadata": {},
   "source": [
    "A) Basic Function: def func():\n",
    "                        print(\"Hello\")\n",
    "                   func()  # Calling the function\n",
    "\n",
    "B) Function with parameters: def greet(name):\n",
    "                                print(f\"Hello, {name}\")\n",
    "                             greet(\"Alice\")  # Calling with an argument\n",
    "\n",
    "C) Function with Retuen Value: def add(a, b):\n",
    "                                    return a + b\n",
    "                               result = add(3, 4)  # Calling and storing the result"
   ]
  },
  {
   "cell_type": "code",
   "execution_count": null,
   "id": "e4faeeb0-bb9f-4c23-8345-4f93ed4d4f8b",
   "metadata": {},
   "outputs": [],
   "source": []
  },
  {
   "cell_type": "markdown",
   "id": "236e694d-a5e5-467e-9fb3-6f57fe2353ff",
   "metadata": {},
   "source": [
    "4.What is the purpose of the `return` statement in a Python function?"
   ]
  },
  {
   "cell_type": "markdown",
   "id": "7ae980d3-83db-4b16-ab77-8394a5c72173",
   "metadata": {},
   "source": [
    "The return statement is used to exit a function and optionally pass a value back to the caller. It allows the function to produce a result, which can be used later.\n",
    "\n",
    "Example:\n",
    "def add(a, b):\n",
    "    return a + b\n",
    "\n",
    "result = add(3, 4)  # The function returns 7"
   ]
  },
  {
   "cell_type": "code",
   "execution_count": null,
   "id": "47c01075-eb9e-4220-a7a2-7cf0cc505d4f",
   "metadata": {},
   "outputs": [],
   "source": []
  },
  {
   "cell_type": "markdown",
   "id": "85a685ce-1e8d-46b6-a257-8d8e6dccd083",
   "metadata": {},
   "source": [
    "5. What are iterators in Python and how do they differ from iterables?"
   ]
  },
  {
   "cell_type": "markdown",
   "id": "75d1b096-c343-48a1-bc68-4bba835d494b",
   "metadata": {},
   "source": [
    "Iterables are objects that can be looped over (iterated) using a for loop, such as lists, tuples, and dictionaries. They implement the __iter__() method that returns an iterator.\n",
    "\n",
    "Iterators are objects that keep track of the current position while iterating through an iterable. They implement two methods:\n",
    "\n",
    "__iter__() which returns the iterator object itself.\n",
    "__next__() which returns the next item in the sequence.\n",
    "Key Difference:\n",
    "\n",
    "Iterable: An object that can be iterated over (e.g., list, tuple).\n",
    "Iterator: An object that keeps track of the iteration state and returns the next item using __next__().\n",
    "\n",
    "Example:\n",
    "# Iterable example\n",
    "my_list = [1, 2, 3]\n",
    "my_iter = iter(my_list)  # Create an iterator from the iterable\n",
    "\n",
    "# Iterator example\n",
    "print(next(my_iter))  # Output: 1\n",
    "print(next(my_iter))  # Output: 2"
   ]
  },
  {
   "cell_type": "code",
   "execution_count": null,
   "id": "f8fbfb07-0728-4097-8022-0361a1b3ad37",
   "metadata": {},
   "outputs": [],
   "source": []
  },
  {
   "cell_type": "markdown",
   "id": "55c6a67a-635c-4833-830d-d735fdb56bea",
   "metadata": {},
   "source": [
    "6. Explain the concept of generators in Python and how they are defined."
   ]
  },
  {
   "cell_type": "markdown",
   "id": "812bb607-1b0d-4d0f-9751-e4a1ed31e4ea",
   "metadata": {},
   "source": [
    "Generators in Python are a type of iterable that generate items one at a time using the yield keyword. They are more memory-efficient than lists because they produce values lazily, meaning they compute values only when needed.\n",
    "\n",
    "How to Define a Generator:\n",
    "A generator is defined like a regular function but uses yield instead of return to produce a value.\n",
    "\n",
    "Example:\n",
    "def my_generator():\n",
    "    yield 1\n",
    "    yield 2\n",
    "    yield 3\n",
    "\n",
    "gen = my_generator()  # Creates a generator object\n",
    "print(next(gen))  # Output: 1\n",
    "print(next(gen))  # Output: 2"
   ]
  },
  {
   "cell_type": "code",
   "execution_count": null,
   "id": "40933b88-e673-4383-882f-6e786e513156",
   "metadata": {},
   "outputs": [],
   "source": []
  },
  {
   "cell_type": "markdown",
   "id": "28b0f893-3edd-4a6e-b846-c98ea9118dd7",
   "metadata": {},
   "source": [
    "7. What are the advantages of using generators over regular functions?"
   ]
  },
  {
   "cell_type": "markdown",
   "id": "f0387be4-d7ff-4e88-932d-aaa562b6f337",
   "metadata": {},
   "source": [
    "Generators offer several advantages over regular functions:\n",
    "\n",
    "Memory Efficiency:\n",
    "Generators produce items one at a time using yield, so they don't store all items in memory like regular functions returning lists.\n",
    "\n",
    "Lazy Evaluation:\n",
    "Values are generated only when needed, which is ideal for handling large data streams or infinite sequences.\n",
    "\n",
    "Simpler Code:\n",
    "Generators make it easier to write and maintain code for iterating over large or complex data structures compared to manual iterator management.\n",
    "\n",
    "Performance:\n",
    "Generators reduce overhead by not creating and storing the entire collection in memory upfront\n",
    "\n",
    "State Retention:\n",
    "They remember their state between iterations, allowing for more natural and readable code compared to manually managing state in loops.\n",
    "\n",
    "Example:\n",
    "Using a generator to produce Fibonacci numbers:\n",
    "\n",
    "def fibonacci():\n",
    "    a, b = 0, 1\n",
    "    while True:\n",
    "        yield a\n",
    "        a, b = b, a + b\n",
    "\n",
    "fib = fibonacci()\n",
    "print(next(fib))  # Output: 0\n",
    "print(next(fib))  # Output: 1"
   ]
  },
  {
   "cell_type": "code",
   "execution_count": null,
   "id": "ab2ccdc1-4f5b-4122-959c-448a7cbb7dae",
   "metadata": {},
   "outputs": [],
   "source": []
  },
  {
   "cell_type": "markdown",
   "id": "713fb2d7-4d2d-4f24-b9a6-4dd0955e376a",
   "metadata": {},
   "source": [
    "8. What is a lambda function in Python and when is it typically used?"
   ]
  },
  {
   "cell_type": "markdown",
   "id": "24aca3dd-fc9a-433a-9d9f-22eb200548fa",
   "metadata": {},
   "source": [
    "A lambda function in Python is a concise, anonymous function defined using the lambda keyword. It can take multiple arguments but contains only a single expression, which is automatically returned.\n",
    "\n",
    "Syntax:\n",
    "lambda arguments: expression\n",
    "\n",
    "Example:\n",
    "\n",
    "square = lambda x: x ** 2\n",
    "print(square(4))  # Output: 16\n",
    "\n",
    "When to Use:\n",
    "For short, one-time-use functions.\n",
    "As arguments to functions like map(), filter(), and sorted().\n",
    "\n",
    "Example with map():\n",
    "nums = [1, 2, 3, 4]\n",
    "squared = map(lambda x: x ** 2, nums)\n",
    "print(list(squared))  # Output: [1, 4, 9, 16]"
   ]
  },
  {
   "cell_type": "code",
   "execution_count": null,
   "id": "c6151bdb-0d85-454b-b3d9-732f16b22484",
   "metadata": {},
   "outputs": [],
   "source": []
  },
  {
   "cell_type": "markdown",
   "id": "6b2154c1-4c12-4f54-8ce7-785843c4bf19",
   "metadata": {},
   "source": [
    "9.Explain the purpose and usage of the `map()` function in Python."
   ]
  },
  {
   "cell_type": "markdown",
   "id": "ffe9f5e1-bdcf-4688-b086-f638c4397cad",
   "metadata": {},
   "source": [
    "The map() function in Python is used to apply a given function to all items in an iterable (e.g., list, tuple) and return a new iterable (a map object) with the results.\n",
    "\n",
    "Syntax:\n",
    "map(function, iterable)\n",
    "\n",
    "function: A function that defines the operation to apply.\n",
    "iterable: The sequence of elements to which the function is applied.\n",
    "\n",
    "Example:\n",
    "nums = [1, 2, 3, 4]\n",
    "squared = map(lambda x: x ** 2, nums)\n",
    "print(list(squared))  # Output: [1, 4, 9, 16]"
   ]
  },
  {
   "cell_type": "code",
   "execution_count": null,
   "id": "5770f148-de0f-4f6c-bb33-ca4aa5cc5ca3",
   "metadata": {},
   "outputs": [],
   "source": []
  },
  {
   "cell_type": "markdown",
   "id": "36a2d002-4fdc-42a9-b9fe-90eab0289e35",
   "metadata": {},
   "source": [
    "10. What is the difference between `map()`, `reduce()`, and `filter()` functions in Python?"
   ]
  },
  {
   "cell_type": "markdown",
   "id": "5f9737b9-b631-4c6b-8fca-e6447ce46da7",
   "metadata": {},
   "source": [
    "a) map() : Applies a function to each item in an iterable and returns the transformed items.\n",
    "b) reduce(): Applies a function cumulatively to reduce an iterable to a single value.\n",
    "c)filter(): Filters elements of an iterable based on a function that returns True or False."
   ]
  },
  {
   "cell_type": "code",
   "execution_count": null,
   "id": "175214c7-42af-4c74-af82-139702855e54",
   "metadata": {},
   "outputs": [],
   "source": []
  },
  {
   "cell_type": "markdown",
   "id": "3e294696-f9d9-4eb8-a2f4-6f6390b9a489",
   "metadata": {},
   "source": [
    "                                Pratical Questions"
   ]
  },
  {
   "cell_type": "markdown",
   "id": "be941076-4aee-4453-8d87-a81d257690a5",
   "metadata": {},
   "source": [
    "1. Write a Python function that takes a list of numbers as input and returns the sum of all even numbers      in the list."
   ]
  },
  {
   "cell_type": "code",
   "execution_count": 5,
   "id": "45c36729-886f-4a43-8007-efb9629f464d",
   "metadata": {},
   "outputs": [
    {
     "name": "stdout",
     "output_type": "stream",
     "text": [
      "12\n"
     ]
    }
   ],
   "source": [
    "def sum_of_evens(numbers):\n",
    "    return sum(num for num in numbers if num % 2 == 0)\n",
    "\n",
    "nums = [1, 2, 3, 4, 5, 6]\n",
    "result = sum_of_evens(nums)\n",
    "print(result) "
   ]
  },
  {
   "cell_type": "code",
   "execution_count": null,
   "id": "087fdaff-31bb-4d04-adae-41257f26b3e2",
   "metadata": {},
   "outputs": [],
   "source": []
  },
  {
   "cell_type": "markdown",
   "id": "9b131ac3-6dd8-467f-9336-377af77948ce",
   "metadata": {},
   "source": [
    "2.Create a Python function that accepts a string and returns the reverse of that string."
   ]
  },
  {
   "cell_type": "code",
   "execution_count": 6,
   "id": "7234c3a3-7b6c-454c-aabd-2b5b9418a8d2",
   "metadata": {},
   "outputs": [],
   "source": [
    "def reverse_string(s):\n",
    "    return s[::-1]"
   ]
  },
  {
   "cell_type": "code",
   "execution_count": 7,
   "id": "851de627-8c5d-4a63-990b-f84d3b282c0a",
   "metadata": {},
   "outputs": [
    {
     "data": {
      "text/plain": [
       "'olleh'"
      ]
     },
     "execution_count": 7,
     "metadata": {},
     "output_type": "execute_result"
    }
   ],
   "source": [
    "reverse_string(\"hello\")"
   ]
  },
  {
   "cell_type": "code",
   "execution_count": null,
   "id": "35f345b4-1cd3-4320-8d6d-6fef7401fa57",
   "metadata": {},
   "outputs": [],
   "source": []
  },
  {
   "cell_type": "markdown",
   "id": "0283c04b-092e-483d-8e55-0328f9d7e444",
   "metadata": {},
   "source": [
    "3. Implement a Python function that takes a list of integers and returns a new list containing the squares of each number."
   ]
  },
  {
   "cell_type": "code",
   "execution_count": 8,
   "id": "8c7850f6-66cf-43c8-ac17-69634c78a744",
   "metadata": {},
   "outputs": [
    {
     "name": "stdout",
     "output_type": "stream",
     "text": [
      "[1, 4, 9, 16]\n"
     ]
    }
   ],
   "source": [
    "def square_numbers(numbers):\n",
    "    return [num ** 2 for num in numbers]\n",
    "\n",
    "nums = [1, 2, 3, 4]\n",
    "result = square_numbers(nums)\n",
    "print(result) "
   ]
  },
  {
   "cell_type": "code",
   "execution_count": null,
   "id": "c1008344-359d-4670-8a24-90ea4166b732",
   "metadata": {},
   "outputs": [],
   "source": []
  },
  {
   "cell_type": "markdown",
   "id": "83e33986-beed-4e26-8aba-b05f8592e527",
   "metadata": {},
   "source": [
    "4. Write a Python function that checks if a given number is prime or not from 1 to 200."
   ]
  },
  {
   "cell_type": "code",
   "execution_count": 9,
   "id": "d2d5a12b-2b44-4d17-bbc9-bf960edd070e",
   "metadata": {},
   "outputs": [
    {
     "name": "stdout",
     "output_type": "stream",
     "text": [
      "2 3 5 7 11 13 17 19 23 29 31 37 41 43 47 53 59 61 67 71 73 79 83 89 97 101 103 107 109 113 127 131 137 139 149 151 157 163 167 173 179 181 191 193 197 199 "
     ]
    }
   ],
   "source": [
    "def is_prime(n):\n",
    "    if n < 2:\n",
    "        return False\n",
    "    for i in range(2, int(n ** 0.5) + 1):\n",
    "        if n % i == 0:\n",
    "            return False\n",
    "    return True\n",
    "\n",
    "for num in range(1, 201):\n",
    "    if is_prime(num):\n",
    "        print(num, end=\" \")  "
   ]
  },
  {
   "cell_type": "code",
   "execution_count": null,
   "id": "1950f26d-1098-4785-9cc8-51b4ff6596de",
   "metadata": {},
   "outputs": [],
   "source": []
  },
  {
   "cell_type": "markdown",
   "id": "319676ba-0e68-4ced-8ed1-a458d6c02619",
   "metadata": {},
   "source": [
    "5. Create an iterator class in Python that generates the Fibonacci sequence up to a specified number of\n",
    "terms."
   ]
  },
  {
   "cell_type": "code",
   "execution_count": 11,
   "id": "b74f4ada-b0ac-47a7-be18-52a630fcda97",
   "metadata": {},
   "outputs": [
    {
     "name": "stdout",
     "output_type": "stream",
     "text": [
      "1\n",
      "1\n",
      "2\n",
      "3\n",
      "5\n",
      "8\n",
      "13\n",
      "21\n",
      "34\n",
      "55\n"
     ]
    }
   ],
   "source": [
    "class FibonacciIterator:\n",
    "    def __init__(self, terms):\n",
    "        self.terms = terms\n",
    "        self.a, self.b = 0, 1\n",
    "        self.count = 0\n",
    "\n",
    "    def __iter__(self):\n",
    "        return self\n",
    "\n",
    "    def __next__(self):\n",
    "        if self.count >= self.terms:\n",
    "            raise StopIteration\n",
    "        self.count += 1\n",
    "        self.a, self.b = self.b, self.a + self.b\n",
    "        return self.a\n",
    "\n",
    "\n",
    "fibonacci = FibonacciIterator(10)\n",
    "for num in fibonacci:\n",
    "    print(num)\n"
   ]
  },
  {
   "cell_type": "code",
   "execution_count": null,
   "id": "af2428d1-3a7c-40d7-a83c-fa03415c67f9",
   "metadata": {},
   "outputs": [],
   "source": []
  },
  {
   "cell_type": "markdown",
   "id": "613f1cfa-95e2-4d86-963f-4819fd214dc8",
   "metadata": {},
   "source": [
    "6.  Write a generator function in Python that yields the powers of 2 up to a given exponent."
   ]
  },
  {
   "cell_type": "code",
   "execution_count": 12,
   "id": "135b33f9-3a0d-45fd-bcba-3a4e54fac1ee",
   "metadata": {},
   "outputs": [
    {
     "name": "stdout",
     "output_type": "stream",
     "text": [
      "1\n",
      "2\n",
      "4\n",
      "8\n",
      "16\n",
      "32\n"
     ]
    }
   ],
   "source": [
    "def powers_of_two(exponent):\n",
    "    for i in range(exponent + 1):\n",
    "        yield 2 ** i\n",
    "\n",
    "for power in powers_of_two(5):\n",
    "    print(power)\n"
   ]
  },
  {
   "cell_type": "code",
   "execution_count": null,
   "id": "7c92c49e-0565-4582-af54-da721fb069b6",
   "metadata": {},
   "outputs": [],
   "source": []
  },
  {
   "cell_type": "markdown",
   "id": "e0f4b3fe-4665-4000-af50-4bf2ad2f93a0",
   "metadata": {},
   "source": [
    "7.  Implement a generator function that reads a file line by line and yields each line as a string."
   ]
  },
  {
   "cell_type": "code",
   "execution_count": 14,
   "id": "10614ee7-b96a-4ef7-ab10-07b492bb0036",
   "metadata": {},
   "outputs": [],
   "source": [
    "def read_file_line_by_line(file_path):\n",
    "    with open(file_path, 'r') as file:\n",
    "        for line in file:\n",
    "            yield line.strip()  "
   ]
  },
  {
   "cell_type": "code",
   "execution_count": null,
   "id": "9e1cdc88-953d-4876-9b3e-eeda571abb82",
   "metadata": {},
   "outputs": [],
   "source": []
  },
  {
   "cell_type": "markdown",
   "id": "9302e201-dde2-4f2b-83de-5925c0fb9c49",
   "metadata": {},
   "source": [
    "8.  Use a lambda function in Python to sort a list of tuples based on the second element of each tuple."
   ]
  },
  {
   "cell_type": "code",
   "execution_count": 15,
   "id": "3d582177-e6df-49cf-8a13-8e65d91a05b0",
   "metadata": {},
   "outputs": [
    {
     "name": "stdout",
     "output_type": "stream",
     "text": [
      "[(2, 1), (4, 2), (1, 3), (3, 5)]\n"
     ]
    }
   ],
   "source": [
    "data = [(1, 3), (2, 1), (4, 2), (3, 5)]\n",
    "\n",
    "sorted_data = sorted(data, key=lambda x: x[1])\n",
    "print(sorted_data)"
   ]
  },
  {
   "cell_type": "code",
   "execution_count": null,
   "id": "e1b09a60-0286-440f-a692-61619fe4ead4",
   "metadata": {},
   "outputs": [],
   "source": []
  },
  {
   "cell_type": "markdown",
   "id": "514deb45-fbaa-415d-817a-bbf611504869",
   "metadata": {},
   "source": [
    "9. Write a Python program that uses `map()` to convert a list of temperatures from Celsius to Fahrenheit."
   ]
  },
  {
   "cell_type": "code",
   "execution_count": 16,
   "id": "58d50dd1-7b64-45d8-aaa8-3c8c63955257",
   "metadata": {},
   "outputs": [
    {
     "name": "stdout",
     "output_type": "stream",
     "text": [
      "[32.0, 68.0, 98.6, 212.0]\n"
     ]
    }
   ],
   "source": [
    "celsius_temperatures = [0, 20, 37, 100]\n",
    "\n",
    "fahrenheit_temperatures = map(lambda c: (c * 9/5) + 32, celsius_temperatures)\n",
    "\n",
    "print(list(fahrenheit_temperatures))\n"
   ]
  },
  {
   "cell_type": "code",
   "execution_count": null,
   "id": "b29be4d6-5f2d-42d1-b2b5-1dc2914e89d8",
   "metadata": {},
   "outputs": [],
   "source": []
  },
  {
   "cell_type": "markdown",
   "id": "fb639b8a-64ec-4e74-8eaf-b72849c055a5",
   "metadata": {},
   "source": [
    "10. Create a Python program that uses `filter()` to remove all the vowels from a given string."
   ]
  },
  {
   "cell_type": "code",
   "execution_count": 17,
   "id": "3811bef5-fc15-40c3-97df-6f3c4a6e7b1f",
   "metadata": {},
   "outputs": [
    {
     "name": "stdout",
     "output_type": "stream",
     "text": [
      "Hll Wrld!\n"
     ]
    }
   ],
   "source": [
    "def remove_vowels(char):\n",
    "    vowels = \"aeiouAEIOU\"\n",
    "    return char not in vowels\n",
    "\n",
    "input_string = \"Hello World!\"\n",
    "\n",
    "filtered_string = ''.join(filter(remove_vowels, input_string))\n",
    "\n",
    "print(filtered_string)"
   ]
  }
 ],
 "metadata": {
  "kernelspec": {
   "display_name": "Python 3 (ipykernel)",
   "language": "python",
   "name": "python3"
  },
  "language_info": {
   "codemirror_mode": {
    "name": "ipython",
    "version": 3
   },
   "file_extension": ".py",
   "mimetype": "text/x-python",
   "name": "python",
   "nbconvert_exporter": "python",
   "pygments_lexer": "ipython3",
   "version": "3.12.6"
  }
 },
 "nbformat": 4,
 "nbformat_minor": 5
}
