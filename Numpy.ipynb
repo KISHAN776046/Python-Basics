{
 "cells": [
  {
   "cell_type": "markdown",
   "id": "d9629bad-30db-4d94-8cd1-1ddd8bff157a",
   "metadata": {},
   "source": [
    "1. Explain the purpose and advantages of NumPy in scientific computing and data analysis. How does it\n",
    "enhance Python's capabilities for numerical operations?"
   ]
  },
  {
   "cell_type": "markdown",
   "id": "23420390-c3ff-4c62-902c-09a34227b451",
   "metadata": {},
   "source": [
    "NumPy is a library for numerical computing in Python. It provides:\n",
    "\n",
    "Efficient array operations: N-dimensional arrays for fast, memory-efficient data manipulation.\n",
    "\n",
    "Mathematical functions: Vectorized operations, reducing the need for loops.\n",
    "\n",
    "Broadcasting: Operations on arrays of different shapes.\n",
    "Linear algebra, statistics, random generation: Built-in functions for complex computations.\n",
    "It enhances Python's capabilities by offering optimized performance, reducing execution time, and simplifying numerical tasks."
   ]
  },
  {
   "cell_type": "code",
   "execution_count": null,
   "id": "29b36fb4-eef0-4eac-9643-f8b24174c6c5",
   "metadata": {},
   "outputs": [],
   "source": []
  },
  {
   "cell_type": "markdown",
   "id": "82d66cb2-b987-49a1-a20e-fbd15f2035ac",
   "metadata": {},
   "source": [
    "2.  Compare and contrast np.mean() and np.average() functions in NumPy. When would you use one over the\n",
    "other?"
   ]
  },
  {
   "cell_type": "markdown",
   "id": "99ff2f01-a602-41c9-9711-0c53f1dabf0f",
   "metadata": {},
   "source": [
    "np.mean(): Calculates the arithmetic mean of an array. It returns the sum of the elements divided by the number of elements.\n",
    "\n",
    "np.average(): Calculates the weighted average, allowing you to specify weights for the elements.\n",
    "\n",
    "Use case:\n",
    "Use np.mean() for a simple average.\n",
    "Use np.average() when you need to compute a weighted average with specified weights."
   ]
  },
  {
   "cell_type": "code",
   "execution_count": null,
   "id": "f76c1c66-ac98-436a-b39d-2d0c2758add2",
   "metadata": {},
   "outputs": [],
   "source": []
  },
  {
   "cell_type": "markdown",
   "id": "3455b285-91bb-49b8-a992-8285a35f45bf",
   "metadata": {},
   "source": [
    "3.  Describe the methods for reversing a NumPy array along different axes. Provide examples for 1D and 2D\n",
    "arrays."
   ]
  },
  {
   "cell_type": "markdown",
   "id": "c55b77ce-bf9c-4bd0-be8f-70e97d0a22f7",
   "metadata": {},
   "source": [
    "Reversing a NumPy array:\n",
    "\n",
    "1D Array: Use slicing to reverse.\n",
    "\n",
    "import numpy as np\n",
    "arr1d = np.array([1, 2, 3, 4, 5])\n",
    "reversed_arr1d = arr1d[::-1]\n",
    "print(reversed_arr1d)  # Output: [5 4 3 2 1]\n",
    "2D Array: Reverse along a specific axis using slicing.\n",
    "\n",
    "Along rows (axis 0):\n",
    "arr2d = np.array([[1, 2, 3], [4, 5, 6], [7, 8, 9]])\n",
    "reversed_rows = arr2d[::-1, :]\n",
    "print(reversed_rows)  # Output: [[7 8 9] [4 5 6] [1 2 3]]\n",
    "\n",
    "Along columns (axis 1):\n",
    "reversed_cols = arr2d[:, ::-1]\n",
    "print(reversed_cols)  # Output: [[3 2 1] [6 5 4] [9 8 7]]"
   ]
  },
  {
   "cell_type": "code",
   "execution_count": null,
   "id": "08b1da44-4a6c-4851-8d9a-2a4a93fa9b7b",
   "metadata": {},
   "outputs": [],
   "source": []
  },
  {
   "cell_type": "markdown",
   "id": "b748185f-8d0b-42ae-be9d-4447eefa0659",
   "metadata": {},
   "source": [
    "4.How can you determine the data type of elements in a NumPy array? Discuss the importance of data types\n",
    "in memory management and performance."
   ]
  },
  {
   "cell_type": "markdown",
   "id": "ef2dccc5-3479-4ec9-a9f5-ee2402bd7b23",
   "metadata": {},
   "source": [
    "use the .dtype attribute to determine the data type of elements in a NumPy array.\n",
    "import numpy as np\n",
    "arr = np.array([1, 2, 3])\n",
    "print(arr.dtype)  # Output: int64 (or similar depending on system)\n",
    "\n",
    "Importance of Data Types:\n",
    "\n",
    "Memory Management: Smaller data types (e.g., np.int8) use less memory, enabling efficient storage.\n",
    "\n",
    "Performance: Operations on arrays with appropriate data types are faster due to optimized handling in NumPy."
   ]
  },
  {
   "cell_type": "code",
   "execution_count": null,
   "id": "e1710435-d908-40de-9126-5fd13bbddf61",
   "metadata": {},
   "outputs": [],
   "source": []
  },
  {
   "cell_type": "markdown",
   "id": "06c05e17-53e0-4e7f-af35-fbea34ddc7a6",
   "metadata": {},
   "source": [
    "5.Define ndarrays in NumPy and explain their key features. How do they differ from standard Python lists?"
   ]
  },
  {
   "cell_type": "markdown",
   "id": "b00345e8-f917-43f3-945c-8f0e19d7c799",
   "metadata": {},
   "source": [
    "ndarrays (N-dimensional arrays) in NumPy are multi-dimensional, homogeneous arrays used for storing large datasets.\n",
    "\n",
    "Key Features:\n",
    "Homogeneous: All elements must have the same data type.\n",
    "Multidimensional: Can have multiple dimensions (1D, 2D, 3D, etc.).\n",
    "Efficient: Optimized for fast operations and low memory consumption.\n",
    "Vectorized operations: Enables element-wise operations without loops.\n",
    "\n",
    "Difference from Python Lists:\n",
    "\n",
    "Data Type: Lists can store mixed data types, whereas ndarrays are homogeneous.\n",
    "\n",
    "Memory and Performance: ndarrays are more memory-efficient and faster for numerical operations.\n",
    "\n",
    "Operations: NumPy arrays support element-wise operations, unlike Python lists."
   ]
  },
  {
   "cell_type": "code",
   "execution_count": null,
   "id": "f6451d5a-b9f3-400d-acd6-dab7ab511317",
   "metadata": {},
   "outputs": [],
   "source": []
  },
  {
   "cell_type": "markdown",
   "id": "2edf3f7f-a6d7-40b4-8e78-74b2c3eca112",
   "metadata": {},
   "source": [
    "6. Analyze the performance benefits of NumPy arrays over Python lists for large-scale numerical operations."
   ]
  },
  {
   "cell_type": "markdown",
   "id": "db54150c-f191-4a60-842a-f7c8637bb306",
   "metadata": {},
   "source": [
    "performance Benefits of NumPy Arrays over Python Lists:\n",
    "\n",
    "Memory Efficiency: NumPy arrays use a contiguous block of memory, while Python lists store pointers to objects, making NumPy arrays more memory-efficient.\n",
    "\n",
    "Faster Computations: NumPy arrays support vectorized operations, allowing element-wise calculations without loops, which is significantly faster than iterating over Python lists.\n",
    "\n",
    "Optimized for Numerical Operations: NumPy is implemented in C, offering high-performance functions for large-scale numerical tasks, while Python lists are slower for numerical computation.\n",
    "\n",
    "Lower Overhead: NumPy arrays handle large datasets with minimal overhead, whereas Python lists involve higher overhead due to dynamic typing and object storage."
   ]
  },
  {
   "cell_type": "code",
   "execution_count": null,
   "id": "c9ebd69c-6622-42ee-8aa1-53daed4ba6b8",
   "metadata": {},
   "outputs": [],
   "source": []
  },
  {
   "cell_type": "markdown",
   "id": "70bdbdb9-78a1-4a0a-a621-ec95469841a3",
   "metadata": {},
   "source": [
    "7.Compare vstack() and hstack() functions in NumPy. Provide examples demonstrating their usage and\n",
    "output."
   ]
  },
  {
   "cell_type": "markdown",
   "id": "a9781c9f-52cc-4264-a13b-45a318774f3d",
   "metadata": {},
   "source": [
    "np.vstack(): Stacks arrays vertically (row-wise).\n",
    "np.hstack(): Stacks arrays horizontally (column-wise).\n",
    "\n",
    "Examples:\n",
    "np.vstack() (vertical stacking):\n",
    "\n",
    "import numpy as np\n",
    "arr1 = np.array([1, 2, 3])\n",
    "arr2 = np.array([4, 5, 6])\n",
    "result_vstack = np.vstack((arr1, arr2))\n",
    "print(result_vstack)\n",
    "# Output:\n",
    "# [[1 2 3]\n",
    "#  [4 5 6]]\n",
    "\n",
    "np.hstack() (horizontal stacking):\n",
    "\n",
    "result_hstack = np.hstack((arr1, arr2))\n",
    "print(result_hstack)\n",
    "# Output:\n",
    "# [1 2 3 4 5 6]"
   ]
  },
  {
   "cell_type": "code",
   "execution_count": null,
   "id": "993fa811-efaf-43a7-b56a-3ec17da022cb",
   "metadata": {},
   "outputs": [],
   "source": []
  },
  {
   "cell_type": "markdown",
   "id": "beed3ba4-4557-421a-a467-a53c9f82096a",
   "metadata": {},
   "source": [
    "8.Explain the differences between fliplr() and flipud() methods in NumPy, including their effects on various\n",
    "array dimensions.\n"
   ]
  },
  {
   "cell_type": "markdown",
   "id": "390f8418-0166-4fc0-a388-4497f53289a0",
   "metadata": {},
   "source": [
    "np.fliplr(): Flips the array left to right (horizontal flip).\n",
    "\n",
    "Affects each row, reversing the order of elements in each row.\n",
    "\n",
    "Example:\n",
    "arr = np.array([[1, 2, 3], [4, 5, 6]])\n",
    "result_fliplr = np.fliplr(arr)\n",
    "print(result_fliplr)\n",
    "# Output:\n",
    "# [[3 2 1]\n",
    "#  [6 5 4]]\n",
    "np.flipud(): Flips the array upside down (vertical flip).\n",
    "\n",
    "Affects the rows, reversing the order of rows in the array.\n",
    "\n",
    "Example:\n",
    "\n",
    "result_flipud = np.flipud(arr)\n",
    "print(result_flipud)\n",
    "# Output:\n",
    "# [[4 5 6]\n",
    "#  [1 2 3]]"
   ]
  },
  {
   "cell_type": "code",
   "execution_count": null,
   "id": "8db3f451-95fb-4644-ac2c-bc81d4c87e3c",
   "metadata": {},
   "outputs": [],
   "source": []
  },
  {
   "cell_type": "markdown",
   "id": "a4f8c3ef-3f8e-4eef-9988-974d28aacda8",
   "metadata": {},
   "source": [
    "9.Discuss the functionality of the array_split() method in NumPy. How does it handle uneven splits?"
   ]
  },
  {
   "cell_type": "markdown",
   "id": "da66296c-ea4d-46d6-9c17-6899cbfc6e10",
   "metadata": {},
   "source": [
    "The np.array_split() method splits an array into multiple sub-arrays. It can split an array into a specified number of equal (or nearly equal) parts along a given axis.\n",
    "\n",
    "Functionality:\n",
    "Syntax: np.array_split(arr, indices_or_sections, axis=0)\n",
    "arr: The array to split.\n",
    "indices_or_sections: Number of splits or an array of indices to split at.\n",
    "axis: Axis along which to split (default is 0).\n",
    "\n",
    "Handling Uneven Splits:\n",
    "If the array cannot be evenly divided, np.array_split() distributes the elements as evenly as possible, with the remainder elements added to the first few sub-arrays.\n",
    "\n",
    "Example:\n",
    "import numpy as np\n",
    "arr = np.array([1, 2, 3, 4, 5, 6, 7, 8, 9])\n",
    "\n",
    "# Split into 4 parts\n",
    "result = np.array_split(arr, 4)\n",
    "print(result)\n",
    "# Output: [array([1, 2]), array([3, 4]), array([5, 6]), array([7, 8, 9])]"
   ]
  },
  {
   "cell_type": "code",
   "execution_count": null,
   "id": "f45c135f-f155-4b48-a891-f54e94ccc7b6",
   "metadata": {},
   "outputs": [],
   "source": []
  },
  {
   "cell_type": "markdown",
   "id": "d83e4a2c-3b4a-4652-872b-86c7bcce8343",
   "metadata": {},
   "source": [
    "10. Explain the concepts of vectorization and broadcasting in NumPy. How do they contribute to efficient array\n",
    "operations?"
   ]
  },
  {
   "cell_type": "markdown",
   "id": "03d2043f-263e-482b-a5ae-b2fea04ed9ce",
   "metadata": {},
   "source": [
    "Vectorization:\n",
    "\n",
    "Vectorization refers to performing element-wise operations on entire arrays without explicit loops.\n",
    "\n",
    "NumPy leverages C-level optimizations to apply operations to entire arrays, making them faster than traditional Python loops.\n",
    "\n",
    "Example:\n",
    "import numpy as np\n",
    "arr = np.array([1, 2, 3])\n",
    "result = arr * 2  # Element-wise multiplication\n",
    "print(result)  # Output: [2 4 6]\n",
    "\n",
    "Broadcasting:\n",
    "Broadcasting allows NumPy to perform operations on arrays of different shapes by \"stretching\" the smaller array across the larger one.\n",
    "It eliminates the need for manually reshaping arrays for element-wise operations.\n",
    "\n",
    "Example:\n",
    "arr1 = np.array([1, 2, 3])\n",
    "arr2 = np.array([10])\n",
    "result = arr1 + arr2  # Broadcasting arr2 to match arr1's shape\n",
    "print(result)  # Output: [11 12 13]\n",
    "\n",
    "Efficiency:\n",
    "Vectorization eliminates the need for explicit loops, speeding up operations.\n",
    "Broadcasting reduces memory usage and simplifies array manipulation, avoiding unnecessary array reshaping.\n",
    "Together, they enable efficient, fast, and memory-conserving operations on large datasets."
   ]
  },
  {
   "cell_type": "code",
   "execution_count": null,
   "id": "8e31dca1-b697-428a-bf13-7b8934d5e680",
   "metadata": {},
   "outputs": [],
   "source": []
  },
  {
   "cell_type": "markdown",
   "id": "5f3d60ed-f1f7-48ab-944d-d5caf9ad4709",
   "metadata": {},
   "source": [
    "                            Pratical Questions"
   ]
  },
  {
   "cell_type": "markdown",
   "id": "bafec6b3-6753-445f-88f9-08c46f611abb",
   "metadata": {},
   "source": [
    "1. Create a 3x3 NumPy array with random integers between 1 and 100. Then, interchange its rows and columns.\n"
   ]
  },
  {
   "cell_type": "code",
   "execution_count": 1,
   "id": "11aeeb65-7f7c-471c-b2c8-b3788015bc73",
   "metadata": {},
   "outputs": [
    {
     "name": "stdout",
     "output_type": "stream",
     "text": [
      "Original Array:\n",
      "[[46 39 83]\n",
      " [81 43 47]\n",
      " [32 21 83]]\n",
      "\n",
      "Transposed Array:\n",
      "[[46 81 32]\n",
      " [39 43 21]\n",
      " [83 47 83]]\n"
     ]
    }
   ],
   "source": [
    "import numpy as np\n",
    "\n",
    "arr = np.random.randint(1, 101, size=(3, 3))\n",
    "print(\"Original Array:\")\n",
    "print(arr)\n",
    "\n",
    "transposed_arr = arr.T\n",
    "print(\"\\nTransposed Array:\")\n",
    "print(transposed_arr)"
   ]
  },
  {
   "cell_type": "code",
   "execution_count": null,
   "id": "c9909894-f39e-4563-9fdd-36a6f26098b6",
   "metadata": {},
   "outputs": [],
   "source": []
  },
  {
   "cell_type": "markdown",
   "id": "e0df9fe1-cd45-4035-8c25-c86af27a7de0",
   "metadata": {},
   "source": [
    "2.Generate a 1D NumPy array with 10 elements. Reshape it into a 2x5 array, then into a 5x2 array."
   ]
  },
  {
   "cell_type": "code",
   "execution_count": 2,
   "id": "221386e4-3553-4860-995a-b949882e7905",
   "metadata": {},
   "outputs": [
    {
     "name": "stdout",
     "output_type": "stream",
     "text": [
      "Original 1D Array:\n",
      "[0 1 2 3 4 5 6 7 8 9]\n",
      "\n",
      "Reshaped into 2x5 Array:\n",
      "[[0 1 2 3 4]\n",
      " [5 6 7 8 9]]\n",
      "\n",
      "Reshaped into 5x2 Array:\n",
      "[[0 1]\n",
      " [2 3]\n",
      " [4 5]\n",
      " [6 7]\n",
      " [8 9]]\n"
     ]
    }
   ],
   "source": [
    "import numpy as np\n",
    "\n",
    "arr = np.arange(10)\n",
    "print(\"Original 1D Array:\")\n",
    "print(arr)\n",
    "\n",
    "arr_2x5 = arr.reshape(2, 5)\n",
    "print(\"\\nReshaped into 2x5 Array:\")\n",
    "print(arr_2x5)\n",
    "\n",
    "arr_5x2 = arr.reshape(5, 2)\n",
    "print(\"\\nReshaped into 5x2 Array:\")\n",
    "print(arr_5x2)"
   ]
  },
  {
   "cell_type": "code",
   "execution_count": null,
   "id": "6eef38b1-504f-4995-a9d4-6ad80dc1d459",
   "metadata": {},
   "outputs": [],
   "source": []
  },
  {
   "cell_type": "markdown",
   "id": "32da7344-3dec-475c-a5d3-e1064d03c64c",
   "metadata": {},
   "source": [
    "3.Create a 4x4 NumPy array with random float values. Add a border of zeros around it, resulting in a 6x6 array."
   ]
  },
  {
   "cell_type": "code",
   "execution_count": 3,
   "id": "703722e2-cec1-4d3c-9ea4-5e30c770f4ce",
   "metadata": {},
   "outputs": [
    {
     "name": "stdout",
     "output_type": "stream",
     "text": [
      "Original 4x4 Array:\n",
      "[[0.80192943 0.55254876 0.25403215 0.63246042]\n",
      " [0.45406336 0.6014521  0.14655288 0.58865177]\n",
      " [0.84083816 0.27569629 0.31637154 0.84403182]\n",
      " [0.54909901 0.08035277 0.60036305 0.51802831]]\n",
      "\n",
      "Array with Zero Border (6x6):\n",
      "[[0.         0.         0.         0.         0.         0.        ]\n",
      " [0.         0.80192943 0.55254876 0.25403215 0.63246042 0.        ]\n",
      " [0.         0.45406336 0.6014521  0.14655288 0.58865177 0.        ]\n",
      " [0.         0.84083816 0.27569629 0.31637154 0.84403182 0.        ]\n",
      " [0.         0.54909901 0.08035277 0.60036305 0.51802831 0.        ]\n",
      " [0.         0.         0.         0.         0.         0.        ]]\n"
     ]
    }
   ],
   "source": [
    "import numpy as np\n",
    "arr = np.random.random((4, 4))\n",
    "print(\"Original 4x4 Array:\")\n",
    "print(arr)\n",
    "\n",
    "arr_with_border = np.pad(arr, pad_width=1, mode='constant', constant_values=0)\n",
    "print(\"\\nArray with Zero Border (6x6):\")\n",
    "print(arr_with_border)"
   ]
  },
  {
   "cell_type": "code",
   "execution_count": null,
   "id": "4b296db8-f09a-4035-b283-9f7747742036",
   "metadata": {},
   "outputs": [],
   "source": []
  },
  {
   "cell_type": "markdown",
   "id": "970323fe-1f27-42ab-a633-99a5976b526f",
   "metadata": {},
   "source": [
    "4. Using NumPy, create an array of integers from 10 to 60 with a step of 5."
   ]
  },
  {
   "cell_type": "code",
   "execution_count": 4,
   "id": "be56ea21-93a6-4b83-8ff9-6ff00f5f9711",
   "metadata": {},
   "outputs": [
    {
     "name": "stdout",
     "output_type": "stream",
     "text": [
      "[10 15 20 25 30 35 40 45 50 55 60]\n"
     ]
    }
   ],
   "source": [
    "import numpy as np\n",
    "arr = np.arange(10, 61, 5)\n",
    "print(arr)"
   ]
  },
  {
   "cell_type": "code",
   "execution_count": null,
   "id": "866b805c-81dd-47d4-8e4c-5475b1c838b6",
   "metadata": {},
   "outputs": [],
   "source": []
  },
  {
   "cell_type": "markdown",
   "id": "d9ee9545-6048-41c3-9187-53480de3bf6a",
   "metadata": {},
   "source": [
    "5.  Create a NumPy array of strings ['python', 'numpy', 'pandas']. Apply different case transformations\n",
    "(uppercase, lowercase, title case, etc.) to each element"
   ]
  },
  {
   "cell_type": "code",
   "execution_count": 5,
   "id": "747b62e0-2d16-4f6d-b3ac-5b2e2477513f",
   "metadata": {},
   "outputs": [
    {
     "name": "stdout",
     "output_type": "stream",
     "text": [
      "Uppercase: ['PYTHON' 'NUMPY' 'PANDAS']\n",
      "Lowercase: ['python' 'numpy' 'pandas']\n",
      "Titlecase: ['Python' 'Numpy' 'Pandas']\n"
     ]
    }
   ],
   "source": [
    "import numpy as np\n",
    "arr = np.array(['python', 'numpy', 'pandas'])\n",
    "\n",
    "uppercase_arr = np.char.upper(arr)\n",
    "lowercase_arr = np.char.lower(arr)\n",
    "titlecase_arr = np.char.title(arr)\n",
    "\n",
    "print(\"Uppercase:\", uppercase_arr)\n",
    "print(\"Lowercase:\", lowercase_arr)\n",
    "print(\"Titlecase:\", titlecase_arr)"
   ]
  },
  {
   "cell_type": "code",
   "execution_count": null,
   "id": "079ca5be-15d6-4d14-8e2b-1b94336e973c",
   "metadata": {},
   "outputs": [],
   "source": []
  },
  {
   "cell_type": "markdown",
   "id": "80b13e55-e7ce-49b2-8e08-30799566ffff",
   "metadata": {},
   "source": [
    "6.  Generate a NumPy array of words. Insert a space between each character of every word in the array."
   ]
  },
  {
   "cell_type": "code",
   "execution_count": 6,
   "id": "0bb6992c-3356-45c8-817f-ce63d1d4031d",
   "metadata": {},
   "outputs": [
    {
     "name": "stdout",
     "output_type": "stream",
     "text": [
      "['p y t h o n' 'n u m p y' 'p a n d a s']\n"
     ]
    }
   ],
   "source": [
    "import numpy as np\n",
    "arr = np.array(['python', 'numpy', 'pandas'])\n",
    "spaced_arr = np.char.join(' ', arr)\n",
    "\n",
    "print(spaced_arr)"
   ]
  },
  {
   "cell_type": "code",
   "execution_count": null,
   "id": "c6c843e5-173c-4245-b863-4345d5e5b1d4",
   "metadata": {},
   "outputs": [],
   "source": []
  },
  {
   "cell_type": "markdown",
   "id": "5771e3cc-2953-470a-86cf-1771000e18b5",
   "metadata": {},
   "source": [
    "7. Create two 2D NumPy arrays and perform element-wise addition, subtraction, multiplication, and division."
   ]
  },
  {
   "cell_type": "code",
   "execution_count": 7,
   "id": "885bcc26-f44c-4e6b-8e62-effa95e1b1a0",
   "metadata": {},
   "outputs": [
    {
     "name": "stdout",
     "output_type": "stream",
     "text": [
      "Addition:\n",
      " [[ 6  8]\n",
      " [10 12]]\n",
      "Subtraction:\n",
      " [[-4 -4]\n",
      " [-4 -4]]\n",
      "Multiplication:\n",
      " [[ 5 12]\n",
      " [21 32]]\n",
      "Division:\n",
      " [[0.2        0.33333333]\n",
      " [0.42857143 0.5       ]]\n"
     ]
    }
   ],
   "source": [
    "import numpy as np\n",
    "\n",
    "arr1 = np.array([[1, 2], [3, 4]])\n",
    "arr2 = np.array([[5, 6], [7, 8]])\n",
    "\n",
    "addition = arr1 + arr2\n",
    "subtraction = arr1 - arr2\n",
    "multiplication = arr1 * arr2\n",
    "division = arr1 / arr2\n",
    "\n",
    "print(\"Addition:\\n\", addition)\n",
    "print(\"Subtraction:\\n\", subtraction)\n",
    "print(\"Multiplication:\\n\", multiplication)\n",
    "print(\"Division:\\n\", division)"
   ]
  },
  {
   "cell_type": "code",
   "execution_count": null,
   "id": "2cde3c96-511d-4d49-8b65-f74502e2bf0c",
   "metadata": {},
   "outputs": [],
   "source": []
  },
  {
   "cell_type": "markdown",
   "id": "020c64ba-1a28-4637-81b1-2a4bdb5199c4",
   "metadata": {},
   "source": [
    "8. Use NumPy to create a 5x5 identity matrix, then extract its diagonal elements."
   ]
  },
  {
   "cell_type": "code",
   "execution_count": 8,
   "id": "5029ec76-3e78-4fe5-a415-c861606d53f6",
   "metadata": {},
   "outputs": [
    {
     "name": "stdout",
     "output_type": "stream",
     "text": [
      "Identity Matrix:\n",
      " [[1. 0. 0. 0. 0.]\n",
      " [0. 1. 0. 0. 0.]\n",
      " [0. 0. 1. 0. 0.]\n",
      " [0. 0. 0. 1. 0.]\n",
      " [0. 0. 0. 0. 1.]]\n",
      "Diagonal Elements: [1. 1. 1. 1. 1.]\n"
     ]
    }
   ],
   "source": [
    "import numpy as np\n",
    "identity_matrix = np.eye(5)\n",
    "\n",
    "diagonal_elements = np.diagonal(identity_matrix)\n",
    "\n",
    "print(\"Identity Matrix:\\n\", identity_matrix)\n",
    "print(\"Diagonal Elements:\", diagonal_elements)"
   ]
  },
  {
   "cell_type": "code",
   "execution_count": null,
   "id": "2e6ab530-f0fb-4b3c-a02e-640fde12f3d8",
   "metadata": {},
   "outputs": [],
   "source": []
  },
  {
   "cell_type": "markdown",
   "id": "de194354-9a33-41e6-ab20-bf30d180a9e3",
   "metadata": {},
   "source": [
    "9. Generate a NumPy array of 100 random integers between 0 and 1000. Find and display all prime numbers in\n",
    "this array"
   ]
  },
  {
   "cell_type": "code",
   "execution_count": 9,
   "id": "06fec96b-b9cc-4b71-a22a-fbd81ba358a4",
   "metadata": {},
   "outputs": [
    {
     "name": "stdout",
     "output_type": "stream",
     "text": [
      "Array: [ 812   26  305   45  486  929  203  536  597  644  573  927  563  834\n",
      "  939  962  238 1000  493  560  214  566  100  973  408  543  152  172\n",
      "   33  862  210  686  498  578  762    6  526  370  554  191  964  101\n",
      "  848  107  499  751  344  331  441  712  286  918   95  464  434  390\n",
      "  746  688    7  491  600  264  842  265  137  511  363  901  624  262\n",
      "  421  851  454  350  340  934   76  962  251   14  595  151  242  619\n",
      "  941  465  121   67  828  252   64  779   63  815  432  941  255  488\n",
      "  723  301]\n",
      "Prime Numbers: [np.int32(929), np.int32(563), np.int32(191), np.int32(101), np.int32(107), np.int32(499), np.int32(751), np.int32(331), np.int32(7), np.int32(491), np.int32(137), np.int32(421), np.int32(251), np.int32(151), np.int32(619), np.int32(941), np.int32(67), np.int32(941)]\n"
     ]
    }
   ],
   "source": [
    "import numpy as np\n",
    "arr = np.random.randint(0, 1001, size=100)\n",
    "\n",
    "def is_prime(n):\n",
    "    if n < 2:\n",
    "        return False\n",
    "    for i in range(2, int(n**0.5) + 1):\n",
    "        if n % i == 0:\n",
    "            return False\n",
    "    return True\n",
    "\n",
    "primes = [num for num in arr if is_prime(num)]\n",
    "\n",
    "print(\"Array:\", arr)\n",
    "print(\"Prime Numbers:\", primes)"
   ]
  },
  {
   "cell_type": "code",
   "execution_count": null,
   "id": "445cf65b-d1b8-4834-a3e4-6d9495828c7f",
   "metadata": {},
   "outputs": [],
   "source": []
  },
  {
   "cell_type": "markdown",
   "id": "44c67e93-8d7e-4aa9-894d-0d5686016401",
   "metadata": {},
   "source": [
    "10. Create a NumPy array representing daily temperatures for a month. Calculate and display the weekly\n",
    "averages."
   ]
  },
  {
   "cell_type": "code",
   "execution_count": 13,
   "id": "808d97ca-c86f-4a45-b50b-0aedc660e337",
   "metadata": {},
   "outputs": [
    {
     "name": "stdout",
     "output_type": "stream",
     "text": [
      "Daily Temperatures: [ 2 23 23 11 26 28 32  0 25 17 17 13 27 12  4 20 25 30 16 31 11 19 31 17\n",
      "  5 31  7 23]\n",
      "Weekly Temperatures:\n",
      " [[ 2 23 23 11 26 28 32]\n",
      " [ 0 25 17 17 13 27 12]\n",
      " [ 4 20 25 30 16 31 11]\n",
      " [19 31 17  5 31  7 23]]\n",
      "Weekly Averages: [20.71428571 15.85714286 19.57142857 19.        ]\n"
     ]
    }
   ],
   "source": [
    "import numpy as np\n",
    "temperatures = np.random.randint(0, 35, size=28)\n",
    "\n",
    "weekly_temperatures = temperatures.reshape(4, 7)\n",
    "\n",
    "weekly_averages = weekly_temperatures.mean(axis=1)\n",
    "\n",
    "print(\"Daily Temperatures:\", temperatures)\n",
    "print(\"Weekly Temperatures:\\n\", weekly_temperatures)\n",
    "print(\"Weekly Averages:\", weekly_averages)"
   ]
  },
  {
   "cell_type": "code",
   "execution_count": null,
   "id": "e24b636b-ecca-407b-8e9b-06a0a9691924",
   "metadata": {},
   "outputs": [],
   "source": []
  }
 ],
 "metadata": {
  "kernelspec": {
   "display_name": "Python 3 (ipykernel)",
   "language": "python",
   "name": "python3"
  },
  "language_info": {
   "codemirror_mode": {
    "name": "ipython",
    "version": 3
   },
   "file_extension": ".py",
   "mimetype": "text/x-python",
   "name": "python",
   "nbconvert_exporter": "python",
   "pygments_lexer": "ipython3",
   "version": "3.12.6"
  }
 },
 "nbformat": 4,
 "nbformat_minor": 5
}
