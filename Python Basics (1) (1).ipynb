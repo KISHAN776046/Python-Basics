{
 "cells": [
  {
   "cell_type": "markdown",
   "id": "124fa8c9-b1ba-4ec7-8e8d-60d2ed199c0c",
   "metadata": {},
   "source": [
    "1.Explain the key features of Python that make it a popular choice for programming."
   ]
  },
  {
   "cell_type": "markdown",
   "id": "5fbab2df-dc6f-4a44-8e6d-e670ec6a959f",
   "metadata": {},
   "source": [
    "Python is a widely popular programming language, and its popularity stems from several key features:\n",
    "\n",
    "1. Easy to Learn and Use:\n",
    "   Python's syntax is simple, clean, and close to natural language, making it an excellent choice for        beginners and experienced developers alike.\n",
    "2. Interpreted Language:\n",
    "   Python is an interpreted language, meaning code is executed line-by-line. This makes debugging easier     and allows for immediate feedback.\n",
    "3. Versatile and Multi-Paradigm:\n",
    "   Python supports multiple programming paradigms:\n",
    "   Object-Oriented Programming (OOP): Organizes code using classes and objects.\n",
    "   Procedural Programming: Follows a step-by-step approach.\n",
    "   Functional Programming: Supports functions as first-class objects.\n",
    "4. Extensive Standard Library:\n",
    "   Python comes with a vast standard library, providing modules for tasks like file handling, regular        expressions, web development, and more, reducing the need for external libraries.\n",
    "5. Platform Independence:\n",
    "   Python is platform-independent (write once, run anywhere). Code written in Python can run on different    operating systems with little to no modification.\n",
    "6. Dynamic Typing:\n",
    "   Variables in Python don’t require explicit type definitions, making development faster and more           flexible.\n",
    "7. Large Ecosystem of Libraries and Frameworks:\n",
    "   Python has a rich ecosystem of third-party libraries for various domains:\n",
    "   Data Science and Machine Learning: NumPy, pandas, scikit-learn, TensorFlow.\n",
    "   Web Development: Django, Flask.\n",
    "   Game Development: Pygame.\n",
    "   Automation: Selenium, BeautifulSoup.\n",
    "8. Community Support:\n",
    "   Python has an enormous and active community, ensuring extensive documentation, tutorials, and forums      for troubleshooting.\n",
    "9. Integration Capabilities:\n",
    "   Python can integrate with other languages like C, C++, and Java and supports interoperability with        databases, making it versatile for different projects.\n",
    "10.Readability and Maintainability:\n",
    "   Python enforces indentation and has a clear syntax, promoting better code readability and                 maintainability over time.\n",
    "These features make Python a go-to choice for a wide range of applications, including web development, data analysis, artificial intelligence, scientific computing, and more."
   ]
  },
  {
   "cell_type": "code",
   "execution_count": null,
   "id": "be0df6a8-a26e-41c0-b89b-6240127666b7",
   "metadata": {},
   "outputs": [],
   "source": []
  },
  {
   "cell_type": "markdown",
   "id": "3ff645d1-39df-4c09-95cf-06b907da2ad9",
   "metadata": {},
   "source": [
    "2.Describe the role of predefined keywords in Python and provide examples of how they are used in a\n",
    "program."
   ]
  },
  {
   "cell_type": "markdown",
   "id": "a0fb5498-4b07-4762-991d-15e5fda98282",
   "metadata": {},
   "source": [
    "Role of Predefined Keywords in Python:\n",
    "Predefined keywords in Python are reserved words that have specific meanings and purposes in the   language. They are used to define the structure and syntax of the code and cannot be used as identifiers (like variable or function names). These keywords enable Python to execute commands and implement logic effectively."
   ]
  },
  {
   "cell_type": "markdown",
   "id": "014fc410-3c0d-4a5a-8131-09b20f801237",
   "metadata": {},
   "source": [
    "Examples of Python Keywords and Their Usage:\n",
    "Here are a few commonly used Python keywords and examples of how they are used in a program:"
   ]
  },
  {
   "cell_type": "raw",
   "id": "af369d33-2251-4a08-9073-07f12ee1b012",
   "metadata": {},
   "source": [
    "1.if, elif, else\n",
    "Used for conditional statements to control program flow."
   ]
  },
  {
   "cell_type": "code",
   "execution_count": 1,
   "id": "3816ec0d-b881-4f5b-a503-ef3534d2b468",
   "metadata": {},
   "outputs": [
    {
     "name": "stdout",
     "output_type": "stream",
     "text": [
      "x is greater than 5\n"
     ]
    }
   ],
   "source": [
    "x = 10\n",
    "if x > 5:\n",
    "    print(\"x is greater than 5\")\n",
    "elif x == 5:\n",
    "    print(\"x is equal to 5\")\n",
    "else:\n",
    "    print(\"x is less than 5\")\n"
   ]
  },
  {
   "cell_type": "markdown",
   "id": "f4041dc4-a655-414e-897a-2006348f17d7",
   "metadata": {},
   "source": [
    "2.for, while\n",
    "Used to create loops for iterating over sequences or executing a block of code repeatedly."
   ]
  },
  {
   "cell_type": "code",
   "execution_count": 2,
   "id": "1a3bf5f4-ef28-4612-9ea5-fd6a4d42b819",
   "metadata": {},
   "outputs": [
    {
     "name": "stdout",
     "output_type": "stream",
     "text": [
      "Iteration 0\n",
      "Iteration 1\n",
      "Iteration 2\n",
      "Count is 0\n",
      "Count is 1\n",
      "Count is 2\n"
     ]
    }
   ],
   "source": [
    "for i in range(3):\n",
    "    print(\"Iteration\", i)\n",
    "\n",
    "count = 0\n",
    "while count < 3:\n",
    "    print(\"Count is\", count)\n",
    "    count += 1\n"
   ]
  },
  {
   "cell_type": "markdown",
   "id": "9cb70f47-d59c-4147-aea7-2861ed550200",
   "metadata": {},
   "source": [
    "3.def, return\n",
    "Used to define functions and return values from them."
   ]
  },
  {
   "cell_type": "code",
   "execution_count": 3,
   "id": "5ce32c06-eecb-4ba5-bfac-3d7a85bf5f0a",
   "metadata": {},
   "outputs": [
    {
     "name": "stdout",
     "output_type": "stream",
     "text": [
      "Hello, Alice!\n"
     ]
    }
   ],
   "source": [
    "def greet(name):\n",
    "    return f\"Hello, {name}!\"\n",
    "\n",
    "print(greet(\"Alice\"))\n"
   ]
  },
  {
   "cell_type": "markdown",
   "id": "49edaeee-affc-4950-9e0d-adfa1d2a07e8",
   "metadata": {},
   "source": [
    "4.class, self\n",
    "Used to define classes and refer to the instance within methods."
   ]
  },
  {
   "cell_type": "code",
   "execution_count": 4,
   "id": "45eeee06-8c13-4911-9552-3bce67a26103",
   "metadata": {},
   "outputs": [
    {
     "name": "stdout",
     "output_type": "stream",
     "text": [
      "Hi, I am Alice\n"
     ]
    }
   ],
   "source": [
    "class Person:\n",
    "    def __init__(self, name):\n",
    "        self.name = name\n",
    "\n",
    "    def greet(self):\n",
    "        print(f\"Hi, I am {self.name}\")\n",
    "\n",
    "person = Person(\"Alice\")\n",
    "person.greet()\n"
   ]
  },
  {
   "cell_type": "code",
   "execution_count": null,
   "id": "4a5cc100-f408-4ad7-8d0d-87eb0a6f8dd2",
   "metadata": {},
   "outputs": [],
   "source": []
  },
  {
   "cell_type": "markdown",
   "id": "a3d46e54-1ea5-452b-bfae-d1d9d03b5d4c",
   "metadata": {},
   "source": [
    "3.Compare and contrast mutable and immutable objects in Python with examples."
   ]
  },
  {
   "cell_type": "markdown",
   "id": "c6184b91-4792-4def-845f-6c9e6cfa98bf",
   "metadata": {},
   "source": [
    "Mutable vs Immutable Objects in Python\n",
    "In Python, objects are categorized as mutable or immutable based on whether their value or state can be changed after creation.\n",
    "\n",
    "1. Mutable Objects\n",
    "Definition: Mutable objects can be modified after they are created.\n",
    "Examples: list, dict, set, bytearray.\n",
    "Behavior: You can change the content or structure without creating a new object.\n",
    "\n",
    "Example: Mutable Object (List)\n",
    "# Create a list\n",
    "my_list = [1, 2, 3]\n",
    "\n",
    "# Modify the list\n",
    "my_list[0] = 10\n",
    "my_list.append(4)\n",
    "\n",
    "print(my_list)  # Output: [10, 2, 3, 4]\n",
    "\n",
    "\n",
    "2. Immutable Objects\n",
    "Definition: Immutable objects cannot be modified after they are created. Any \"modification\" creates a new object.\n",
    "Examples: int, float, tuple, str, frozenset, bytes.\n",
    "Behavior: Attempting to modify an immutable object results in the creation of a new object.\n",
    "\n",
    "Example: Immutable Object (String)\n",
    "# Create a string\n",
    "my_string = \"Hello\"\n",
    "\n",
    "# Try to modify the string\n",
    "my_string = my_string + \" World\"\n",
    "\n",
    "print(my_string)  # Output: \"Hello World\"\n"
   ]
  },
  {
   "cell_type": "code",
   "execution_count": null,
   "id": "78830796-ea08-4b07-8a62-daa260f91ad5",
   "metadata": {},
   "outputs": [],
   "source": []
  },
  {
   "cell_type": "markdown",
   "id": "58aa37fb-4d75-4567-bc57-14a5cd717abc",
   "metadata": {},
   "source": [
    "4.Discuss the different types of operators in Python and provide examples of how they are used."
   ]
  },
  {
   "cell_type": "markdown",
   "id": "2afa1050-7497-4665-8e48-7a9917f750e8",
   "metadata": {},
   "source": [
    "Different types of operators:\n",
    "\n",
    "1.Airthmatic(+,-,*,/)\n",
    "eg:a, b = 5, 3\n",
    "print(a + b)  # Output: 8\n",
    "print(a ** b)  # Output: 125\n",
    "\n",
    "2.Comparison(== , != , > , <,<=,>=)\n",
    "eg:x, y = 5, 3\n",
    "print(x > y)  # Output: True\n",
    "print(x == y)  # Output: False\n",
    "\n",
    "3.Logical(and,or,not)\n",
    "eg:x = 5\n",
    "print(x > 3 and x < 10)  # Output: True\n",
    "print(not(x > 3))  # Output: False\n",
    "\n",
    "4.Assignment(=,+=,-=,)\n",
    "eg:x = 5\n",
    "x += 3\n",
    "print(x)  # Output: 8\n",
    "\n"
   ]
  },
  {
   "cell_type": "code",
   "execution_count": null,
   "id": "1303006b-cca8-455e-836d-3efb9d975e41",
   "metadata": {},
   "outputs": [],
   "source": []
  },
  {
   "cell_type": "markdown",
   "id": "919a884c-4039-4d97-8176-dfa8255b8a6a",
   "metadata": {},
   "source": [
    "5.Explain the concept of type casting in Python with examples."
   ]
  },
  {
   "cell_type": "markdown",
   "id": "70414f88-f6b8-4ba4-ab6e-64931ec81843",
   "metadata": {},
   "source": [
    "Type casting in Python refers to converting one data type into another. This is useful when you need to perform operations involving incompatible types or when you want to explicitly control the data type.\n",
    "Python supports two types of type casting:\n",
    "1.Implicite\n",
    "2.Explicite\n",
    "\n",
    "Example for typecasting:\n",
    "num = 5\n",
    "converted = float(num)\n",
    "print(converted)  # Output: 5.0\n",
    "print(type(converted))  # Output: <class 'float'>\n"
   ]
  },
  {
   "cell_type": "code",
   "execution_count": null,
   "id": "71581036-4047-463b-a69a-3e1105e94ca3",
   "metadata": {},
   "outputs": [],
   "source": []
  },
  {
   "cell_type": "markdown",
   "id": "49c84d38-19fe-4534-a34e-4314fbf897ee",
   "metadata": {},
   "source": [
    "6.How do conditional statements work in Python? Illustrate with examples0"
   ]
  },
  {
   "cell_type": "markdown",
   "id": "b804c2b4-46a2-4d1f-908c-136550ed7a92",
   "metadata": {},
   "source": [
    "Conditional statements allow Python programs to make decisions and execute specific blocks of code based on certain conditions. These conditions are evaluated as either True or False, and the appropriate code block is executed accordingly.\n",
    "\n",
    "eg:score = 85\n",
    "\n",
    "if score >= 90:\n",
    "    grade = \"A\"\n",
    "elif score >= 80:\n",
    "    grade = \"B\"\n",
    "elif score >= 70:\n",
    "    grade = \"C\"\n",
    "elif score >= 60:\n",
    "    grade = \"D\"\n",
    "else:\n",
    "    grade = \"F\"\n",
    "\n",
    "print(f\"The grade is {grade}\")  # Output: The grade is B\n"
   ]
  },
  {
   "cell_type": "code",
   "execution_count": null,
   "id": "9c88800e-9686-4e84-9bfb-08ee4e6fd8c7",
   "metadata": {},
   "outputs": [],
   "source": []
  },
  {
   "cell_type": "markdown",
   "id": "723f4875-16d3-46d7-8ae8-c5c0a26d2009",
   "metadata": {},
   "source": [
    "7.Describe the different types of loops in Python and their use cases with examples."
   ]
  },
  {
   "cell_type": "markdown",
   "id": "7242bd4c-28e7-43b2-8137-ae46e486db1f",
   "metadata": {},
   "source": [
    "Types of loops:\n",
    "\n",
    "1.for loop\n",
    "  Use Cases:\n",
    "    Iterating over items in a collection.\n",
    "    Performing a fixed number of iterations.\n",
    "    Applying an operation to every element in a sequence.\n",
    "  eg:\n",
    "    fruits = [\"apple\", \"banana\", \"cherry\"]\n",
    "    for fruit in fruits:\n",
    "    print(fruit)\n",
    "    # Output:\n",
    "    # apple\n",
    "    # banana\n",
    "    # cherry\n",
    "\n",
    "2.while loop\n",
    "  Use cases:\n",
    "    When the number of iterations is unknown beforehand.\n",
    "    Running until a specific condition is met.\n",
    "  eg:\n",
    "    count = 0\n",
    "    while count < 5:\n",
    "    print(count)\n",
    "    count += 1\n",
    "    # Output:\n",
    "    # 0\n",
    "    # 1\n",
    "    # 2\n",
    "    # 3\n",
    "    # 4"
   ]
  }
 ],
 "metadata": {
  "kernelspec": {
   "display_name": "Python 3 (ipykernel)",
   "language": "python",
   "name": "python3"
  },
  "language_info": {
   "codemirror_mode": {
    "name": "ipython",
    "version": 3
   },
   "file_extension": ".py",
   "mimetype": "text/x-python",
   "name": "python",
   "nbconvert_exporter": "python",
   "pygments_lexer": "ipython3",
   "version": "3.12.6"
  }
 },
 "nbformat": 4,
 "nbformat_minor": 5
}
