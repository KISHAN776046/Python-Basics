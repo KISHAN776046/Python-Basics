{
 "cells": [
  {
   "cell_type": "markdown",
   "id": "a6ae1e6e-3835-4ae0-a59d-eff558023e36",
   "metadata": {},
   "source": [
    "1.What are data structures, and why are they important."
   ]
  },
  {
   "cell_type": "markdown",
   "id": "1f563a96-8d78-4ce5-9434-6a73ec27edbb",
   "metadata": {},
   "source": [
    "Data structures are ways to organize, store and manage data effeiently for easy access and modification.\n",
    "Importance:\n",
    "a. optimize performance\n",
    "b. enable efficient algorithms\n",
    "c. solve complex problems effectivelly\n",
    "d. aid in memory managemnet"
   ]
  },
  {
   "cell_type": "code",
   "execution_count": null,
   "id": "894fdf15-2cc9-4e7e-b22b-ed8025372fd0",
   "metadata": {},
   "outputs": [],
   "source": []
  },
  {
   "cell_type": "markdown",
   "id": "16d4f972-b17f-4268-bd25-c93b0b31174b",
   "metadata": {},
   "source": [
    "2.Explain the difference between mutable and immutable datatypes with examples."
   ]
  },
  {
   "cell_type": "markdown",
   "id": "29a4d230-54ee-4958-b465-8cde562ec41f",
   "metadata": {},
   "source": [
    "Mutable: The elements can be changed after the creation.\n",
    "     eg: list,set.\n",
    "\n",
    "Immutable: The elements cannot be changed after the creation.\n",
    "       eg: tuple, string"
   ]
  },
  {
   "cell_type": "code",
   "execution_count": null,
   "id": "4933e2af-fff1-435e-8524-ec48ce1ce527",
   "metadata": {},
   "outputs": [],
   "source": []
  },
  {
   "cell_type": "markdown",
   "id": "46b72d7e-1f43-45f8-b730-c726c24e7993",
   "metadata": {},
   "source": [
    "3.What are the main difference between list and tuples in puthon?"
   ]
  },
  {
   "cell_type": "markdown",
   "id": "18930e37-3ff3-4c8a-b38b-945dac85ce6b",
   "metadata": {},
   "source": [
    "The differences between list and tuples are.\n",
    " 1. List: a) List are mutable.\n",
    "          b) Slower due to flexibility.\n",
    "          c) Defined with squared brackets.[1,2,3]\n",
    "\n",
    " 2. Tuple: a) Tuples are immutable.\n",
    "           b) Faster and memory effiecient.\n",
    "           c) Defined with paranthesis.(1,2,3)"
   ]
  },
  {
   "cell_type": "code",
   "execution_count": null,
   "id": "51ef1929-ade2-40c7-b972-d03058cbf83e",
   "metadata": {},
   "outputs": [],
   "source": []
  },
  {
   "cell_type": "markdown",
   "id": "974f50f4-61d5-4867-a466-0f662e0fc745",
   "metadata": {},
   "source": [
    "4. Descibe how dictionaries store data."
   ]
  },
  {
   "cell_type": "markdown",
   "id": "7f63e0e6-c0e0-4b26-a58d-fee14bb92ec9",
   "metadata": {},
   "source": [
    "Dictionaries are stored in the form of key-value pair.Each key is unique which means, key is immutable. and the value can be mutable.\n",
    "eg: my_dict= {\"name\":\"alice\", \"age\":25}"
   ]
  },
  {
   "cell_type": "code",
   "execution_count": null,
   "id": "7d7915fe-7939-4244-b82a-955940f4b1bc",
   "metadata": {},
   "outputs": [],
   "source": []
  },
  {
   "cell_type": "markdown",
   "id": "f9aed5c7-5439-4b4c-a9e7-f5e82782d267",
   "metadata": {},
   "source": [
    "5. Why might you use a set instead of a list in python?"
   ]
  },
  {
   "cell_type": "markdown",
   "id": "a7012177-842d-42ba-9fc2-02f48c188702",
   "metadata": {},
   "source": [
    "We use set instead of list in python because,\n",
    "a) Uniqness.\n",
    "b) Fast operation.\n",
    "c) order doesnt matter."
   ]
  },
  {
   "cell_type": "code",
   "execution_count": null,
   "id": "f28ac134-4e6c-411a-8019-f2b759e16c24",
   "metadata": {},
   "outputs": [],
   "source": []
  },
  {
   "cell_type": "markdown",
   "id": "b9698e35-d29b-4029-bb61-168ff461c877",
   "metadata": {},
   "source": [
    "6. What is a string in python and how it is different from list?"
   ]
  },
  {
   "cell_type": "markdown",
   "id": "3ae4f23c-fe3f-41b3-ac9d-7bf43209048b",
   "metadata": {},
   "source": [
    "String is a sequence of characters closed with \" \" (quotes).\n",
    "Difference between string and list is,\n",
    "a) String is immutable and list is mutable.\n",
    "b) String is homogenious which means it only contains characters. and list is heterogeneous which means it contains all data types.\n",
    "c) syntax: String use quotes(\" \") and list use "
   ]
  },
  {
   "cell_type": "code",
   "execution_count": null,
   "id": "a577c226-fd4d-4cbe-8806-2c592b3873db",
   "metadata": {},
   "outputs": [],
   "source": []
  },
  {
   "cell_type": "markdown",
   "id": "c21dae49-a25c-4025-adb2-65dd22923876",
   "metadata": {},
   "source": [
    "7. How do tuples ensure data integrity in python?"
   ]
  },
  {
   "cell_type": "markdown",
   "id": "4ea269eb-bf45-4e34-991f-9c3d8178e604",
   "metadata": {},
   "source": [
    "Tuples ensure data integrity in Python because they are immutable, meaning their elements cannot be modified after creation. This protects data from accidental changes, making tuples ideal for storing constants or fixed collections of data.\n",
    "coordinates = (10, 20)  # Immutable, ensures the values remain unchanged.\n",
    "coordinates[0] = 30  # Raises TypeError\n"
   ]
  },
  {
   "cell_type": "code",
   "execution_count": null,
   "id": "70ce5493-83bc-4732-b691-728df5b34df6",
   "metadata": {},
   "outputs": [],
   "source": []
  },
  {
   "cell_type": "markdown",
   "id": "5a4cb339-3ded-4149-a0a1-518235522dd7",
   "metadata": {},
   "source": [
    "8. What is a hash table, and how does it relate to dictionaries in Python?"
   ]
  },
  {
   "cell_type": "markdown",
   "id": "a25848d8-ab4a-4bb0-9e66-574004d212a1",
   "metadata": {},
   "source": [
    "A hash table is a data structure that stores key-value pairs using a hash function to map keys to unique indices in a table.\n",
    "\n",
    "In Python, dictionaries are implemented using hash tables. Keys are hashed to generate an index, enabling fast lookups, insertions, and deletions."
   ]
  },
  {
   "cell_type": "code",
   "execution_count": null,
   "id": "49dfbbf9-f0f9-46fa-8660-d35274a58740",
   "metadata": {},
   "outputs": [],
   "source": []
  },
  {
   "cell_type": "markdown",
   "id": "9c555844-1cdc-4291-9e54-9ab0d31fe4c8",
   "metadata": {},
   "source": [
    "9. Can lists contain different data types in python?"
   ]
  },
  {
   "cell_type": "markdown",
   "id": "c1af8bff-b847-4a9a-b420-f0c278f2a238",
   "metadata": {},
   "source": [
    "Yes. List can contain different data types in python . which we call it as heterogeneous."
   ]
  },
  {
   "cell_type": "code",
   "execution_count": null,
   "id": "de3c818a-cac5-4a03-a6d2-51d1ee7dab3a",
   "metadata": {},
   "outputs": [],
   "source": []
  },
  {
   "cell_type": "markdown",
   "id": "87b555b6-f1a1-4fc9-be33-26eceb654dd3",
   "metadata": {},
   "source": [
    "10. Explain why strings are immutable in Python?"
   ]
  },
  {
   "cell_type": "markdown",
   "id": "83c1fae2-7cab-4fb0-ba5f-6f48d27188c9",
   "metadata": {},
   "source": [
    "Enhance Performance: Immutable objects allow for optimizations like string interning, improving memory and speed.\n",
    "Ensure Safety: Prevent unintended modifications, especially when shared across multiple parts of a program.\n",
    "Hashability: Immutability allows strings to be hashable, enabling their use as keys in dictionaries and elements in sets."
   ]
  },
  {
   "cell_type": "code",
   "execution_count": null,
   "id": "ebe3acc5-aa75-4560-b763-d349cec604b4",
   "metadata": {},
   "outputs": [],
   "source": []
  },
  {
   "cell_type": "markdown",
   "id": "ec3d7e0f-f177-475d-a3f4-c8ed951fc498",
   "metadata": {},
   "source": [
    "11. What advantages do dictionaries offer over lists for certain tasks?"
   ]
  },
  {
   "cell_type": "markdown",
   "id": "5b2cec6c-0644-4442-b832-1e06c41af16a",
   "metadata": {},
   "source": [
    "\n",
    "Dictionaries offer several advantages over lists for specific tasks:\n",
    "\n",
    "Fast Lookups: O(1) average time complexity for accessing values by key, compared to O(n) for searching in a list.\n",
    "Key-Value Mapping: Store data with descriptive keys, improving readability and organization.\n",
    "Uniqueness: Keys are unique, avoiding duplicate identifiers.\n",
    "Dynamic Updates: Efficiently update or add new key-value pairs."
   ]
  },
  {
   "cell_type": "code",
   "execution_count": null,
   "id": "8e0b4f8d-d7f9-4f04-8ffd-4184da0aa450",
   "metadata": {},
   "outputs": [],
   "source": []
  },
  {
   "cell_type": "markdown",
   "id": "916babd4-4d0b-43cd-9a28-8184d9269dcd",
   "metadata": {},
   "source": [
    "12. Describe a scenario where using a tuple would be preferable over a list?"
   ]
  },
  {
   "cell_type": "markdown",
   "id": "10a724ac-3d8a-48bd-b5fb-ddd5ad9d244b",
   "metadata": {},
   "source": [
    "A tuple is preferable over a list when you need to store fixed, unchangeable data to ensure data integrity and optimize performance.\n",
    "Scenario: Storing coordinates of a point in a 2D or 3D space.\n",
    "point = (10, 20, 30)  # Tuple ensures coordinates won't change accidentally. \n",
    "\n",
    "In this case:\n",
    "Immutability: Prevents unintended modifications.\n",
    "Performance: Tuples are faster and more memory-efficient than lists."
   ]
  },
  {
   "cell_type": "code",
   "execution_count": null,
   "id": "4b632b6c-d303-4da9-bd25-87649678cc5c",
   "metadata": {},
   "outputs": [],
   "source": []
  },
  {
   "cell_type": "markdown",
   "id": "00a400d9-f7de-45e2-bf03-f29ced4c8d59",
   "metadata": {},
   "source": [
    "13. How do sets handle duplicate values in Python?"
   ]
  },
  {
   "cell_type": "markdown",
   "id": "c7264077-9626-44e9-a1e9-682f55b2f373",
   "metadata": {},
   "source": [
    "Sets in Python automatically remove duplicate values when elements are added. This ensures that all elements in a set are unique.\n",
    "\n",
    "Example:\n",
    "my_set = {1, 2, 2, 3}\n",
    "print(my_set)  # Output: {1, 2, 3}\n",
    "\n",
    "When duplicates are encountered, they are ignored, and only one instance of each value is stored."
   ]
  },
  {
   "cell_type": "code",
   "execution_count": null,
   "id": "eddf03d1-72e7-470c-9db3-d7b5b25860fc",
   "metadata": {},
   "outputs": [],
   "source": []
  },
  {
   "cell_type": "markdown",
   "id": "01306339-c86e-467e-8053-5d23ac585053",
   "metadata": {},
   "source": [
    "14. How does the “in” keyword work differently for lists and dictionaries?"
   ]
  },
  {
   "cell_type": "markdown",
   "id": "8d2aad7a-541a-485a-8f36-708e41b8e38e",
   "metadata": {},
   "source": [
    "The in keyword works differently for lists and dictionaries:\n",
    "\n",
    "For Lists: Checks if a value exists in the list.\n",
    "lst = [1, 2, 3]\n",
    "print(2 in lst)  # True\n",
    "\n",
    "For Dictionaries: Checks if a key exists (not values).\n",
    "my_dict = {'a': 1, 'b': 2}\n",
    "print('a' in my_dict)  # True\n",
    "print(1 in my_dict)    # False\n"
   ]
  },
  {
   "cell_type": "code",
   "execution_count": null,
   "id": "007e6a0c-37ab-4f82-aa4c-7cdd9170e3d8",
   "metadata": {},
   "outputs": [],
   "source": []
  },
  {
   "cell_type": "markdown",
   "id": "a2f058bc-4940-4861-a2da-95a9a2195978",
   "metadata": {},
   "source": [
    "15. Can you modify the elements of a tuple? Explain why or why not?"
   ]
  },
  {
   "cell_type": "markdown",
   "id": "b919be37-e0a5-44e8-91fe-65bbe120d61b",
   "metadata": {},
   "source": [
    "Nop you cannot modify the elements of a tuple. Because tuple is immutable."
   ]
  },
  {
   "cell_type": "code",
   "execution_count": null,
   "id": "f7091af5-9b41-43e2-91b3-af3082fa68c7",
   "metadata": {},
   "outputs": [],
   "source": []
  },
  {
   "cell_type": "markdown",
   "id": "6c6f09d9-1d80-4f58-9b67-e612edcb9436",
   "metadata": {},
   "source": [
    "16. What is a nested dictionary, and give an example of its use case?"
   ]
  },
  {
   "cell_type": "markdown",
   "id": "82fb1666-b44a-4b40-9238-e5cbae36cb45",
   "metadata": {},
   "source": [
    "A nested dictionary is a dictionary where values can be other dictionaries. It’s useful for representing hierarchical or structured data.\n",
    "\n",
    "Example Use Case: Storing information about employees in departments.\n",
    "company = {\n",
    "    'HR': {'Alice': 30, 'Bob': 25},\n",
    "    'IT': {'Charlie': 28, 'David': 35}\n",
    "          }\n",
    "\n",
    "# Access Bob's age\n",
    "print(company['HR']['Bob'])  # Output: 25\n"
   ]
  },
  {
   "cell_type": "code",
   "execution_count": null,
   "id": "813da1d1-60ac-400b-9673-1758c6cb9339",
   "metadata": {},
   "outputs": [],
   "source": []
  },
  {
   "cell_type": "markdown",
   "id": "d347e108-638f-4877-b9eb-527055e14f68",
   "metadata": {},
   "source": [
    "17. Describe the time complexity of accessing elements in a dictionary?"
   ]
  },
  {
   "cell_type": "markdown",
   "id": "a50b130f-def7-4387-8c4a-2019f1aac8e3",
   "metadata": {},
   "source": [
    "The time complexity of accessing elements in a dictionary is:\n",
    "\n",
    "Average Case: O(1) (constant time) due to the underlying hash table.\n",
    "Worst Case: O(n) if there are hash collisions, but this is rare with a good hash function."
   ]
  },
  {
   "cell_type": "code",
   "execution_count": null,
   "id": "a9998530-cf46-4753-bd8b-86ecf2ccdc4c",
   "metadata": {},
   "outputs": [],
   "source": []
  },
  {
   "cell_type": "markdown",
   "id": "c414246e-d0b9-4f8d-8b5e-d507846dd4f1",
   "metadata": {},
   "source": [
    "18. In what situations are lists preferred over dictionaries?"
   ]
  },
  {
   "cell_type": "raw",
   "id": "f74411a3-843c-4e02-ab8a-e7f98b5cf15d",
   "metadata": {},
   "source": [
    "Lists are preferred over dictionaries in the following situations:\n",
    "\n",
    "Sequential Data: When maintaining an ordered sequence of elements is important.\n",
    "Example: A list of numbers: [10, 20, 30].\n",
    "\n",
    "Duplicate Values: When duplicates are allowed, unlike dictionaries where keys must be unique.\n",
    "\n",
    "Simpler Data: When data doesn’t require key-value relationships.\n",
    "Example: Names of students: ['Alice', 'Bob', 'Charlie'].\n",
    "\n",
    "Index-based Access: When you need to access elements by their position rather than a descriptive key.\n",
    "Example: my_list[0] for the first element."
   ]
  },
  {
   "cell_type": "code",
   "execution_count": null,
   "id": "73b61278-f9fe-47e1-a617-e0115c2e8452",
   "metadata": {},
   "outputs": [],
   "source": []
  },
  {
   "cell_type": "markdown",
   "id": "3707ee6e-006b-4932-a038-d4ec7cbd3fb8",
   "metadata": {},
   "source": [
    "19. Why are dictionaries considered unordered, and how does that affect data retrieval?"
   ]
  },
  {
   "cell_type": "raw",
   "id": "ba89a078-bd5a-4de7-9e6d-4bf1149728a9",
   "metadata": {},
   "source": [
    "Dictionaries are considered unordered because the elements (key-value pairs) are stored in a way that doesn't guarantee any specific order, especially before Python 3.7. From Python 3.7 onwards, dictionaries maintain insertion order but still do not classify as \"ordered\" in the traditional sense, as they don't rely on index-based positions like lists.\n",
    "\n",
    "Effect on Data Retrieval:\n",
    "\n",
    "Fast Lookups: Regardless of order, dictionary lookups by key are O(1) on average, providing efficient access to values.\n",
    "No Index Access: Unlike lists, dictionaries don’t allow access via indices (e.g., my_dict[0] doesn’t work), but instead use keys."
   ]
  },
  {
   "cell_type": "code",
   "execution_count": null,
   "id": "9f0fc542-ed7e-42c3-ac60-01612b9c8185",
   "metadata": {},
   "outputs": [],
   "source": []
  },
  {
   "cell_type": "markdown",
   "id": "87673139-bcad-4da8-af3c-07d18657bbf7",
   "metadata": {},
   "source": [
    "20. Explain the difference between a list and a dictionary in terms of data retrieval?"
   ]
  },
  {
   "cell_type": "raw",
   "id": "da29e2a2-d8da-408f-b2e3-fbf10ccaec29",
   "metadata": {},
   "source": [
    "The key difference between a list and a dictionary in terms of data retrieval is how you access the data:\n",
    "\n",
    "List:\n",
    "\n",
    "Accessed by index: You retrieve values using a position or index (e.g., my_list[2]).\n",
    "Order matters: The order of elements is preserved and indexed.\n",
    "\n",
    "Dictionary:\n",
    "\n",
    "Accessed by key: You retrieve values using a unique key (e.g., my_dict['key']).\n",
    "No order: The data is unordered (though insertion order is maintained since Python 3.7)."
   ]
  },
  {
   "cell_type": "code",
   "execution_count": null,
   "id": "6636281b-f469-4172-a9b2-40a4fcaae72a",
   "metadata": {},
   "outputs": [],
   "source": []
  },
  {
   "cell_type": "markdown",
   "id": "fec95bac-0392-47ae-999d-efeda479a46b",
   "metadata": {},
   "source": [
    "                                Pratical Questions"
   ]
  },
  {
   "cell_type": "markdown",
   "id": "a285d0e2-f965-4d7c-908c-64a81ea3acf2",
   "metadata": {},
   "source": [
    "1. Write a code to create a string with your name and print it."
   ]
  },
  {
   "cell_type": "code",
   "execution_count": 5,
   "id": "529ba6c4-7fef-414a-b3e0-7c34f07e815a",
   "metadata": {},
   "outputs": [
    {
     "name": "stdout",
     "output_type": "stream",
     "text": [
      "kishan\n"
     ]
    }
   ],
   "source": [
    "name = \"kishan\"\n",
    "print(name)"
   ]
  },
  {
   "cell_type": "code",
   "execution_count": null,
   "id": "49726961-80ca-44cb-a01e-039b94cea4a5",
   "metadata": {},
   "outputs": [],
   "source": []
  },
  {
   "cell_type": "markdown",
   "id": "0e1a6a27-ce65-4953-8559-b9d992df54f2",
   "metadata": {},
   "source": [
    "2. Write a code to find the length of the string \"Hello World\"."
   ]
  },
  {
   "cell_type": "code",
   "execution_count": 7,
   "id": "33772802-ca15-412f-a6c5-e521e0e6c66a",
   "metadata": {},
   "outputs": [
    {
     "name": "stdout",
     "output_type": "stream",
     "text": [
      "11\n"
     ]
    }
   ],
   "source": [
    "str= \"Hello World\"\n",
    "print(len(str))"
   ]
  },
  {
   "cell_type": "code",
   "execution_count": null,
   "id": "9faedbef-94f3-4473-b506-4cd73ae0fa51",
   "metadata": {},
   "outputs": [],
   "source": []
  },
  {
   "cell_type": "markdown",
   "id": "21eee345-16c6-4cc8-851f-6acb3c038956",
   "metadata": {},
   "source": [
    "3.Write a code to slice the first 3 characters from the string \"Python Programming\"."
   ]
  },
  {
   "cell_type": "code",
   "execution_count": 9,
   "id": "85a90dcb-f3db-4412-9e52-8e0fdb95f657",
   "metadata": {},
   "outputs": [
    {
     "name": "stdout",
     "output_type": "stream",
     "text": [
      "Pyt\n"
     ]
    }
   ],
   "source": [
    "str = \"Python Programming\"\n",
    "print(str[0:3])"
   ]
  },
  {
   "cell_type": "code",
   "execution_count": null,
   "id": "3eb375bb-a448-4311-a7c5-6dd3fff04ffa",
   "metadata": {},
   "outputs": [],
   "source": []
  },
  {
   "cell_type": "markdown",
   "id": "68cb531e-4b93-418a-9d4f-44965e0d51f3",
   "metadata": {},
   "source": [
    "4. Write a code to convert the string \"hello\" to uppercase."
   ]
  },
  {
   "cell_type": "code",
   "execution_count": 13,
   "id": "bdd8ca85-fbaa-4fc9-8837-d41d4887f428",
   "metadata": {},
   "outputs": [
    {
     "data": {
      "text/plain": [
       "'HELLO'"
      ]
     },
     "execution_count": 13,
     "metadata": {},
     "output_type": "execute_result"
    }
   ],
   "source": [
    "str = \"hello\"\n",
    "str.upper()"
   ]
  },
  {
   "cell_type": "code",
   "execution_count": null,
   "id": "888350d3-f07b-4b78-8040-142863626b79",
   "metadata": {},
   "outputs": [],
   "source": []
  },
  {
   "cell_type": "markdown",
   "id": "4338d108-8f70-47da-8da9-6f49c5000501",
   "metadata": {},
   "source": [
    "5. Write a code to replace the word \"apple\" with \"orange\" in the string \"I like apple\"."
   ]
  },
  {
   "cell_type": "code",
   "execution_count": 14,
   "id": "cb795b13-cdc7-445c-909d-c9078f8076bc",
   "metadata": {},
   "outputs": [
    {
     "data": {
      "text/plain": [
       "'I like orange'"
      ]
     },
     "execution_count": 14,
     "metadata": {},
     "output_type": "execute_result"
    }
   ],
   "source": [
    "str = \"I like apple\"\n",
    "str.replace(\"apple\",\"orange\")"
   ]
  },
  {
   "cell_type": "code",
   "execution_count": null,
   "id": "3737dd3f-db47-4348-9fbf-a344df07a314",
   "metadata": {},
   "outputs": [],
   "source": []
  },
  {
   "cell_type": "markdown",
   "id": "4ac524fe-0379-47a3-b77a-4d552a8bd7fb",
   "metadata": {},
   "source": [
    "6. Write a code to create a list with numbers 1 to 5 and print it. "
   ]
  },
  {
   "cell_type": "code",
   "execution_count": 15,
   "id": "035067f5-1af0-4408-b461-1dc20ef65a4c",
   "metadata": {},
   "outputs": [
    {
     "name": "stdout",
     "output_type": "stream",
     "text": [
      "[1, 2, 3, 4, 5]\n"
     ]
    }
   ],
   "source": [
    "numbers = [1,2,3,4,5]\n",
    "print(numbers)"
   ]
  },
  {
   "cell_type": "code",
   "execution_count": null,
   "id": "70b1b26c-9f19-4be3-89f3-8f19045740aa",
   "metadata": {},
   "outputs": [],
   "source": []
  },
  {
   "cell_type": "markdown",
   "id": "38f4d9a0-cdc0-4d51-9e80-f2b0a175ee66",
   "metadata": {},
   "source": [
    "7. Write a code to append the number 10 to the list [1, 2, 3, 4]"
   ]
  },
  {
   "cell_type": "code",
   "execution_count": 16,
   "id": "83b3801a-08ea-4502-b51d-adf74cd000e0",
   "metadata": {},
   "outputs": [
    {
     "data": {
      "text/plain": [
       "[1, 2, 3, 4, 10]"
      ]
     },
     "execution_count": 16,
     "metadata": {},
     "output_type": "execute_result"
    }
   ],
   "source": [
    "numbers=[1,2,3,4]\n",
    "numbers.append(10)\n",
    "numbers"
   ]
  },
  {
   "cell_type": "code",
   "execution_count": null,
   "id": "258135ba-5153-465a-81dd-1ea5934ebce6",
   "metadata": {},
   "outputs": [],
   "source": []
  },
  {
   "cell_type": "markdown",
   "id": "4392e9b8-93a4-46ba-9d86-03b4aa64f40f",
   "metadata": {},
   "source": [
    "8. Write a code to remove the number 3 from the list [1, 2, 3, 4, 5]"
   ]
  },
  {
   "cell_type": "code",
   "execution_count": 17,
   "id": "f48b5029-3ed1-4b5f-a300-d521b4fef23c",
   "metadata": {},
   "outputs": [
    {
     "data": {
      "text/plain": [
       "[1, 2, 4, 5]"
      ]
     },
     "execution_count": 17,
     "metadata": {},
     "output_type": "execute_result"
    }
   ],
   "source": [
    "numbers = [1,2,3,4,5]\n",
    "numbers.remove(3)\n",
    "numbers"
   ]
  },
  {
   "cell_type": "code",
   "execution_count": null,
   "id": "cf9b3d74-c55e-4cdf-99c5-dc59ca67121c",
   "metadata": {},
   "outputs": [],
   "source": []
  },
  {
   "cell_type": "markdown",
   "id": "c06ed1cd-9f5c-40f6-870e-60842bcb12e9",
   "metadata": {},
   "source": [
    "9. Write a code to access the second element in the list ['a', 'b', 'c', 'd']."
   ]
  },
  {
   "cell_type": "code",
   "execution_count": 18,
   "id": "b760787b-b587-49b8-ae94-7617c7c9433d",
   "metadata": {},
   "outputs": [
    {
     "data": {
      "text/plain": [
       "'b'"
      ]
     },
     "execution_count": 18,
     "metadata": {},
     "output_type": "execute_result"
    }
   ],
   "source": [
    "List=['a','b','c','d']\n",
    "List[1]"
   ]
  },
  {
   "cell_type": "code",
   "execution_count": null,
   "id": "b92c1467-fc1f-40c4-a2ad-25fe850e444c",
   "metadata": {},
   "outputs": [],
   "source": []
  },
  {
   "cell_type": "markdown",
   "id": "8c174b5c-cb44-44de-98d0-e4e2f76dabd8",
   "metadata": {},
   "source": [
    "10. Write a code to reverse the list [10, 20, 30, 40, 50]."
   ]
  },
  {
   "cell_type": "code",
   "execution_count": 20,
   "id": "9217d7be-98e9-4ad9-a011-1f1cdde1868f",
   "metadata": {},
   "outputs": [
    {
     "data": {
      "text/plain": [
       "[50, 40, 30, 20, 10]"
      ]
     },
     "execution_count": 20,
     "metadata": {},
     "output_type": "execute_result"
    }
   ],
   "source": [
    "List=[10,20,30,40,50]\n",
    "List.reverse()\n",
    "List"
   ]
  },
  {
   "cell_type": "code",
   "execution_count": null,
   "id": "7990228a-5148-4656-8c53-a5ef520913a4",
   "metadata": {},
   "outputs": [],
   "source": []
  },
  {
   "cell_type": "markdown",
   "id": "b7eb21b4-a15d-40ae-95a6-194c7b7eaa32",
   "metadata": {},
   "source": [
    "11.  Write a code to create a tuple with the elements 10, 20, 30 and print it."
   ]
  },
  {
   "cell_type": "code",
   "execution_count": 22,
   "id": "a08df65a-e85c-4c34-be23-9f8ca0e01fb5",
   "metadata": {},
   "outputs": [
    {
     "name": "stdout",
     "output_type": "stream",
     "text": [
      "(10, 20, 30)\n"
     ]
    }
   ],
   "source": [
    "Tuple=(10,20,30)\n",
    "print(Tuple)"
   ]
  },
  {
   "cell_type": "code",
   "execution_count": null,
   "id": "e163ed22-4de2-4691-b6f3-e36025490c15",
   "metadata": {},
   "outputs": [],
   "source": []
  },
  {
   "cell_type": "markdown",
   "id": "d257a11d-b737-4303-9e40-9d13a9984b7d",
   "metadata": {},
   "source": [
    "12. Write a code to access the first element of the tuple ('apple', 'banana', 'cherry')."
   ]
  },
  {
   "cell_type": "code",
   "execution_count": 25,
   "id": "c09c5785-7a6f-41bf-b2fc-3f76b3c4bf6f",
   "metadata": {},
   "outputs": [
    {
     "data": {
      "text/plain": [
       "'apple'"
      ]
     },
     "execution_count": 25,
     "metadata": {},
     "output_type": "execute_result"
    }
   ],
   "source": [
    "Tuple=('apple','banana','cherry')\n",
    "Tuple[0]"
   ]
  },
  {
   "cell_type": "code",
   "execution_count": null,
   "id": "a11d9edd-b4da-45c3-af01-f0088f117c48",
   "metadata": {},
   "outputs": [],
   "source": []
  },
  {
   "cell_type": "markdown",
   "id": "65381455-07e7-4e53-80fc-af3451288123",
   "metadata": {},
   "source": [
    "13. Write a code to count how many times the number 2 appears in the tuple (1, 2, 3, 2, 4, 2)."
   ]
  },
  {
   "cell_type": "code",
   "execution_count": 26,
   "id": "ac9bdc43-cb3b-451b-9cea-0aaba00dcc4d",
   "metadata": {},
   "outputs": [
    {
     "data": {
      "text/plain": [
       "3"
      ]
     },
     "execution_count": 26,
     "metadata": {},
     "output_type": "execute_result"
    }
   ],
   "source": [
    "Tuple=(1,2,3,2,4,2)\n",
    "Tuple.count(2)"
   ]
  },
  {
   "cell_type": "code",
   "execution_count": null,
   "id": "7bb77675-3a1a-497c-be6e-49a8537a61c3",
   "metadata": {},
   "outputs": [],
   "source": []
  },
  {
   "cell_type": "markdown",
   "id": "6818ef52-83a7-488c-ae48-fbf9832c4985",
   "metadata": {},
   "source": [
    "14. Write a code to find the index of the element \"cat\" in the tuple ('dog', 'cat', 'rabbit')."
   ]
  },
  {
   "cell_type": "code",
   "execution_count": 27,
   "id": "5ea5ac6b-e8ea-4d3f-92dd-62261f757a6f",
   "metadata": {},
   "outputs": [
    {
     "data": {
      "text/plain": [
       "1"
      ]
     },
     "execution_count": 27,
     "metadata": {},
     "output_type": "execute_result"
    }
   ],
   "source": [
    "Tuple=(\"dog\",\"cat\",\"rabbit\")\n",
    "Tuple.index(\"cat\")"
   ]
  },
  {
   "cell_type": "code",
   "execution_count": null,
   "id": "2f625761-bc9b-4f7b-8eb9-dd9021b7e657",
   "metadata": {},
   "outputs": [],
   "source": []
  },
  {
   "cell_type": "markdown",
   "id": "a8224989-6a7d-49ec-8d30-1e809687b4a2",
   "metadata": {},
   "source": [
    "15. Write a code to check if the element \"banana\" is in the tuple ('apple', 'orange', 'banana').\n",
    "\n"
   ]
  },
  {
   "cell_type": "code",
   "execution_count": 29,
   "id": "919ca2ca-b661-44d1-a60c-38d2b629f316",
   "metadata": {},
   "outputs": [
    {
     "name": "stdout",
     "output_type": "stream",
     "text": [
      "Yes it is\n"
     ]
    }
   ],
   "source": [
    "Tuple=(\"apple\",\"orange\",\"banana\")\n",
    "if \"banana\" in Tuple :\n",
    "    print(\"Yes it is\")"
   ]
  },
  {
   "cell_type": "code",
   "execution_count": null,
   "id": "98f81feb-00f3-4b13-8f4a-76dc5b63ad30",
   "metadata": {},
   "outputs": [],
   "source": []
  },
  {
   "cell_type": "markdown",
   "id": "791b3242-4742-4a60-83ac-aaca22104a35",
   "metadata": {},
   "source": [
    "16.  Write a code to create a set with the elements 1, 2, 3, 4, 5 and print it."
   ]
  },
  {
   "cell_type": "code",
   "execution_count": 31,
   "id": "3aee08df-cb72-4520-b3b7-7b2ce0229bdc",
   "metadata": {},
   "outputs": [
    {
     "name": "stdout",
     "output_type": "stream",
     "text": [
      "{1, 2, 3, 4, 5}\n"
     ]
    }
   ],
   "source": [
    "Set={1,2,3,4,5}\n",
    "print(Set)"
   ]
  },
  {
   "cell_type": "code",
   "execution_count": null,
   "id": "bba30369-1c69-4661-87da-885560866c21",
   "metadata": {},
   "outputs": [],
   "source": []
  },
  {
   "cell_type": "markdown",
   "id": "c8247c00-b61f-4fc1-bd2f-834085948b19",
   "metadata": {},
   "source": [
    "17.  Write a code to add the element 6 to the set {1, 2, 3, 4}."
   ]
  },
  {
   "cell_type": "code",
   "execution_count": 32,
   "id": "6ef96dc7-3a8d-47a6-8ce6-24ba9880e915",
   "metadata": {},
   "outputs": [
    {
     "data": {
      "text/plain": [
       "{1, 2, 3, 4, 6}"
      ]
     },
     "execution_count": 32,
     "metadata": {},
     "output_type": "execute_result"
    }
   ],
   "source": [
    "numbers={1,2,3,4}\n",
    "numbers.add(6)\n",
    "numbers"
   ]
  },
  {
   "cell_type": "code",
   "execution_count": null,
   "id": "ee3dadb3-0d1e-457f-a94a-5e84e2256393",
   "metadata": {},
   "outputs": [],
   "source": []
  },
  {
   "cell_type": "markdown",
   "id": "1909c765-a30d-429c-b2fa-1f52d740d300",
   "metadata": {},
   "source": [
    "18. Write a code to create a tuple with the elements 10, 20, 30 and print it."
   ]
  },
  {
   "cell_type": "code",
   "execution_count": 33,
   "id": "d3e783b3-5e30-4afe-a2f6-039b8276a49d",
   "metadata": {},
   "outputs": [
    {
     "name": "stdout",
     "output_type": "stream",
     "text": [
      "(10, 20, 30)\n"
     ]
    }
   ],
   "source": [
    "numbers=(10,20,30)\n",
    "print(numbers)"
   ]
  },
  {
   "cell_type": "code",
   "execution_count": null,
   "id": "99445aae-897e-4a08-a245-a98953e29e8c",
   "metadata": {},
   "outputs": [],
   "source": []
  },
  {
   "cell_type": "markdown",
   "id": "ac686000-0525-4a69-a963-73a710891930",
   "metadata": {},
   "source": [
    "19. Write a code to access the first element of the tuple ('apple', 'banana', 'cherry')."
   ]
  },
  {
   "cell_type": "code",
   "execution_count": 34,
   "id": "903abc8f-63d4-433a-aa78-74b69a4bbd67",
   "metadata": {},
   "outputs": [
    {
     "data": {
      "text/plain": [
       "'apple'"
      ]
     },
     "execution_count": 34,
     "metadata": {},
     "output_type": "execute_result"
    }
   ],
   "source": [
    "fruits = (\"apple\",\"banan\",\"cherry\")\n",
    "fruits[0]"
   ]
  },
  {
   "cell_type": "code",
   "execution_count": null,
   "id": "79dd0549-6493-418d-8a7d-60ab14906d1e",
   "metadata": {},
   "outputs": [],
   "source": []
  },
  {
   "cell_type": "markdown",
   "id": "ef109a56-8304-48e2-a938-c1a1cf5cb42a",
   "metadata": {},
   "source": [
    "20. Write a code to count how many times the number 2 appears in the tuple (1, 2, 3, 2, 4, 2).\n",
    " "
   ]
  },
  {
   "cell_type": "code",
   "execution_count": 35,
   "id": "43934c19-c443-493f-b8ea-32fd499dec97",
   "metadata": {},
   "outputs": [
    {
     "data": {
      "text/plain": [
       "3"
      ]
     },
     "execution_count": 35,
     "metadata": {},
     "output_type": "execute_result"
    }
   ],
   "source": [
    "Tuple=(1,2,3,2,4,2)\n",
    "Tuple.count(2)"
   ]
  },
  {
   "cell_type": "code",
   "execution_count": null,
   "id": "db6b0d8c-9e8f-4adf-bd09-68e20baa21d4",
   "metadata": {},
   "outputs": [],
   "source": []
  },
  {
   "cell_type": "markdown",
   "id": "18c5fec5-53ed-44ca-8f1a-4f19ed1a5b8a",
   "metadata": {},
   "source": [
    "21. Write a code to find the index of the element \"cat\" in the tuple ('dog', 'cat', 'rabbit')"
   ]
  },
  {
   "cell_type": "code",
   "execution_count": 36,
   "id": "888742ef-777d-47db-93c7-78d90f126fe9",
   "metadata": {},
   "outputs": [
    {
     "data": {
      "text/plain": [
       "1"
      ]
     },
     "execution_count": 36,
     "metadata": {},
     "output_type": "execute_result"
    }
   ],
   "source": [
    "Tuple=(\"dog\",\"cat\",\"rabbit\")\n",
    "Tuple.index(\"cat\")"
   ]
  },
  {
   "cell_type": "code",
   "execution_count": null,
   "id": "fc77047d-edf4-47df-94b7-acbb95a139eb",
   "metadata": {},
   "outputs": [],
   "source": []
  },
  {
   "cell_type": "markdown",
   "id": "a4a151b7-2271-45e8-be1b-9b2d1c096e7c",
   "metadata": {},
   "source": [
    " 22. Write a code to check if the element \"banana\" is in the tuple ('apple', 'orange', 'banana')."
   ]
  },
  {
   "cell_type": "code",
   "execution_count": 37,
   "id": "390ff915-8470-4bca-8a06-4efca65842cf",
   "metadata": {},
   "outputs": [
    {
     "name": "stdout",
     "output_type": "stream",
     "text": [
      "Yes it is\n"
     ]
    }
   ],
   "source": [
    "Tuple=(\"apple\",\"orange\",\"banana\")\n",
    "if \"banana\" in Tuple :\n",
    "    print(\"Yes it is\")"
   ]
  },
  {
   "cell_type": "code",
   "execution_count": null,
   "id": "54fc8d0a-e866-4756-b7ed-7c21a00456ac",
   "metadata": {},
   "outputs": [],
   "source": []
  },
  {
   "cell_type": "markdown",
   "id": "5bcf2fd6-9e82-4e9c-ad85-c427a7129627",
   "metadata": {},
   "source": [
    "23. Write a code to create a set with the elements 1, 2, 3, 4, 5 and print it."
   ]
  },
  {
   "cell_type": "code",
   "execution_count": 38,
   "id": "4acda8b5-12e9-43f7-a6fe-813697e10f04",
   "metadata": {},
   "outputs": [
    {
     "name": "stdout",
     "output_type": "stream",
     "text": [
      "{1, 2, 3, 4, 5}\n"
     ]
    }
   ],
   "source": [
    "Set={1,2,3,4,5}\n",
    "print(Set)"
   ]
  },
  {
   "cell_type": "code",
   "execution_count": null,
   "id": "94b5687f-6877-4d37-aa2f-9028c520287b",
   "metadata": {},
   "outputs": [],
   "source": []
  },
  {
   "cell_type": "markdown",
   "id": "3407b997-6c60-4d3a-a527-f5a2c9952360",
   "metadata": {},
   "source": [
    "24.  Write a code to add the element 6 to the set {1, 2, 3, 4}."
   ]
  },
  {
   "cell_type": "code",
   "execution_count": 39,
   "id": "930b53b5-52b6-4787-bf58-c6b80121c2a6",
   "metadata": {},
   "outputs": [
    {
     "data": {
      "text/plain": [
       "{1, 2, 3, 4, 6}"
      ]
     },
     "execution_count": 39,
     "metadata": {},
     "output_type": "execute_result"
    }
   ],
   "source": [
    "numbers={1,2,3,4}\n",
    "numbers.add(6)\n",
    "numbers"
   ]
  },
  {
   "cell_type": "code",
   "execution_count": null,
   "id": "56c264f6-7d45-4764-af57-ca2d04159335",
   "metadata": {},
   "outputs": [],
   "source": []
  }
 ],
 "metadata": {
  "kernelspec": {
   "display_name": "Python 3 (ipykernel)",
   "language": "python",
   "name": "python3"
  },
  "language_info": {
   "codemirror_mode": {
    "name": "ipython",
    "version": 3
   },
   "file_extension": ".py",
   "mimetype": "text/x-python",
   "name": "python",
   "nbconvert_exporter": "python",
   "pygments_lexer": "ipython3",
   "version": "3.12.6"
  }
 },
 "nbformat": 4,
 "nbformat_minor": 5
}
