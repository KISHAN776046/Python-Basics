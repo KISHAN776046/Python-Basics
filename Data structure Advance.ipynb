{
 "cells": [
  {
   "cell_type": "markdown",
   "id": "b6eceaf4-e7af-483f-8a1f-d127edd9474c",
   "metadata": {},
   "source": [
    "1. Write a code to reverse a string."
   ]
  },
  {
   "cell_type": "code",
   "execution_count": 6,
   "id": "d731ad44-6815-4d08-92ee-f7dec9bb1c0c",
   "metadata": {},
   "outputs": [
    {
     "data": {
      "text/plain": [
       "'gnirts'"
      ]
     },
     "execution_count": 6,
     "metadata": {},
     "output_type": "execute_result"
    }
   ],
   "source": [
    "str=\"string\"\n",
    "str[-1:-7:-1]"
   ]
  },
  {
   "cell_type": "code",
   "execution_count": null,
   "id": "4e844115-5bd4-4a90-b9be-2a593c09fc0f",
   "metadata": {},
   "outputs": [],
   "source": []
  },
  {
   "cell_type": "markdown",
   "id": "1f8127bc-22de-4886-b867-750157ae09dc",
   "metadata": {},
   "source": [
    "2. Write a code to count the number of vowels in a string.\n"
   ]
  },
  {
   "cell_type": "code",
   "execution_count": 8,
   "id": "d547e814-8138-486c-a252-f316e4fc1db6",
   "metadata": {},
   "outputs": [
    {
     "name": "stdout",
     "output_type": "stream",
     "text": [
      "Number of vowels: 5\n"
     ]
    }
   ],
   "source": [
    "string = \"Your string here\"\n",
    "vowels = \"aeiouAEIOU\"\n",
    "count = sum(1 for char in string if char in vowels)\n",
    "print(f\"Number of vowels: {count}\")\n"
   ]
  },
  {
   "cell_type": "code",
   "execution_count": null,
   "id": "d10810e3-aa1d-4c6a-8ea6-bc8323704bea",
   "metadata": {},
   "outputs": [],
   "source": []
  },
  {
   "cell_type": "markdown",
   "id": "b1e658f9-3563-4e0b-8b7d-a66376ee592a",
   "metadata": {},
   "source": [
    "3. Write a code to check if a given string is a palindrome or not."
   ]
  },
  {
   "cell_type": "code",
   "execution_count": 13,
   "id": "41043f5c-b652-41bf-9fa9-9b08f5232812",
   "metadata": {},
   "outputs": [
    {
     "name": "stdin",
     "output_type": "stream",
     "text": [
      "Enter the string:  Kishan\n"
     ]
    },
    {
     "name": "stdout",
     "output_type": "stream",
     "text": [
      "The string is not a palindrome.\n"
     ]
    }
   ],
   "source": [
    "string = input (\"Enter the string: \")\n",
    "if string == string[::-1]:\n",
    "    print(\"The string is a palindrome.\")\n",
    "else:\n",
    "    print(\"The string is not a palindrome.\")\n"
   ]
  },
  {
   "cell_type": "code",
   "execution_count": null,
   "id": "4b9dce8d-46e7-4ac2-ae6f-a67bee003802",
   "metadata": {},
   "outputs": [],
   "source": []
  },
  {
   "cell_type": "markdown",
   "id": "0729dde3-cf74-4485-8231-f0d7c54a87e5",
   "metadata": {},
   "source": [
    "4. Write a code to check if two given strings are anagrams of each other."
   ]
  },
  {
   "cell_type": "code",
   "execution_count": 1,
   "id": "55143b98-005c-4f7f-8414-a1d7e1dae44c",
   "metadata": {},
   "outputs": [
    {
     "name": "stdout",
     "output_type": "stream",
     "text": [
      "The strings are anagrams.\n"
     ]
    }
   ],
   "source": [
    "str1 = \"listen\"  \n",
    "str2 = \"silent\"  \n",
    "\n",
    "if sorted(str1) == sorted(str2):\n",
    "    print(\"The strings are anagrams.\")\n",
    "else:\n",
    "    print(\"The strings are not anagrams.\")"
   ]
  },
  {
   "cell_type": "code",
   "execution_count": null,
   "id": "0e0f72c0-d219-48a4-9d67-7ba45f0cf904",
   "metadata": {},
   "outputs": [],
   "source": []
  },
  {
   "cell_type": "markdown",
   "id": "35b60144-63e3-4021-a46f-fa96f5346f3b",
   "metadata": {},
   "source": [
    "5. Write a code to find all occurrences of a given substring within another string."
   ]
  },
  {
   "cell_type": "code",
   "execution_count": 4,
   "id": "d402c92e-ffe8-4490-beab-452dc7ba6dc1",
   "metadata": {},
   "outputs": [
    {
     "name": "stdout",
     "output_type": "stream",
     "text": [
      "Occurrences of 'test' found at indices: [10, 26]\n"
     ]
    }
   ],
   "source": [
    "string = \"This is a test string for testing.\"  \n",
    "substring = \"test\" \n",
    "\n",
    "indices = [i for i in range(len(string)) if string.startswith(substring, i)]\n",
    "\n",
    "print(f\"Occurrences of '{substring}' found at indices: {indices}\")\n"
   ]
  },
  {
   "cell_type": "code",
   "execution_count": null,
   "id": "44dfdc94-5a04-4965-8794-7d6f2449491e",
   "metadata": {},
   "outputs": [],
   "source": []
  },
  {
   "cell_type": "markdown",
   "id": "d237334f-90fc-4fdf-ada7-c5c59edec1de",
   "metadata": {},
   "source": [
    "6. Write a code to perform basic string compression using the counts of repeated characters."
   ]
  },
  {
   "cell_type": "code",
   "execution_count": 3,
   "id": "f415c0d0-e323-409b-8838-7a8a5e2f5698",
   "metadata": {},
   "outputs": [
    {
     "name": "stdout",
     "output_type": "stream",
     "text": [
      "Compressed string: a3b2c4d1a2\n"
     ]
    }
   ],
   "source": [
    "string = \"aaabbccccdaa\" \n",
    "compressed = []\n",
    "count = 1\n",
    "\n",
    "for i in range(1, len(string)):\n",
    "    if string[i] == string[i - 1]:\n",
    "        count += 1\n",
    "    else:\n",
    "        compressed.append(string[i - 1] + str(count))\n",
    "        count = 1\n",
    "compressed.append(string[-1] + str(count))\n",
    "result = ''.join(compressed)\n",
    "print(f\"Compressed string: {result}\")"
   ]
  },
  {
   "cell_type": "code",
   "execution_count": null,
   "id": "fc1f782e-2136-4490-a5a0-52975970196d",
   "metadata": {},
   "outputs": [],
   "source": []
  },
  {
   "cell_type": "markdown",
   "id": "3b4ee0ce-3232-408a-a9ab-6c391c4abfd4",
   "metadata": {},
   "source": [
    "7. Write a code to determine if a string has all unique characters."
   ]
  },
  {
   "cell_type": "code",
   "execution_count": 4,
   "id": "892db6f6-cc14-41dc-84ee-1dfca23c403d",
   "metadata": {},
   "outputs": [
    {
     "name": "stdout",
     "output_type": "stream",
     "text": [
      "The string has all unique characters.\n"
     ]
    }
   ],
   "source": [
    "string = \"abcdefg\" \n",
    "if len(set(string)) == len(string):\n",
    "    print(\"The string has all unique characters.\")\n",
    "else:\n",
    "    print(\"The string does not have all unique characters.\")\n"
   ]
  },
  {
   "cell_type": "code",
   "execution_count": null,
   "id": "a2ed0718-8e39-455b-ac12-cd0c78bd11af",
   "metadata": {},
   "outputs": [],
   "source": []
  },
  {
   "cell_type": "markdown",
   "id": "e47656fe-8887-4bdb-87c5-7aa618ff61a5",
   "metadata": {},
   "source": [
    "8. Write a code to convert a given string to uppercase or lowercase."
   ]
  },
  {
   "cell_type": "code",
   "execution_count": 7,
   "id": "09a4f9cc-d9da-4a79-96bd-77e51495ed18",
   "metadata": {},
   "outputs": [
    {
     "name": "stdout",
     "output_type": "stream",
     "text": [
      "Uppercase: HELLO WORLD!\n",
      "Lowercase: hello world!\n"
     ]
    }
   ],
   "source": [
    "string = \"Hello World!\"\n",
    "uppercase = string.upper()\n",
    "print(f\"Uppercase: {uppercase}\")\n",
    "lowercase = string.lower()\n",
    "print(f\"Lowercase: {lowercase}\")\n"
   ]
  },
  {
   "cell_type": "code",
   "execution_count": null,
   "id": "d2da0655-c472-4dcd-95b4-b9c158d2f10b",
   "metadata": {},
   "outputs": [],
   "source": []
  },
  {
   "cell_type": "markdown",
   "id": "2543867e-d868-412b-a608-cb7125e9617b",
   "metadata": {},
   "source": [
    "9. Write a code to count the number of words in a string."
   ]
  },
  {
   "cell_type": "code",
   "execution_count": 8,
   "id": "7032eaed-2b95-474f-a1f1-7c3f552ecb73",
   "metadata": {},
   "outputs": [
    {
     "name": "stdout",
     "output_type": "stream",
     "text": [
      "Number of words: 5\n"
     ]
    }
   ],
   "source": [
    "string = \"This is a sample string.\"\n",
    "word_count = len(string.split())\n",
    "print(f\"Number of words: {word_count}\")"
   ]
  },
  {
   "cell_type": "code",
   "execution_count": null,
   "id": "35296d6d-a3a0-4376-828e-4b28fa1f9f6d",
   "metadata": {},
   "outputs": [],
   "source": []
  },
  {
   "cell_type": "markdown",
   "id": "f52a215b-a966-4cef-9a01-4daaa868ec8a",
   "metadata": {},
   "source": [
    "10. Write a code to concatenate two strings without using the + operator."
   ]
  },
  {
   "cell_type": "code",
   "execution_count": 9,
   "id": "1d6fe3c6-60b0-4638-ae97-c65030184514",
   "metadata": {},
   "outputs": [
    {
     "name": "stdout",
     "output_type": "stream",
     "text": [
      "Concatenated string: HelloWorld\n"
     ]
    }
   ],
   "source": [
    "str1 = \"Hello\"\n",
    "str2 = \"World\"\n",
    "result = \"\".join([str1, str2])\n",
    "print(f\"Concatenated string: {result}\")"
   ]
  },
  {
   "cell_type": "code",
   "execution_count": null,
   "id": "cc4bb8ec-c40b-4e3f-9843-b9eca370c6d5",
   "metadata": {},
   "outputs": [],
   "source": []
  },
  {
   "cell_type": "markdown",
   "id": "edbb3273-af6d-4c47-8606-4ba0048f3aab",
   "metadata": {},
   "source": [
    "11. Write a code to remove all occurrences of a specific element from a list."
   ]
  },
  {
   "cell_type": "code",
   "execution_count": 10,
   "id": "04f12f8d-c7b0-40c0-aacb-88346b5f43aa",
   "metadata": {},
   "outputs": [
    {
     "name": "stdout",
     "output_type": "stream",
     "text": [
      "List after removal: [1, 3, 4, 5]\n"
     ]
    }
   ],
   "source": [
    "my_list = [1, 2, 3, 2, 4, 2, 5]  \n",
    "element_to_remove = 2  \n",
    "result = [x for x in my_list if x != element_to_remove]\n",
    "print(f\"List after removal: {result}\")"
   ]
  },
  {
   "cell_type": "code",
   "execution_count": null,
   "id": "36a04ffa-9346-468e-af3e-75fcdd21e1a0",
   "metadata": {},
   "outputs": [],
   "source": []
  },
  {
   "cell_type": "markdown",
   "id": "7df668e9-34a8-415e-aba8-c8f2067efe9a",
   "metadata": {},
   "source": [
    "12. Implement a code to find the second largest number in a given list of integers."
   ]
  },
  {
   "cell_type": "code",
   "execution_count": 11,
   "id": "f0a38f46-248b-4139-9ced-40354ae6d515",
   "metadata": {},
   "outputs": [
    {
     "name": "stdout",
     "output_type": "stream",
     "text": [
      "The second largest number is: 45\n"
     ]
    }
   ],
   "source": [
    "numbers = [10, 20, 4, 45, 99] \n",
    "unique_numbers = list(set(numbers))  \n",
    "unique_numbers.sort()  \n",
    "if len(unique_numbers) < 2:\n",
    "    print(\"The list does not have enough unique numbers.\")\n",
    "else:\n",
    "    second_largest = unique_numbers[-2]  \n",
    "    print(f\"The second largest number is: {second_largest}\")"
   ]
  },
  {
   "cell_type": "code",
   "execution_count": null,
   "id": "90c26638-e651-4bec-b519-356cab41a761",
   "metadata": {},
   "outputs": [],
   "source": []
  },
  {
   "cell_type": "markdown",
   "id": "b3d4e8cc-7c25-4f44-9a24-3993cbc08b51",
   "metadata": {},
   "source": [
    "13. Create a code to count the occurrences of each element in a list and return a dictionary with elements as keys and their counts as values."
   ]
  },
  {
   "cell_type": "code",
   "execution_count": 12,
   "id": "adb2bc43-96b3-49aa-bbb5-bda921108a61",
   "metadata": {},
   "outputs": [
    {
     "name": "stdout",
     "output_type": "stream",
     "text": [
      "Occurrences of each element: {1: 1, 2: 2, 3: 3, 4: 1}\n"
     ]
    }
   ],
   "source": [
    "my_list = [1, 2, 2, 3, 3, 3, 4] \n",
    "count_dict = {}\n",
    "for item in my_list:\n",
    "    if item in count_dict:\n",
    "        count_dict[item] += 1\n",
    "    else:\n",
    "        count_dict[item] = 1\n",
    "print(f\"Occurrences of each element: {count_dict}\")"
   ]
  },
  {
   "cell_type": "code",
   "execution_count": null,
   "id": "3cf9c799-c786-4e38-80cb-c91d60fe99c7",
   "metadata": {},
   "outputs": [],
   "source": []
  },
  {
   "cell_type": "markdown",
   "id": "2b4ffe6f-91d2-4119-90f9-9895b8e7d549",
   "metadata": {},
   "source": [
    "14. Write a code to reverse a list in-place without using any built-in reverse functions."
   ]
  },
  {
   "cell_type": "code",
   "execution_count": 13,
   "id": "593f28eb-a79b-4f01-82c5-3022a7c23e8f",
   "metadata": {},
   "outputs": [
    {
     "name": "stdout",
     "output_type": "stream",
     "text": [
      "Reversed list: [5, 4, 3, 2, 1]\n"
     ]
    }
   ],
   "source": [
    "my_list = [1, 2, 3, 4, 5] \n",
    "start = 0\n",
    "end = len(my_list) - 1\n",
    "while start < end:\n",
    "    my_list[start], my_list[end] = my_list[end], my_list[start]\n",
    "    start += 1\n",
    "    end -= 1\n",
    "print(f\"Reversed list: {my_list}\")"
   ]
  },
  {
   "cell_type": "code",
   "execution_count": null,
   "id": "00f1c090-4099-4d51-a942-a8c8937169ec",
   "metadata": {},
   "outputs": [],
   "source": []
  },
  {
   "cell_type": "markdown",
   "id": "6acdab6d-9c35-4f86-be1c-3ad3712da0fb",
   "metadata": {},
   "source": [
    "15. Implement a code to find and remove duplicates from a list while preserving the original order of\n",
    "elements."
   ]
  },
  {
   "cell_type": "code",
   "execution_count": 14,
   "id": "69d99f69-1b95-4bc8-9648-82bff1bc3f43",
   "metadata": {},
   "outputs": [
    {
     "name": "stdout",
     "output_type": "stream",
     "text": [
      "List after removing duplicates: [1, 2, 3, 4, 5]\n"
     ]
    }
   ],
   "source": [
    "my_list = [1, 2, 3, 2, 4, 5, 3]  \n",
    "seen = set()\n",
    "result = []\n",
    "for item in my_list:\n",
    "    if item not in seen:\n",
    "        result.append(item)\n",
    "        seen.add(item)\n",
    "print(f\"List after removing duplicates: {result}\")"
   ]
  },
  {
   "cell_type": "code",
   "execution_count": null,
   "id": "69c66f88-3cfe-4bc5-9a22-03b7d2343a27",
   "metadata": {},
   "outputs": [],
   "source": []
  },
  {
   "cell_type": "markdown",
   "id": "a92b84e9-dcad-47ac-af9d-1d04c37c1dbb",
   "metadata": {},
   "source": [
    "16. Create a code to check if a given list is sorted (either in ascending or descending order) or not"
   ]
  },
  {
   "cell_type": "code",
   "execution_count": 15,
   "id": "c276432c-ee6b-4fba-a881-826c62bce08c",
   "metadata": {},
   "outputs": [
    {
     "name": "stdout",
     "output_type": "stream",
     "text": [
      "The list is sorted in ascending order.\n"
     ]
    }
   ],
   "source": [
    "my_list = [1, 2, 3, 4, 5]  \n",
    "if my_list == sorted(my_list):\n",
    "    print(\"The list is sorted in ascending order.\")\n",
    "elif my_list == sorted(my_list, reverse=True):\n",
    "    print(\"The list is sorted in descending order.\")\n",
    "else:\n",
    "    print(\"The list is not sorted.\")"
   ]
  },
  {
   "cell_type": "code",
   "execution_count": null,
   "id": "6f773842-2560-4c98-9300-7ee8a0c417c4",
   "metadata": {},
   "outputs": [],
   "source": []
  },
  {
   "cell_type": "markdown",
   "id": "700e165f-2978-4788-bd26-b7e0bbb55a96",
   "metadata": {},
   "source": [
    "17. Write a code to merge two sorted lists into a single sorted list"
   ]
  },
  {
   "cell_type": "code",
   "execution_count": 16,
   "id": "20fedde9-f2bc-4a5f-af5b-0a5c0c8aef45",
   "metadata": {},
   "outputs": [
    {
     "name": "stdout",
     "output_type": "stream",
     "text": [
      "Merged sorted list: [1, 2, 3, 4, 5, 6, 7, 8]\n"
     ]
    }
   ],
   "source": [
    "list1 = [1, 3, 5, 7]  \n",
    "list2 = [2, 4, 6, 8]  \n",
    "merged_list = []\n",
    "i, j = 0, 0\n",
    "while i < len(list1) and j < len(list2):\n",
    "    if list1[i] < list2[j]:\n",
    "        merged_list.append(list1[i])\n",
    "        i += 1\n",
    "    else:\n",
    "        merged_list.append(list2[j])\n",
    "        j += 1\n",
    "merged_list.extend(list1[i:])\n",
    "merged_list.extend(list2[j:])\n",
    "print(f\"Merged sorted list: {merged_list}\")"
   ]
  },
  {
   "cell_type": "code",
   "execution_count": null,
   "id": "f49e71fe-9e6f-4216-831e-28aa73a2d8d0",
   "metadata": {},
   "outputs": [],
   "source": []
  },
  {
   "cell_type": "markdown",
   "id": "d7265c29-124c-40d9-be90-af4c73790c90",
   "metadata": {},
   "source": [
    "18. Implement a code to find the intersection of two given lists"
   ]
  },
  {
   "cell_type": "code",
   "execution_count": 17,
   "id": "1120703c-43c3-4463-a6ab-56258ab3f82a",
   "metadata": {},
   "outputs": [
    {
     "name": "stdout",
     "output_type": "stream",
     "text": [
      "Intersection of the lists: [4, 5]\n"
     ]
    }
   ],
   "source": [
    "list1 = [1, 2, 3, 4, 5]  \n",
    "list2 = [4, 5, 6, 7, 8]  \n",
    "intersection = list(set(list1) & set(list2))\n",
    "print(f\"Intersection of the lists: {intersection}\")"
   ]
  },
  {
   "cell_type": "code",
   "execution_count": null,
   "id": "42b39d9e-66f1-44ed-9128-e1b1ff132f9e",
   "metadata": {},
   "outputs": [],
   "source": []
  },
  {
   "cell_type": "markdown",
   "id": "b7cb33b9-748c-42a6-aed7-cc1003a60355",
   "metadata": {},
   "source": [
    "19. Create a code to find the union of two lists without duplicates"
   ]
  },
  {
   "cell_type": "code",
   "execution_count": 18,
   "id": "9951e13e-e17f-493b-8cac-b37fe824733e",
   "metadata": {},
   "outputs": [
    {
     "name": "stdout",
     "output_type": "stream",
     "text": [
      "Union of the lists: [1, 2, 3, 4, 5, 6, 7, 8]\n"
     ]
    }
   ],
   "source": [
    "list1 = [1, 2, 3, 4, 5]  \n",
    "list2 = [4, 5, 6, 7, 8]  \n",
    "union = list(set(list1) | set(list2))\n",
    "print(f\"Union of the lists: {union}\")"
   ]
  },
  {
   "cell_type": "code",
   "execution_count": null,
   "id": "1d25eda0-51a5-41d8-a0df-c3c8e892c63f",
   "metadata": {},
   "outputs": [],
   "source": []
  },
  {
   "cell_type": "markdown",
   "id": "8a7c105f-24a5-43fd-99a5-ed719f50bc63",
   "metadata": {},
   "source": [
    "20. Write a code to shuffle a given list randomly without using any built-in shuffle functions."
   ]
  },
  {
   "cell_type": "code",
   "execution_count": 19,
   "id": "67faae3e-7d60-4931-aff3-2a87af374d80",
   "metadata": {},
   "outputs": [
    {
     "name": "stdout",
     "output_type": "stream",
     "text": [
      "Shuffled list: [1, 4, 2, 5, 3]\n"
     ]
    }
   ],
   "source": [
    "import random\n",
    "my_list = [1, 2, 3, 4, 5]  \n",
    "for i in range(len(my_list)):\n",
    "    j = random.randint(0, len(my_list) - 1)  \n",
    "    my_list[i], my_list[j] = my_list[j], my_list[i]  \n",
    "print(f\"Shuffled list: {my_list}\")"
   ]
  },
  {
   "cell_type": "code",
   "execution_count": null,
   "id": "dd1f9061-33b2-4bda-ac35-97d3a20dda6e",
   "metadata": {},
   "outputs": [],
   "source": []
  },
  {
   "cell_type": "markdown",
   "id": "b3340623-1e4c-4c32-8cde-724e8242d5b4",
   "metadata": {},
   "source": [
    "21. Write a code that takes two tuples as input and returns a new tuple containing elements that are\n",
    "common to both input tuples"
   ]
  },
  {
   "cell_type": "code",
   "execution_count": 20,
   "id": "55beadae-68bb-49b3-bdde-51aa208585e9",
   "metadata": {},
   "outputs": [
    {
     "name": "stdout",
     "output_type": "stream",
     "text": [
      "Common elements in both tuples: (4, 5)\n"
     ]
    }
   ],
   "source": [
    "tuple1 = (1, 2, 3, 4, 5)  \n",
    "tuple2 = (4, 5, 6, 7, 8)  \n",
    "common_elements = tuple(set(tuple1) & set(tuple2))\n",
    "print(f\"Common elements in both tuples: {common_elements}\")"
   ]
  },
  {
   "cell_type": "code",
   "execution_count": null,
   "id": "43663d1a-b0aa-480f-849b-d64d2c4feee9",
   "metadata": {},
   "outputs": [],
   "source": []
  },
  {
   "cell_type": "markdown",
   "id": "9bbaf181-b38f-4f18-9bf6-f50c91352dfb",
   "metadata": {},
   "source": [
    "22. Create a code that prompts the user to enter two sets of integers separated by commas. Then, print the\n",
    "intersection of these two sets"
   ]
  },
  {
   "cell_type": "code",
   "execution_count": 22,
   "id": "a7b2661d-1bde-4481-ba59-3101c4b3c60b",
   "metadata": {},
   "outputs": [
    {
     "name": "stdin",
     "output_type": "stream",
     "text": [
      "Enter the first set of integers (separated by commas):  2,5,8,9,6\n",
      "Enter the second set of integers (separated by commas):  1,5,9,6,2\n"
     ]
    },
    {
     "name": "stdout",
     "output_type": "stream",
     "text": [
      "Intersection of the two sets: {9, 2, 5, 6}\n"
     ]
    }
   ],
   "source": [
    "set1 = set(map(int, input(\"Enter the first set of integers (separated by commas): \").split(',')))\n",
    "set2 = set(map(int, input(\"Enter the second set of integers (separated by commas): \").split(',')))\n",
    "intersection = set1 & set2\n",
    "print(f\"Intersection of the two sets: {intersection}\")"
   ]
  },
  {
   "cell_type": "code",
   "execution_count": null,
   "id": "05e9b06d-4c4c-4479-bc49-69f875c7035e",
   "metadata": {},
   "outputs": [],
   "source": []
  },
  {
   "cell_type": "markdown",
   "id": "f7375dcd-289c-43ae-9017-fc23f3266b90",
   "metadata": {},
   "source": [
    "23. Write a code to concatenate two tuples. The function should take two tuples as input and return a new\n",
    "tuple containing elements from both input tuples."
   ]
  },
  {
   "cell_type": "code",
   "execution_count": 23,
   "id": "29fee299-908e-4f59-9980-4a51d628a4e2",
   "metadata": {},
   "outputs": [
    {
     "name": "stdout",
     "output_type": "stream",
     "text": [
      "Concatenated tuple: (1, 2, 3, 4, 5, 6)\n"
     ]
    }
   ],
   "source": [
    "def concatenate_tuples(tuple1, tuple2):\n",
    "    return tuple1 + tuple2\n",
    "tuple1 = (1, 2, 3)\n",
    "tuple2 = (4, 5, 6)\n",
    "result = concatenate_tuples(tuple1, tuple2)\n",
    "print(f\"Concatenated tuple: {result}\")"
   ]
  },
  {
   "cell_type": "code",
   "execution_count": null,
   "id": "aaa217cc-2d05-4011-b98a-536bc0445f4c",
   "metadata": {},
   "outputs": [],
   "source": []
  },
  {
   "cell_type": "markdown",
   "id": "32017d7b-b3d5-4803-8c90-b15cce5cb40f",
   "metadata": {},
   "source": [
    "24. Develop a code that prompts the user to input two sets of strings. Then, print the elements that are\n",
    "present in the first set but not in the second set"
   ]
  },
  {
   "cell_type": "code",
   "execution_count": 24,
   "id": "4e775df1-84c1-4263-ba8c-28385be09e73",
   "metadata": {},
   "outputs": [
    {
     "name": "stdin",
     "output_type": "stream",
     "text": [
      "Enter the first set of strings (separated by commas):  k,i,s,h,a,n\n",
      "Enter the second set of strings (separated by commas):  a,n,a,g,a,d,k,a,r\n"
     ]
    },
    {
     "name": "stdout",
     "output_type": "stream",
     "text": [
      "Elements in the first set but not in the second set: {'h', 'i', 's'}\n"
     ]
    }
   ],
   "source": [
    "set1 = set(input(\"Enter the first set of strings (separated by commas): \").split(','))\n",
    "set2 = set(input(\"Enter the second set of strings (separated by commas): \").split(','))\n",
    "difference = set1 - set2\n",
    "print(f\"Elements in the first set but not in the second set: {difference}\")"
   ]
  },
  {
   "cell_type": "code",
   "execution_count": null,
   "id": "546c2437-fb47-42f5-8dae-fd888b9b5d96",
   "metadata": {},
   "outputs": [],
   "source": []
  },
  {
   "cell_type": "markdown",
   "id": "e2620328-4fd8-4b3b-9efe-50743870e07c",
   "metadata": {},
   "source": [
    "25. Create a code that takes a tuple and two integers as input. The function should return a new tuple\n",
    "containing elements from the original tuple within the specified range of indices"
   ]
  },
  {
   "cell_type": "code",
   "execution_count": 25,
   "id": "84d90f2a-ef33-4e78-b738-afee5ed2621e",
   "metadata": {},
   "outputs": [
    {
     "name": "stdout",
     "output_type": "stream",
     "text": [
      "Elements in the specified range: (3, 4, 5, 6)\n"
     ]
    }
   ],
   "source": [
    "def get_elements_in_range(input_tuple, start_index, end_index):\n",
    "    return input_tuple[start_index:end_index]\n",
    "tuple_input = (1, 2, 3, 4, 5, 6, 7, 8, 9)\n",
    "start = 2  \n",
    "end = 6    \n",
    "result = get_elements_in_range(tuple_input, start, end)\n",
    "print(f\"Elements in the specified range: {result}\")"
   ]
  },
  {
   "cell_type": "code",
   "execution_count": null,
   "id": "fc910296-fad4-4128-9cfa-c91be1093931",
   "metadata": {},
   "outputs": [],
   "source": []
  },
  {
   "cell_type": "markdown",
   "id": "0f7dd061-8acc-4c64-af29-e9a87dada416",
   "metadata": {},
   "source": [
    "26. Write a code that prompts the user to input two sets of characters. Then, print the union of these two sets"
   ]
  },
  {
   "cell_type": "code",
   "execution_count": 26,
   "id": "b593072b-f53d-46e7-a531-717438c1fbb1",
   "metadata": {},
   "outputs": [
    {
     "name": "stdin",
     "output_type": "stream",
     "text": [
      "Enter the first set of characters (separated by commas):  a,b,c,d\n",
      "Enter the second set of characters (separated by commas):  e,f,g,h\n"
     ]
    },
    {
     "name": "stdout",
     "output_type": "stream",
     "text": [
      "Union of the two sets: {'g', 'd', 'a', 'b', 'e', 'h', 'f', 'c'}\n"
     ]
    }
   ],
   "source": [
    "set1 = set(input(\"Enter the first set of characters (separated by commas): \").split(','))\n",
    "set2 = set(input(\"Enter the second set of characters (separated by commas): \").split(','))\n",
    "union = set1 | set2\n",
    "print(f\"Union of the two sets: {union}\")"
   ]
  },
  {
   "cell_type": "code",
   "execution_count": null,
   "id": "61a93d92-3fcb-4fc8-9c91-0f5e621193f9",
   "metadata": {},
   "outputs": [],
   "source": []
  },
  {
   "cell_type": "markdown",
   "id": "d576eed3-fc95-4911-bc2e-19eed7b1000b",
   "metadata": {},
   "source": [
    "27. Develop a code that takes a tuple of integers as input. The function should return the maximum and\n",
    "minimum values from the tuple using tuple unpacking"
   ]
  },
  {
   "cell_type": "code",
   "execution_count": 27,
   "id": "2123b75c-4bc5-4d1c-ab75-a0fb495f734f",
   "metadata": {},
   "outputs": [
    {
     "name": "stdout",
     "output_type": "stream",
     "text": [
      "Maximum value: 99\n",
      "Minimum value: 1\n"
     ]
    }
   ],
   "source": [
    "def find_max_min(input_tuple):\n",
    "    max_val, min_val = max(input_tuple), min(input_tuple)\n",
    "    return max_val, min_val\n",
    "tuple_input = (10, 20, 4, 45, 99, 1)\n",
    "max_val, min_val = find_max_min(tuple_input)\n",
    "print(f\"Maximum value: {max_val}\")\n",
    "print(f\"Minimum value: {min_val}\")"
   ]
  },
  {
   "cell_type": "code",
   "execution_count": null,
   "id": "cad4e06b-b03d-4694-a3b8-d8600633a943",
   "metadata": {},
   "outputs": [],
   "source": []
  },
  {
   "cell_type": "markdown",
   "id": "848f4bc5-d2b3-46bf-8f46-2f43802dd798",
   "metadata": {},
   "source": [
    "28. Create a code that defines two sets of integers. Then, print the union, intersection, and difference of these two sets"
   ]
  },
  {
   "cell_type": "code",
   "execution_count": 28,
   "id": "99c68c2b-34ae-4f33-8989-023cd918e399",
   "metadata": {},
   "outputs": [
    {
     "name": "stdout",
     "output_type": "stream",
     "text": [
      "Union of the sets: {1, 2, 3, 4, 5, 6, 7, 8}\n",
      "Intersection of the sets: {4, 5}\n",
      "Difference of the sets (set1 - set2): {1, 2, 3}\n"
     ]
    }
   ],
   "source": [
    "set1 = {1, 2, 3, 4, 5}\n",
    "set2 = {4, 5, 6, 7, 8}\n",
    "union = set1 | set2\n",
    "print(f\"Union of the sets: {union}\")\n",
    "intersection = set1 & set2\n",
    "print(f\"Intersection of the sets: {intersection}\")\n",
    "difference = set1 - set2\n",
    "print(f\"Difference of the sets (set1 - set2): {difference}\")"
   ]
  },
  {
   "cell_type": "code",
   "execution_count": null,
   "id": "635d9ddc-f8b5-4a56-973e-82e8a54d6758",
   "metadata": {},
   "outputs": [],
   "source": []
  },
  {
   "cell_type": "markdown",
   "id": "7af4a5b7-09c2-4f5e-812b-e5726d95bc84",
   "metadata": {},
   "source": [
    "29. Write a code that takes a tuple and an element as input. The function should return the count of\n",
    "occurrences of the given element in the tuple."
   ]
  },
  {
   "cell_type": "code",
   "execution_count": 29,
   "id": "6a58f38b-dd2a-4db5-8bdc-a9bd6157bfb3",
   "metadata": {},
   "outputs": [
    {
     "name": "stdout",
     "output_type": "stream",
     "text": [
      "The element 2 appears 3 times in the tuple.\n"
     ]
    }
   ],
   "source": [
    "def count_occurrences(input_tuple, element):\n",
    "    return input_tuple.count(element)\n",
    "tuple_input = (1, 2, 3, 4, 2, 5, 2)\n",
    "element_to_count = 2\n",
    "occurrences = count_occurrences(tuple_input, element_to_count)\n",
    "print(f\"The element {element_to_count} appears {occurrences} times in the tuple.\")"
   ]
  },
  {
   "cell_type": "code",
   "execution_count": null,
   "id": "10f03606-7f54-4285-b920-f0d4faba216e",
   "metadata": {},
   "outputs": [],
   "source": []
  },
  {
   "cell_type": "markdown",
   "id": "8257b69c-4ae1-461b-b837-02d61f17f781",
   "metadata": {},
   "source": [
    "30. Develop a code that prompts the user to input two sets of strings. Then, print the symmetric difference of these two sets."
   ]
  },
  {
   "cell_type": "code",
   "execution_count": 30,
   "id": "3277e60d-00af-4f50-bb9b-ac9baf3ec5e0",
   "metadata": {},
   "outputs": [
    {
     "name": "stdin",
     "output_type": "stream",
     "text": [
      "Enter the first set of strings (separated by commas):  apple, banana, grape\n",
      "Enter the second set of strings (separated by commas):  banana,orange,apple\n"
     ]
    },
    {
     "name": "stdout",
     "output_type": "stream",
     "text": [
      "Symmetric difference of the two sets: {' banana', 'orange', ' grape', 'banana'}\n"
     ]
    }
   ],
   "source": [
    "set1 = set(input(\"Enter the first set of strings (separated by commas): \").split(','))\n",
    "set2 = set(input(\"Enter the second set of strings (separated by commas): \").split(','))\n",
    "symmetric_difference = set1 ^ set2\n",
    "print(f\"Symmetric difference of the two sets: {symmetric_difference}\")"
   ]
  },
  {
   "cell_type": "code",
   "execution_count": null,
   "id": "dfb0c60a-0013-4e3c-8448-b3778008b713",
   "metadata": {},
   "outputs": [],
   "source": []
  },
  {
   "cell_type": "markdown",
   "id": "ca4d795c-0c2c-4bf5-b9e7-a60b1caf34ab",
   "metadata": {},
   "source": [
    "31. Write a code that takes a list of words as input and returns a dictionary where the keys are unique words and the values are the frequencies of those words in the input list"
   ]
  },
  {
   "cell_type": "code",
   "execution_count": 31,
   "id": "a31b083d-6175-4804-b9a6-4013f1bcff70",
   "metadata": {},
   "outputs": [
    {
     "name": "stdin",
     "output_type": "stream",
     "text": [
      "Enter a list of words separated by spaces:  apple banana apple orange banana apple\n"
     ]
    },
    {
     "name": "stdout",
     "output_type": "stream",
     "text": [
      "Word frequencies: {'apple': 3, 'banana': 2, 'orange': 1}\n"
     ]
    }
   ],
   "source": [
    "def word_frequencies(word_list):\n",
    "    freq_dict = {}\n",
    "    for word in word_list:\n",
    "        if word in freq_dict:\n",
    "            freq_dict[word] += 1\n",
    "        else:\n",
    "            freq_dict[word] = 1\n",
    "    return freq_dict\n",
    "words_input = input(\"Enter a list of words separated by spaces: \").split()\n",
    "frequency_dict = word_frequencies(words_input)\n",
    "print(f\"Word frequencies: {frequency_dict}\")"
   ]
  },
  {
   "cell_type": "code",
   "execution_count": null,
   "id": "f1fd00d3-db00-442f-bfc4-f3bc1e9dc801",
   "metadata": {},
   "outputs": [],
   "source": []
  },
  {
   "cell_type": "markdown",
   "id": "9f5f0047-d3dd-4d09-9f9a-c37571698084",
   "metadata": {},
   "source": [
    "32. Write a code that takes two dictionaries as input and merges them into a single dictionary. If there are common keys, the values should be added together"
   ]
  },
  {
   "cell_type": "code",
   "execution_count": 32,
   "id": "034dcd18-d6f0-455f-bd34-b38323c2c761",
   "metadata": {},
   "outputs": [
    {
     "name": "stdout",
     "output_type": "stream",
     "text": [
      "Merged dictionary: {'a': 1, 'b': 5, 'c': 4, 'd': 4}\n"
     ]
    }
   ],
   "source": [
    "def merge_dicts(dict1, dict2):\n",
    "    merged_dict = dict1.copy()  # Make a copy of dict1\n",
    "    for key, value in dict2.items():\n",
    "        if key in merged_dict:\n",
    "            merged_dict[key] += value  # Add the values for common keys\n",
    "        else:\n",
    "            merged_dict[key] = value  # Add the new key-value pair\n",
    "    return merged_dict\n",
    "dict1 = {'a': 1, 'b': 2, 'c': 3}\n",
    "dict2 = {'b': 3, 'c': 1, 'd': 4}\n",
    "merged_result = merge_dicts(dict1, dict2)\n",
    "print(f\"Merged dictionary: {merged_result}\")"
   ]
  },
  {
   "cell_type": "code",
   "execution_count": null,
   "id": "6d30212f-4e46-4876-92a0-58f5923e91c6",
   "metadata": {},
   "outputs": [],
   "source": []
  },
  {
   "cell_type": "markdown",
   "id": "66f3067b-bab6-41d4-98e5-ff6d6add2175",
   "metadata": {},
   "source": [
    "33. Write a code to access a value in a nested dictionary. The function should take the dictionary and a list of keys as input, and return the corresponding value. If any of the keys do not exist in the dictionary, the function should return Non"
   ]
  },
  {
   "cell_type": "code",
   "execution_count": 33,
   "id": "914df010-7af4-40da-855e-40a3cceda36d",
   "metadata": {},
   "outputs": [
    {
     "name": "stdout",
     "output_type": "stream",
     "text": [
      "Value: 10\n",
      "Value: None\n"
     ]
    }
   ],
   "source": [
    "def access_nested_dict(nested_dict, keys):\n",
    "    for key in keys:\n",
    "        if key in nested_dict:\n",
    "            nested_dict = nested_dict[key]\n",
    "        else:\n",
    "            return None\n",
    "    return nested_dict\n",
    "nested_dict = {\n",
    "    'a': {\n",
    "        'b': {\n",
    "            'c': 10\n",
    "        }\n",
    "    }\n",
    "}\n",
    "\n",
    "keys = ['a', 'b', 'c']\n",
    "value = access_nested_dict(nested_dict, keys)\n",
    "print(f\"Value: {value}\")  # Output will be 10\n",
    "keys_invalid = ['a', 'b', 'd']\n",
    "value_invalid = access_nested_dict(nested_dict, keys_invalid)\n",
    "print(f\"Value: {value_invalid}\")  # Output will be None"
   ]
  },
  {
   "cell_type": "code",
   "execution_count": null,
   "id": "03c287eb-776a-42a9-8951-beb999ddd82e",
   "metadata": {},
   "outputs": [],
   "source": []
  },
  {
   "cell_type": "markdown",
   "id": "91d07229-03f1-476d-907e-caf795afde14",
   "metadata": {},
   "source": [
    "34. Write a code that takes a dictionary as input and returns a sorted version of it based on the values. You can choose whether to sort in ascending or descending order"
   ]
  },
  {
   "cell_type": "code",
   "execution_count": 34,
   "id": "affb038a-d6b9-46e9-a2da-13391ae1b693",
   "metadata": {},
   "outputs": [
    {
     "name": "stdout",
     "output_type": "stream",
     "text": [
      "Sorted in ascending order: {'b': 1, 'c': 2, 'a': 3, 'd': 5}\n",
      "Sorted in descending order: {'d': 5, 'a': 3, 'c': 2, 'b': 1}\n"
     ]
    }
   ],
   "source": [
    "def sort_dict_by_values(input_dict, descending=False):\n",
    "    sorted_dict = dict(sorted(input_dict.items(), key=lambda item: item[1], reverse=descending))\n",
    "    return sorted_dict\n",
    "input_dict = {'a': 3, 'b': 1, 'c': 2, 'd': 5}\n",
    "sorted_asc = sort_dict_by_values(input_dict)\n",
    "print(f\"Sorted in ascending order: {sorted_asc}\")\n",
    "sorted_desc = sort_dict_by_values(input_dict, descending=True)\n",
    "print(f\"Sorted in descending order: {sorted_desc}\")"
   ]
  },
  {
   "cell_type": "code",
   "execution_count": null,
   "id": "667bd112-b9df-46f3-805c-5570cf265d17",
   "metadata": {},
   "outputs": [],
   "source": []
  },
  {
   "cell_type": "markdown",
   "id": "d9f00f14-c84d-4350-9bad-34abffde0431",
   "metadata": {},
   "source": [
    "35. Write a code that inverts a dictionary, swapping keys and values. Ensure that the inverted dictionary\n",
    "correctly handles cases where multiple keys have the same value by storing the keys as a list in the\n",
    "inverted dictionary"
   ]
  },
  {
   "cell_type": "code",
   "execution_count": 35,
   "id": "8ad410b5-fa1a-4c6e-b3ab-e3945d830cf4",
   "metadata": {},
   "outputs": [
    {
     "name": "stdout",
     "output_type": "stream",
     "text": [
      "Inverted dictionary: {1: ['a', 'c'], 2: ['b', 'e'], 3: ['d']}\n"
     ]
    }
   ],
   "source": [
    "def invert_dict(input_dict):\n",
    "    inverted_dict = {}\n",
    "    for key, value in input_dict.items():\n",
    "        if value in inverted_dict:\n",
    "            inverted_dict[value].append(key)  # Add the key to the list if value already exists\n",
    "        else:\n",
    "            inverted_dict[value] = [key]  # Create a new list for the value\n",
    "    return inverted_dict\n",
    "input_dict = {'a': 1, 'b': 2, 'c': 1, 'd': 3, 'e': 2}\n",
    "inverted = invert_dict(input_dict)\n",
    "print(f\"Inverted dictionary: {inverted}\")"
   ]
  },
  {
   "cell_type": "code",
   "execution_count": null,
   "id": "22a4ed18-dd9d-434d-b46d-42f8631b0720",
   "metadata": {},
   "outputs": [],
   "source": []
  }
 ],
 "metadata": {
  "kernelspec": {
   "display_name": "Python 3 (ipykernel)",
   "language": "python",
   "name": "python3"
  },
  "language_info": {
   "codemirror_mode": {
    "name": "ipython",
    "version": 3
   },
   "file_extension": ".py",
   "mimetype": "text/x-python",
   "name": "python",
   "nbconvert_exporter": "python",
   "pygments_lexer": "ipython3",
   "version": "3.12.6"
  }
 },
 "nbformat": 4,
 "nbformat_minor": 5
}
