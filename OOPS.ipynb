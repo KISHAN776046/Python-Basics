{
 "cells": [
  {
   "cell_type": "markdown",
   "id": "c76dbd78-ae6e-4cb3-bdf2-e7771dcb15ba",
   "metadata": {},
   "source": [
    "1. What are the five key concepts of Object-Oriented Programming (OOP)?"
   ]
  },
  {
   "cell_type": "markdown",
   "id": "b71887a1-a2a9-4c95-b7f5-d4e40396ca13",
   "metadata": {},
   "source": [
    "The five key concepts of Object-Oriented Programming (OOP) are:\n",
    "\n",
    "Encapsulation:\n",
    "Bundling data (attributes) and methods (functions) that operate on the data into a single unit, called a class. It also restricts direct access to some of an object's components, protecting the object's integrity.\n",
    "\n",
    "Abstraction:\n",
    "Hiding the complex implementation details and showing only the essential features of an object. It helps to focus on what an object does, rather than how it does it.\n",
    "\n",
    "Inheritance:\n",
    "A mechanism where a new class inherits the attributes and methods of an existing class, allowing for reusability and extending functionality.\n",
    "\n",
    "Polymorphism:\n",
    "The ability of different objects to respond to the same method call in their own way. It allows for method overriding and method overloading, providing flexibility in how objects behave.\n",
    "\n",
    "Composition (sometimes included):\n",
    "A design principle where objects are composed of other objects, allowing for more flexible and modular structures."
   ]
  },
  {
   "cell_type": "code",
   "execution_count": null,
   "id": "847c11bf-858d-4a95-a25f-b0fe7d86a9f4",
   "metadata": {},
   "outputs": [],
   "source": []
  },
  {
   "cell_type": "markdown",
   "id": "e7e057d2-1feb-478f-9423-7c9813d3c5a4",
   "metadata": {},
   "source": [
    "2.Write a Python class for a `Car` with attributes for `make`, `model`, and `year`. Include a method to display\n",
    "the car's information."
   ]
  },
  {
   "cell_type": "code",
   "execution_count": 1,
   "id": "b768b649-df48-441d-8a5c-8511659dbe59",
   "metadata": {},
   "outputs": [
    {
     "name": "stdout",
     "output_type": "stream",
     "text": [
      "Car Information: 2020 Toyota Corolla\n"
     ]
    }
   ],
   "source": [
    "class Car:\n",
    "    def __init__(self, make, model, year):\n",
    "        self.make = make\n",
    "        self.model = model\n",
    "        self.year = year\n",
    "\n",
    "    def display_info(self):\n",
    "        print(f\"Car Information: {self.year} {self.make} {self.model}\")\n",
    "        \n",
    "my_car = Car(\"Toyota\", \"Corolla\", 2020)\n",
    "my_car.display_info()"
   ]
  },
  {
   "cell_type": "code",
   "execution_count": null,
   "id": "97199546-da95-4536-b8d2-adac64ab4831",
   "metadata": {},
   "outputs": [],
   "source": []
  },
  {
   "cell_type": "markdown",
   "id": "a317a6dd-6c8b-4b01-93dc-735665ced373",
   "metadata": {},
   "source": [
    "3.Explain the difference between instance methods and class methods. Provide an example of each."
   ]
  },
  {
   "cell_type": "markdown",
   "id": "9f0ffb60-7bc3-4f7a-b578-e7160d850dd1",
   "metadata": {},
   "source": [
    "In Python, both instance methods and class methods are used to define functions within a class, but they differ in how they interact with the class and its instances.\n",
    "\n",
    "1. Instance Methods:\n",
    "\n",
    "Definition: Instance methods are bound to the instance of the class. They take self as their first parameter, which allows them to access and modify the instance's attributes.\n",
    "Usage: These methods operate on the instance and can modify its state.\n",
    "\n",
    "Example of an Instance Method:\n",
    "\n",
    "class Car:\n",
    "    def __init__(self, make, model, year):\n",
    "        self.make = make\n",
    "        self.model = model\n",
    "        self.year = year\n",
    "\n",
    "    def display_info(self):\n",
    "        print(f\"Car Information: {self.year} {self.make} {self.model}\")\n",
    "\n",
    "# Creating an instance\n",
    "my_car = Car(\"Toyota\", \"Corolla\", 2020)\n",
    "my_car.display_info()  # Calls instance method\n",
    "\n",
    "2. Class Methods:\n",
    "Definition: Class methods are bound to the class itself, not to an instance. They take cls as their first parameter, which refers to the class. Class methods can access or modify class-level attributes but cannot access instance-specific attributes.\n",
    "\n",
    "Usage: These methods operate on the class and can be used for operations that affect the entire class, not just a single instance.\n",
    "Example of a Class Method:\n",
    "\n",
    "class Car:\n",
    "    total_cars = 0  # Class attribute\n",
    "\n",
    "    def __init__(self, make, model, year):\n",
    "        self.make = make\n",
    "        self.model = model\n",
    "        self.year = year\n",
    "        Car.total_cars += 1  # Increment class-level counter on each instance creation\n",
    "\n",
    "    @classmethod\n",
    "    def display_total_cars(cls):\n",
    "        print(f\"Total cars created: {cls.total_cars}\")\n",
    "\n",
    "# Creating instances\n",
    "car1 = Car(\"Toyota\", \"Corolla\", 2020)\n",
    "car2 = Car(\"Honda\", \"Civic\", 2021)\n",
    "\n",
    "# Calling class method\n",
    "Car.display_total_cars()  # Calls class method"
   ]
  },
  {
   "cell_type": "code",
   "execution_count": null,
   "id": "01018918-c601-48f2-b894-9e124ef35b66",
   "metadata": {},
   "outputs": [],
   "source": []
  },
  {
   "cell_type": "markdown",
   "id": "184d7716-d47d-43fb-8408-82f580e9ca42",
   "metadata": {},
   "source": [
    "4. How does Python implement method overloading? Give an example."
   ]
  },
  {
   "cell_type": "markdown",
   "id": "83680152-ca24-4bdd-a143-234b3c35b63b",
   "metadata": {},
   "source": [
    "Python does not support method overloading in the traditional sense, like in other languages (e.g., Java or C++), where you can define multiple methods with the same name but different argument types or numbers. Instead, Python allows method overriding and dynamic argument handling via default arguments, variable-length arguments (*args and **kwargs), or custom logic.\n",
    "\n",
    "Method Overloading in Python (Emulating)\n",
    "Python handles method overloading by checking the number and type of arguments dynamically inside a method. You can define one method and then handle different cases using conditional checks.\n",
    "\n",
    "Example of Method Overloading in Python:\n",
    "\n",
    "class Calculator:\n",
    "    def add(self, *args):\n",
    "        if len(args) == 2:\n",
    "            return args[0] + args[1]  # Adding two numbers\n",
    "        elif len(args) > 2:\n",
    "            return sum(args)  # Adding more than two numbers\n",
    "        else:\n",
    "            raise TypeError(\"At least two numbers are required\")\n",
    "\n",
    "# Example usage:\n",
    "calc = Calculator()\n",
    "\n",
    "# Calling add method with two arguments\n",
    "print(calc.add(3, 5))  # Output: 8\n",
    "\n",
    "# Calling add method with more than two arguments\n",
    "print(calc.add(1, 2, 3, 4))  # Output: 10\n",
    "\n",
    "# Calling add method with one argument (raises error)\n",
    "# print(calc.add(3))  # Raises TypeError: At least two numbers are required"
   ]
  },
  {
   "cell_type": "code",
   "execution_count": null,
   "id": "05ae463c-f1d9-4f09-81b5-65cbd8927bb7",
   "metadata": {},
   "outputs": [],
   "source": []
  },
  {
   "cell_type": "markdown",
   "id": "557b3785-01e6-4319-acff-aee19f229428",
   "metadata": {},
   "source": [
    "5.  What are the three types of access modifiers in Python? How are they denoted?"
   ]
  },
  {
   "cell_type": "markdown",
   "id": "81a46ca7-e484-4c5e-9d40-955b5f6a6cbc",
   "metadata": {},
   "source": [
    "n Python, there are three types of access modifiers that control the visibility of attributes and methods in a class. These are:\n",
    "\n",
    "1. Public:\n",
    "Definition: Public members (attributes or methods) are accessible from anywhere, both inside and outside the class.\n",
    "\n",
    "Denotation: No special prefix is used.\n",
    "\n",
    "Example:\n",
    "\n",
    "class MyClass:\n",
    "    def __init__(self, name):\n",
    "        self.name = name  # Public attribute\n",
    "\n",
    "    def greet(self):  # Public method\n",
    "        print(f\"Hello, {self.name}!\")\n",
    "\n",
    "obj = MyClass(\"Alice\")\n",
    "print(obj.name)  # Accessing public attribute\n",
    "obj.greet()  # Calling public method\n",
    "\n",
    "2. Protected:\n",
    "Definition: Protected members are intended to be accessed only within the class and its subclasses. They are not strictly private, but they should not be accessed directly outside the class.\n",
    "\n",
    "Denotation: One underscore (_) is used as a prefix.\n",
    "\n",
    "Example:\n",
    "\n",
    "class MyClass:\n",
    "    def __init__(self, name):\n",
    "        self._name = name  # Protected attribute\n",
    "\n",
    "    def _greet(self):  # Protected method\n",
    "        print(f\"Hello, {self._name}!\")\n",
    "\n",
    "obj = MyClass(\"Alice\")\n",
    "print(obj._name)  # This can be accessed, but it's meant to be protected\n",
    "obj._greet()  # This can be called, but it's meant to be protected\n",
    "\n",
    "3. Private:\n",
    "Definition: Private members are intended to be accessible only within the class itself. They cannot be accessed directly from outside the class, ensuring data encapsulation.\n",
    "\n",
    "Denotation: Two underscores (__) are used as a prefix.\n",
    "\n",
    "Example:\n",
    "\n",
    "class MyClass:\n",
    "    def __init__(self, name):\n",
    "        self.__name = name  # Private attribute\n",
    "\n",
    "    def __greet(self):  # Private method\n",
    "        print(f\"Hello, {self.__name}!\")\n",
    "\n",
    "obj = MyClass(\"Alice\")\n",
    "# print(obj.__name)  # Raises an AttributeError, can't access directly\n",
    "# obj.__greet()  # Raises an AttributeError, can't access directly"
   ]
  },
  {
   "cell_type": "code",
   "execution_count": null,
   "id": "7fe9be08-8926-427c-a10a-dfbaab56bdfb",
   "metadata": {},
   "outputs": [],
   "source": []
  },
  {
   "cell_type": "markdown",
   "id": "b21cd693-3a2a-4f63-9e80-913b3804a087",
   "metadata": {},
   "source": [
    "6. Describe the five types of inheritance in Python. Provide a simple example of multiple inheritance."
   ]
  },
  {
   "cell_type": "markdown",
   "id": "a1ebcbe9-9e40-4e5b-9db4-f8f0d6b756c2",
   "metadata": {},
   "source": [
    "In Python, inheritance is a way to create a new class (child class) from an existing class (parent class), allowing the child class to inherit methods and attributes of the parent class. There are five main types of inheritance in Python:\n",
    "\n",
    "1. Single Inheritance:\n",
    "\n",
    "Definition: A child class inherits from a single parent class.\n",
    "\n",
    "Example:\n",
    "\n",
    "class Animal:\n",
    "    def speak(self):\n",
    "        print(\"Animal speaks\")\n",
    "\n",
    "class Dog(Animal):\n",
    "    def bark(self):\n",
    "        print(\"Dog barks\")\n",
    "\n",
    "# Example usage:\n",
    "dog = Dog()\n",
    "dog.speak()  # Inherited method from Animal\n",
    "dog.bark()   # Method from Dog\n",
    "\n",
    "2. Multiple Inheritance:\n",
    "Definition: A child class inherits from more than one parent class.\n",
    "\n",
    "Example:\n",
    "class Animal:\n",
    "    def speak(self):\n",
    "        print(\"Animal speaks\")\n",
    "\n",
    "class Bird:\n",
    "    def fly(self):\n",
    "        print(\"Bird flies\")\n",
    "\n",
    "class Bat(Animal, Bird):\n",
    "    def hang(self):\n",
    "        print(\"Bat hangs upside down\")\n",
    "\n",
    "# Example usage:\n",
    "bat = Bat()\n",
    "bat.speak()  # Inherited from Animal\n",
    "bat.fly()    # Inherited from Bird\n",
    "bat.hang()   # Method from Bat\n",
    "\n",
    "3. Multilevel Inheritance:\n",
    "Definition: A child class inherits from a parent class, and then another class inherits from the child class.\n",
    "\n",
    "Example:\n",
    "\n",
    "class Animal:\n",
    "    def speak(self):\n",
    "        print(\"Animal speaks\")\n",
    "\n",
    "class Dog(Animal):\n",
    "    def bark(self):\n",
    "        print(\"Dog barks\")\n",
    "\n",
    "class Puppy(Dog):\n",
    "    def play(self):\n",
    "        print(\"Puppy plays\")\n",
    "\n",
    "# Example usage:\n",
    "puppy = Puppy()\n",
    "puppy.speak()  # Inherited from Animal\n",
    "puppy.bark()   # Inherited from Dog\n",
    "puppy.play()   # Method from Puppy\n",
    "\n",
    "4. Hierarchical Inheritance:\n",
    "Definition: Multiple child classes inherit from a single parent class.\n",
    "\n",
    "Example:\n",
    "\n",
    "class Animal:\n",
    "    def speak(self):\n",
    "        print(\"Animal speaks\")\n",
    "\n",
    "class Dog(Animal):\n",
    "    def bark(self):\n",
    "        print(\"Dog barks\")\n",
    "\n",
    "class Cat(Animal):\n",
    "    def meow(self):\n",
    "        print(\"Cat meows\")\n",
    "\n",
    "# Example usage:\n",
    "dog = Dog()\n",
    "dog.speak()  # Inherited from Animal\n",
    "dog.bark()\n",
    "\n",
    "cat = Cat()\n",
    "cat.speak()  # Inherited from Animal\n",
    "cat.meow()\n",
    "\n",
    "5. Hybrid Inheritance:\n",
    "Definition: A combination of two or more types of inheritance, like multiple inheritance and multilevel inheritance.\n",
    "\n",
    "Example (Combination of Multiple and Multilevel):\n",
    "\n",
    "class Animal:\n",
    "    def speak(self):\n",
    "        print(\"Animal speaks\")\n",
    "\n",
    "class Bird:\n",
    "    def fly(self):\n",
    "        print(\"Bird flies\")\n",
    "\n",
    "class Mammal(Animal):\n",
    "    def walk(self):\n",
    "        print(\"Mammal walks\")\n",
    "\n",
    "class Bat(Mammal, Bird):\n",
    "    def hang(self):\n",
    "        print(\"Bat hangs upside down\")\n",
    "\n",
    "# Example usage:\n",
    "bat = Bat()\n",
    "bat.speak()  # Inherited from Animal\n",
    "bat.fly()    # Inherited from Bird\n",
    "bat.walk()   # Inherited from Mammal\n",
    "bat.hang()   # Method from Bat"
   ]
  },
  {
   "cell_type": "code",
   "execution_count": null,
   "id": "4f372a19-091a-4759-88d4-0f3c768bb415",
   "metadata": {},
   "outputs": [],
   "source": []
  },
  {
   "cell_type": "markdown",
   "id": "745144ef-c120-472d-8c8c-0ee9cd11c773",
   "metadata": {},
   "source": [
    "7. What is the Method Resolution Order (MRO) in Python? How can you retrieve it programmatically?"
   ]
  },
  {
   "cell_type": "markdown",
   "id": "6ece427e-c8e0-4110-b809-265eb4d48591",
   "metadata": {},
   "source": [
    "Method Resolution Order (MRO) in Python:\n",
    "Method Resolution Order (MRO) is the order in which Python looks for a method or attribute in a class hierarchy when multiple classes are involved, particularly in the case of multiple inheritance. The MRO determines the sequence in which base classes are checked to resolve method calls. Python uses the C3 Linearization algorithm to compute the MRO, which ensures a consistent and predictable resolution order, especially in complex inheritance structures.\n",
    "\n",
    "How MRO Works in Python:\n",
    "When you call a method on an object, Python checks the MRO to find the method:\n",
    "\n",
    "It looks in the class of the object.\n",
    "If not found, it checks the parent class (or classes) in the order specified by the MRO.\n",
    "This continues until the method is found or the base object class is reached."
   ]
  },
  {
   "cell_type": "code",
   "execution_count": null,
   "id": "ebdb50dd-fe41-4c28-b0c6-5de6e680483f",
   "metadata": {},
   "outputs": [],
   "source": []
  },
  {
   "cell_type": "markdown",
   "id": "575de5dc-a02a-44b8-b078-b06649c8ff55",
   "metadata": {},
   "source": [
    "8. Create an abstract base class `Shape` with an abstract method `area()`. Then create two subclasses\n",
    "`Circle` and `Rectangle` that implement the `area()` method."
   ]
  },
  {
   "cell_type": "code",
   "execution_count": 2,
   "id": "8adf703c-cc2e-4f43-bd54-1ff5988c4d7b",
   "metadata": {},
   "outputs": [
    {
     "name": "stdout",
     "output_type": "stream",
     "text": [
      "Area of Circle: 78.53981633974483\n",
      "Area of Rectangle: 24\n"
     ]
    }
   ],
   "source": [
    "from abc import ABC, abstractmethod\n",
    "import math\n",
    "\n",
    "class Shape(ABC):\n",
    "    @abstractmethod\n",
    "    def area(self):\n",
    "        pass  \n",
    "\n",
    "class Circle(Shape):\n",
    "    def __init__(self, radius):\n",
    "        self.radius = radius\n",
    "\n",
    "    def area(self):\n",
    "        return math.pi * (self.radius ** 2)\n",
    "\n",
    "class Rectangle(Shape):\n",
    "    def __init__(self, width, height):\n",
    "        self.width = width\n",
    "        self.height = height\n",
    "\n",
    "    def area(self):\n",
    "        return self.width * self.height\n",
    "\n",
    "circle = Circle(5)\n",
    "print(f\"Area of Circle: {circle.area()}\")  \n",
    "\n",
    "rectangle = Rectangle(4, 6)\n",
    "print(f\"Area of Rectangle: {rectangle.area()}\")  "
   ]
  },
  {
   "cell_type": "code",
   "execution_count": null,
   "id": "a5790d4e-1906-4e40-bd8a-4bdef5cc92de",
   "metadata": {},
   "outputs": [],
   "source": []
  },
  {
   "cell_type": "markdown",
   "id": "f327594d-f18b-44c5-8aed-0fa582818022",
   "metadata": {},
   "source": [
    "9.  Demonstrate polymorphism by creating a function that can work with different shape objects to calculate\n",
    "and print their areas.\n",
    "\n",
    "\n"
   ]
  },
  {
   "cell_type": "markdown",
   "id": "9b7ac54b-9f44-4ad5-93fd-8fcbdb2a58a1",
   "metadata": {},
   "source": [
    "Polymorphism allows objects of different classes to be treated as instances of the same class through a common interface. In this case, we will demonstrate polymorphism by creating a function that works with objects of different shape classes (Circle and Rectangle) to calculate and print their areas, even though each shape class implements the area calculation differently."
   ]
  },
  {
   "cell_type": "code",
   "execution_count": 3,
   "id": "bb4f66e1-d039-4a26-98a6-315c1201b2da",
   "metadata": {},
   "outputs": [
    {
     "name": "stdout",
     "output_type": "stream",
     "text": [
      "The area of the shape is: 78.53981633974483\n",
      "The area of the shape is: 24\n"
     ]
    }
   ],
   "source": [
    "from abc import ABC, abstractmethod\n",
    "import math\n",
    "\n",
    "class Shape(ABC):\n",
    "    @abstractmethod\n",
    "    def area(self):\n",
    "        pass  \n",
    "\n",
    "class Circle(Shape):\n",
    "    def __init__(self, radius):\n",
    "        self.radius = radius\n",
    "\n",
    "    def area(self):\n",
    "        return math.pi * (self.radius ** 2)\n",
    "\n",
    "class Rectangle(Shape):\n",
    "    def __init__(self, width, height):\n",
    "        self.width = width\n",
    "        self.height = height\n",
    "\n",
    "    def area(self):\n",
    "        return self.width * self.height\n",
    "\n",
    "def print_area(shape: Shape):\n",
    "    print(f\"The area of the shape is: {shape.area()}\")\n",
    "\n",
    "\n",
    "circle = Circle(5)\n",
    "rectangle = Rectangle(4, 6)\n",
    "print_area(circle)   \n",
    "print_area(rectangle)  "
   ]
  },
  {
   "cell_type": "code",
   "execution_count": null,
   "id": "99ed0fab-ab47-4639-a899-de102ae9ec4f",
   "metadata": {},
   "outputs": [],
   "source": []
  },
  {
   "cell_type": "markdown",
   "id": "e3f58303-ea45-4cf7-935c-ab2c27dea487",
   "metadata": {},
   "source": [
    "10. Implement encapsulation in a `BankAccount` class with private attributes for `balance` and\n",
    "`account_number`. Include methods for deposit, withdrawal, and balance inquiry."
   ]
  },
  {
   "cell_type": "code",
   "execution_count": 4,
   "id": "9f04bbca-15d6-496a-99ae-25db19206ed4",
   "metadata": {},
   "outputs": [
    {
     "name": "stdout",
     "output_type": "stream",
     "text": [
      "Deposited 500. New balance: 1500\n",
      "Withdrew 300. New balance: 1200\n",
      "Account Balance: 1200\n"
     ]
    }
   ],
   "source": [
    "class BankAccount:\n",
    "    def __init__(self, account_number, initial_balance=0):\n",
    "        self.__account_number = account_number  # Private attribute\n",
    "        self.__balance = initial_balance  # Private attribute\n",
    "\n",
    "    def deposit(self, amount):\n",
    "        if amount > 0:\n",
    "            self.__balance += amount\n",
    "            print(f\"Deposited {amount}. New balance: {self.__balance}\")\n",
    "        else:\n",
    "            print(\"Deposit amount must be positive.\")\n",
    "\n",
    "    def withdraw(self, amount):\n",
    "        if 0 < amount <= self.__balance:\n",
    "            self.__balance -= amount\n",
    "            print(f\"Withdrew {amount}. New balance: {self.__balance}\")\n",
    "        else:\n",
    "            print(\"Insufficient balance or invalid amount.\")\n",
    "\n",
    "    def get_balance(self):\n",
    "        return self.__balance\n",
    "\n",
    "    def get_account_number(self):\n",
    "        return self.__account_number\n",
    "\n",
    "account = BankAccount(\"12345678\", 1000)\n",
    "account.deposit(500)\n",
    "account.withdraw(300)\n",
    "print(f\"Account Balance: {account.get_balance()}\")"
   ]
  },
  {
   "cell_type": "code",
   "execution_count": null,
   "id": "0ce45813-cdf7-48ea-a85a-f925a5e2ec7d",
   "metadata": {},
   "outputs": [],
   "source": []
  },
  {
   "cell_type": "markdown",
   "id": "d80ed540-02e1-4c68-8168-995cbc4f6e34",
   "metadata": {},
   "source": [
    "11. Write a class that overrides the `__str__` and `__add__` magic methods. What will these methods allow\n",
    "you to do? "
   ]
  },
  {
   "cell_type": "code",
   "execution_count": 5,
   "id": "fef1d499-7d37-404e-886d-19bb7ac63c1f",
   "metadata": {},
   "outputs": [
    {
     "name": "stdout",
     "output_type": "stream",
     "text": [
      "MyClass with value: 10\n",
      "MyClass with value: 30\n"
     ]
    }
   ],
   "source": [
    "class MyClass:\n",
    "    def __init__(self, value):\n",
    "        self.value = value\n",
    "\n",
    "    def __str__(self):\n",
    "        return f\"MyClass with value: {self.value}\"\n",
    "\n",
    "    def __add__(self, other):\n",
    "        if isinstance(other, MyClass):\n",
    "            return MyClass(self.value + other.value)\n",
    "        return NotImplemented\n",
    "\n",
    "obj1 = MyClass(10)\n",
    "obj2 = MyClass(20)\n",
    "print(obj1)  \n",
    "obj3 = obj1 + obj2\n",
    "print(obj3)  "
   ]
  },
  {
   "cell_type": "code",
   "execution_count": null,
   "id": "e4093b56-f7f4-4607-9761-0fe6237ae8e7",
   "metadata": {},
   "outputs": [],
   "source": []
  },
  {
   "cell_type": "markdown",
   "id": "075bb7a4-392a-4585-a264-eb2ce43cf037",
   "metadata": {},
   "source": [
    "Explanation:\n",
    "\n",
    "__str__ method: This method is used to define the string representation of an object. It is called when you use print() or str() on an object. In this case, it returns a string that includes the value of the object.\n",
    "\n",
    "__add__ method: This method is used to define the behavior of the + operator. In this example, it adds the value of two MyClass objects and returns a new MyClass object with the summed value.\n",
    "\n",
    "What these methods allow you to do:\n",
    "\n",
    "__str__: Allows customizing the string representation of the object, making it more readable when printed or converted to a string.\n",
    "\n",
    "__add__: Allows custom behavior when using the + operator on instances of the class, enabling object addition based on your logic."
   ]
  },
  {
   "cell_type": "code",
   "execution_count": null,
   "id": "cc268203-311b-4bb7-8ff4-422b94f03a24",
   "metadata": {},
   "outputs": [],
   "source": []
  },
  {
   "cell_type": "markdown",
   "id": "4379d0b6-0ca5-411d-b214-7d139f47c56b",
   "metadata": {},
   "source": [
    "12. Create a decorator that measures and prints the execution time of a function."
   ]
  },
  {
   "cell_type": "code",
   "execution_count": 6,
   "id": "7fcdfde5-7532-4dc2-b06a-a77b9d98be6e",
   "metadata": {},
   "outputs": [
    {
     "name": "stdout",
     "output_type": "stream",
     "text": [
      "Execution time of some_function: 0.0625 seconds\n"
     ]
    },
    {
     "data": {
      "text/plain": [
       "499999500000"
      ]
     },
     "execution_count": 6,
     "metadata": {},
     "output_type": "execute_result"
    }
   ],
   "source": [
    "import time\n",
    "def measure_execution_time(func):\n",
    "    def wrapper(*args, **kwargs):\n",
    "        start_time = time.time()  \n",
    "        result = func(*args, **kwargs)  \n",
    "        end_time = time.time()  \n",
    "        execution_time = end_time - start_time  \n",
    "        print(f\"Execution time of {func.__name__}: {execution_time:.4f} seconds\")\n",
    "        return result\n",
    "    return wrapper\n",
    "\n",
    "@measure_execution_time\n",
    "def some_function():\n",
    "    total = 0\n",
    "    for i in range(1, 1000000):\n",
    "        total += i\n",
    "    return total\n",
    "some_function()"
   ]
  },
  {
   "cell_type": "code",
   "execution_count": null,
   "id": "d0c44a73-152c-4b37-8acb-bb797384731b",
   "metadata": {},
   "outputs": [],
   "source": []
  },
  {
   "cell_type": "markdown",
   "id": "cbe536c7-934e-4b2b-9231-c6259e876ced",
   "metadata": {},
   "source": [
    "13.Explain the concept of the Diamond Problem in multiple inheritance. How does Python resolve it?"
   ]
  },
  {
   "cell_type": "markdown",
   "id": "a351c200-0100-4e0f-b0fd-1ccec3603374",
   "metadata": {},
   "source": [
    "Diamond Problem in Multiple Inheritance:\n",
    "\n",
    "The Diamond Problem occurs in object-oriented programming when a class inherits from two classes that have a common base class. This can cause ambiguity in method resolution, as the child class inherits from both parents, and both parents inherit from the same grandparent. The problem arises when the child class calls a method, and it's unclear which method to invoke due to the shared ancestry.\n",
    "\n",
    "Example of the Diamond Problem:"
   ]
  },
  {
   "cell_type": "code",
   "execution_count": 7,
   "id": "479361c8-3108-44a8-8b44-ddae38f8b10d",
   "metadata": {},
   "outputs": [
    {
     "name": "stdout",
     "output_type": "stream",
     "text": [
      "Speaking from class B\n"
     ]
    }
   ],
   "source": [
    "class A:\n",
    "    def speak(self):\n",
    "        print(\"Speaking from class A\")\n",
    "\n",
    "class B(A):\n",
    "    def speak(self):\n",
    "        print(\"Speaking from class B\")\n",
    "\n",
    "class C(A):\n",
    "    def speak(self):\n",
    "        print(\"Speaking from class C\")\n",
    "\n",
    "class D(B, C):\n",
    "    pass\n",
    "d = D()\n",
    "d.speak()"
   ]
  },
  {
   "cell_type": "markdown",
   "id": "ca404662-fafa-4c1b-bcce-ac3ce8059597",
   "metadata": {},
   "source": [
    "How Python Resolves the Diamond Problem:\n",
    "\n",
    "Python resolves the Diamond Problem using the C3 Linearization algorithm, which defines a method resolution order (MRO). The MRO determines the order in which classes are searched for a method.\n",
    "\n",
    "Python follows the C3 linearization to ensure a consistent and predictable method resolution.\n",
    "The MRO prioritizes depth-first searching while respecting the inheritance hierarchy."
   ]
  },
  {
   "cell_type": "code",
   "execution_count": null,
   "id": "1ff66ce9-c331-430b-92f5-c3de039830ed",
   "metadata": {},
   "outputs": [],
   "source": [
    "\n"
   ]
  },
  {
   "cell_type": "markdown",
   "id": "46256033-523d-438c-ba15-55830ed93aef",
   "metadata": {},
   "source": [
    "14. . Write a class method that keeps track of the number of instances created from a class."
   ]
  },
  {
   "cell_type": "code",
   "execution_count": 8,
   "id": "1291759a-411c-4e22-97bf-6d6e0403127a",
   "metadata": {},
   "outputs": [
    {
     "name": "stdout",
     "output_type": "stream",
     "text": [
      "3\n"
     ]
    }
   ],
   "source": [
    "class MyClass:\n",
    "    instance_count = 0 \n",
    "\n",
    "    def __init__(self):\n",
    "        MyClass.instance_count += 1  \n",
    "\n",
    "    @classmethod\n",
    "    def get_instance_count(cls):\n",
    "        return cls.instance_count  \n",
    "\n",
    "obj1 = MyClass()\n",
    "obj2 = MyClass()\n",
    "obj3 = MyClass()\n",
    "print(MyClass.get_instance_count())  "
   ]
  },
  {
   "cell_type": "code",
   "execution_count": null,
   "id": "3b1c2e73-9d12-4ad1-8e74-fbdabdfec307",
   "metadata": {},
   "outputs": [],
   "source": []
  },
  {
   "cell_type": "markdown",
   "id": "59a1295d-63fa-40b6-8b66-35b264772e6f",
   "metadata": {},
   "source": [
    "15. Implement a static method in a class that checks if a given year is a leap year."
   ]
  },
  {
   "cell_type": "code",
   "execution_count": 9,
   "id": "51527a8f-db50-4227-831b-895778125fa7",
   "metadata": {},
   "outputs": [
    {
     "name": "stdout",
     "output_type": "stream",
     "text": [
      "True\n",
      "False\n"
     ]
    }
   ],
   "source": [
    "class Calendar:\n",
    "    @staticmethod\n",
    "    def is_leap_year(year):\n",
    "        if (year % 4 == 0 and year % 100 != 0) or (year % 400 == 0):\n",
    "            return True\n",
    "        return False\n",
    "\n",
    "year = 2024\n",
    "print(Calendar.is_leap_year(year))  \n",
    "\n",
    "year = 2023\n",
    "print(Calendar.is_leap_year(year))  "
   ]
  },
  {
   "cell_type": "code",
   "execution_count": null,
   "id": "818f2105-9e79-4c3a-ae72-eeca1a4e94e1",
   "metadata": {},
   "outputs": [],
   "source": []
  }
 ],
 "metadata": {
  "kernelspec": {
   "display_name": "Python 3 (ipykernel)",
   "language": "python",
   "name": "python3"
  },
  "language_info": {
   "codemirror_mode": {
    "name": "ipython",
    "version": 3
   },
   "file_extension": ".py",
   "mimetype": "text/x-python",
   "name": "python",
   "nbconvert_exporter": "python",
   "pygments_lexer": "ipython3",
   "version": "3.12.6"
  }
 },
 "nbformat": 4,
 "nbformat_minor": 5
}
