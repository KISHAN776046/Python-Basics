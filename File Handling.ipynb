{
 "cells": [
  {
   "cell_type": "markdown",
   "id": "dccda264-3d00-45f5-9225-51b6a44cfbb0",
   "metadata": {},
   "source": [
    "1.Difference between Interpreted and Compiled Languages:\n",
    "\n",
    "- **Interpreted Languages**: Code is executed line-by-line by an interpreter (e.g., Python, JavaScript).\n",
    "- **Compiled Languages**: Code is translated entirely into machine code before execution by a compiler (e.g., C, C++).\n",
    "\n",
    "| Feature              | Interpreted                | Compiled               |\n",
    "|----------------------|----------------------------|------------------------|\n",
    "| Execution            | Line-by-line               | Entire program         |\n",
    "| Speed                | Slower                     | Faster                 |\n",
    "| Error Detection      | At runtime                 | At compile-time        |\n",
    "| Portability          | More portable              | Less portable          |\n",
    "| Examples             | Python, Ruby, JavaScript   | C, C++, Rust           |\n"
   ]
  },
  {
   "cell_type": "markdown",
   "id": "0ce5a230-fb74-4aa7-ba75-27954a0cc1db",
   "metadata": {},
   "source": [
    "2. What is Exception Handling in Python?\n",
    "\n",
    "**Exception handling** in Python is a mechanism to handle runtime errors gracefully without crashing the program.\n",
    "\n",
    "Key Keywords:\n",
    "- `try`: Block of code to test for errors.\n",
    "- `except`: Block to handle the error.\n",
    "- `else`: Block that runs if no error occurs.\n",
    "- `finally`: Block that runs no matter what (error or not).\n",
    "\n",
    "Example:\n",
    "```python\n",
    "try:\n",
    "    x = 10 / 0\n",
    "except ZeroDivisionError:\n",
    "    print(\"Cannot divide by zero.\")\n",
    "else:\n",
    "    print(\"No error occurred.\")\n",
    "finally:\n",
    "    print(\"Execution completed.\")\n",
    "```\n"
   ]
  },
  {
   "cell_type": "code",
   "execution_count": null,
   "id": "bba1b632-043c-486c-8bb8-4a78bdda9e35",
   "metadata": {},
   "outputs": [],
   "source": []
  },
  {
   "cell_type": "markdown",
   "id": "6ca62c69-e81a-446e-b719-176de2429f1b",
   "metadata": {},
   "source": [
    "3. What is the Purpose of the `finally` Block in Exception Handling?\n",
    "\n",
    "The `finally` block in Python is used to define clean-up actions that must be executed under all circumstances, whether an exception occurred or not.\n",
    "\n",
    "Key Points:\n",
    "- Executes after `try` and `except` blocks.\n",
    "- Runs **regardless** of whether an exception was raised.\n",
    "- Useful for releasing resources (e.g., closing files or database connections).\n",
    " Example:\n",
    "```python\n",
    "try:\n",
    "    file = open(\"data.txt\", \"r\")\n",
    "    data = file.read()\n",
    "except FileNotFoundError:\n",
    "    print(\"File not found.\")\n",
    "finally:\n",
    "    file.close()\n",
    "    print(\"File closed.\")\n",
    "```\n"
   ]
  },
  {
   "cell_type": "markdown",
   "id": "4377784e-a150-45ff-84b7-346c86d22c35",
   "metadata": {},
   "source": [
    "4. What is Logging in Python?\n",
    "\n",
    "Logging in Python is a way to track events that happen when software runs. It helps in debugging and monitoring by recording messages about the program's execution.\n",
    "Key Points:\n",
    "- Provides a flexible framework for emitting log messages.\n",
    "- Messages can have different severity levels: DEBUG, INFO, WARNING, ERROR, CRITICAL.\n",
    "- Logs can be output to the console, files, or other destinations.\n",
    "Example:\n",
    "```python\n",
    "import logging\n",
    "\n",
    "logging.basicConfig(level=logging.INFO)\n",
    "logging.info(\"This is an info message.\")\n",
    "logging.error(\"This is an error message.\")\n",
    "```\n"
   ]
  },
  {
   "cell_type": "markdown",
   "id": "41f2c2f8-a21a-41e7-a838-4413315692e9",
   "metadata": {},
   "source": [
    "6. What is the Significance of the `__del__` Method in Python?\n",
    "\n",
    "The `__del__` method is a destructor in Python. It is called when an object is about to be destroyed (garbage collected).\n",
    "\n",
    " Key Points:\n",
    "- Used to clean up resources (like closing files or network connections) before the object is deleted.\n",
    "- Not guaranteed to be called immediately when the object goes out of scope.\n",
    "- Should be used carefully to avoid issues like circular references.\n",
    "\n",
    " Example:\n",
    "```python\n",
    "class MyClass:\n",
    "    def __del__(self):\n",
    "        print(\"Destructor called, object is being deleted.\")\n",
    "\n",
    "obj = MyClass()\n",
    "del obj  # This will call the __del__ method\n",
    "```\n"
   ]
  },
  {
   "cell_type": "markdown",
   "id": "0202c9d7-5b30-4abe-8e4d-f09c21d51609",
   "metadata": {},
   "source": [
    "7. What is the Difference Between `import` and `from ... import` in Python\n",
    "\n",
    "- `import module`  \n",
    "  Imports the entire module. You access functions or variables using the module name.  \n",
    "  **Example:**  \n",
    "  ```python\n",
    "  import math\n",
    "  print(math.sqrt(16))\n",
    "  ```\n",
    "\n",
    "- `from module import name`  \n",
    "  Imports specific functions, classes, or variables directly from the module, so you can use them without the module prefix.  \n",
    "  **Example:**  \n",
    "  ```python\n",
    "  from math import sqrt\n",
    "  print(sqrt(16))\n",
    "  ```\n",
    "  \n",
    "- Using `from module import *` imports all public names from the module (not recommended due to possible name conflicts).\n"
   ]
  },
  {
   "cell_type": "markdown",
   "id": "77b64208-c7f1-49eb-a0ce-a5a7a3b5a758",
   "metadata": {},
   "source": [
    "8.How can you handle multiple exceptions in Python?\n",
    "    "
   ]
  },
  {
   "cell_type": "markdown",
   "id": "2a1b3973-1496-4102-bb89-b7cbad92095c",
   "metadata": {},
   "source": [
    "try:\n",
    "    # code that may raise multiple exceptions\n",
    "    x = int(input(\"Enter a number: \"))\n",
    "    y = 10 / x\n",
    "except (ValueError, ZeroDivisionError) as e:\n",
    "    print(f\"An error occurred: {e}\")\n"
   ]
  },
  {
   "cell_type": "markdown",
   "id": "567a2a76-285e-4818-bde2-8a7253157479",
   "metadata": {},
   "source": [
    "9.What is the purpose of the with statement when handling files in Python?"
   ]
  },
  {
   "cell_type": "markdown",
   "id": "e6812952-64a0-4146-8573-d7797288a40f",
   "metadata": {},
   "source": [
    "Purpose of the `with` Statement When Handling Files in Python\n",
    "\n",
    "- The `with` statement simplifies file handling by automatically managing resources.\n",
    "- It ensures that the file is properly opened and closed, even if exceptions occur during file operations.\n",
    "- This eliminates the need to explicitly call `file.close()`.\n",
    "  \n",
    "**Example:**\n",
    "\n",
    "```python\n",
    "with open('file.txt', 'r') as file:\n",
    "    data = file.read()\n",
    "# File is automatically closed here\n",
    "```\n"
   ]
  },
  {
   "cell_type": "markdown",
   "id": "cf6ff53d-5ea4-4f6d-95d8-175c499bd380",
   "metadata": {},
   "source": [
    "10.What is the difference between multithreading and multiprocessing?"
   ]
  },
  {
   "cell_type": "markdown",
   "id": "2ede50f2-5b39-481c-a373-006e527f9767",
   "metadata": {},
   "source": [
    " Difference Between Multithreading and Multiprocessing\n",
    "\n",
    "| Aspect             | Multithreading                                      | Multiprocessing                                    |\n",
    "|--------------------|----------------------------------------------------|---------------------------------------------------|\n",
    "| Definition         | Multiple threads run within a single process       | Multiple processes run independently               |\n",
    "| Memory             | Threads share the same memory space                 | Processes have separate memory spaces              |\n",
    "| Use Case           | Useful for I/O-bound tasks                           | Useful for CPU-bound tasks                          |\n",
    "| Overhead           | Lower overhead, faster context switching            | Higher overhead due to separate processes          |\n",
    "| GIL (Python)       | Limited by Global Interpreter Lock (GIL) in CPython | No GIL limitation, true parallelism possible       |\n",
    "| Communication      | Easier (shared memory)                              | More complex (inter-process communication needed) |\n",
    "\n"
   ]
  },
  {
   "cell_type": "markdown",
   "id": "40e8af27-688a-476e-87f7-f676282b79d4",
   "metadata": {},
   "source": [
    "11.What are the advantages of using logging in a program"
   ]
  },
  {
   "cell_type": "markdown",
   "id": "05ffbe5f-f59d-46ba-a01e-cbc38ae31152",
   "metadata": {},
   "source": [
    " Advantages of Using Logging in a Program\n",
    "\n",
    "- Helps in tracking the execution flow and debugging issues.\n",
    "- Records errors and exceptions for later analysis.\n",
    "- Provides a persistent record of events and program behavior.\n",
    "- Allows different levels of importance (DEBUG, INFO, WARNING, ERROR, CRITICAL).\n",
    "- Enables monitoring and troubleshooting in production environments.\n",
    "- Can be configured to output logs to various destinations (console, files, remote servers).\n",
    "- Helps in performance analysis and auditing.\n"
   ]
  },
  {
   "cell_type": "markdown",
   "id": "cf27f56e-8dda-4265-ab1f-9157f665416f",
   "metadata": {},
   "source": [
    "12.What is memory management in Python"
   ]
  },
  {
   "cell_type": "markdown",
   "id": "10427faa-115f-4e33-95b4-d3bd1689c435",
   "metadata": {},
   "source": [
    " Memory Management in Python\n",
    "\n",
    "- Python manages memory automatically using a private heap space.\n",
    "- All Python objects and data structures are stored in this private heap.\n",
    "- The Python memory manager handles the allocation of heap space.\n",
    "- Python uses reference counting to keep track of objects in memory.\n",
    "- When an object's reference count drops to zero, memory is deallocated.\n",
    "- Python also has a garbage collector to clean up cyclic references.\n",
    "- Developers do not need to manually allocate or free memory.\n"
   ]
  },
  {
   "cell_type": "markdown",
   "id": "dbd71a03-1755-4122-bbd5-0557643199fa",
   "metadata": {},
   "source": [
    "13.What are the basic steps involved in exception handling in Python"
   ]
  },
  {
   "cell_type": "markdown",
   "id": "114bada4-3161-4763-ab31-dc965e2450fa",
   "metadata": {},
   "source": [
    " Basic Steps Involved in Exception Handling in Python\n",
    "\n",
    "1. **Try Block:** Write the code that might raise an exception inside the `try` block.\n",
    "2. **Except Block:** Handle the exception using one or more `except` blocks.\n",
    "3. **Else Block (optional):** Execute code if no exception occurs.\n",
    "4. **Finally Block (optional):** Execute code regardless of whether an exception occurred or not, often used for cleanup.\n"
   ]
  },
  {
   "cell_type": "markdown",
   "id": "97c54ee2-73d9-4cf8-81e9-1c24aebe585f",
   "metadata": {},
   "source": [
    "14.What is the role of try and except in exception handling"
   ]
  },
  {
   "cell_type": "markdown",
   "id": "a8f16264-7702-4519-a88c-7a76f96ae623",
   "metadata": {},
   "source": [
    " Role of try and except in Exception Handling\n",
    "\n",
    "- **try:** Contains the block of code that may raise an exception.\n",
    "- **except:** Catches and handles the exception raised in the try block, preventing the program from crashing.\n"
   ]
  },
  {
   "cell_type": "markdown",
   "id": "17d852bc-6f6d-4db6-a516-1c58b1fa905a",
   "metadata": {},
   "source": [
    "15.How does Python's garbage collection system work"
   ]
  },
  {
   "cell_type": "markdown",
   "id": "8f3906eb-2c38-4d44-9c34-ea17fd6dac54",
   "metadata": {},
   "source": [
    " How Does Python's Garbage Collection System Work?\n",
    "\n",
    "- Python uses **reference counting** to keep track of the number of references to each object.\n",
    "- When an object's reference count drops to zero, Python immediately deallocates it.\n",
    "- Python also has a **cyclic garbage collector** to detect and clean up reference cycles (objects referencing each other).\n",
    "- The garbage collector runs periodically to free memory from unreachable objects.\n"
   ]
  },
  {
   "cell_type": "markdown",
   "id": "ec676736-70a9-4597-9fe8-d5e0a26cfeb4",
   "metadata": {},
   "source": [
    "16.What is the purpose of the else block in exception handling?\n",
    "\n",
    "- The `else` block runs **only if no exception** is raised in the `try` block.\n",
    "- It is useful to execute code that should run only when the `try` block succeeds without errors.\n",
    "- Helps keep the `try` block focused on code that might raise exceptions.\n"
   ]
  },
  {
   "cell_type": "markdown",
   "id": "11c98f8f-9c4a-40df-bb42-6d622cfefa7b",
   "metadata": {},
   "source": [
    "17. What are the common logging levels in Python?\n",
    "\n",
    "- DEBUG: Detailed information, typically of interest only when diagnosing problems.\n",
    "- INFO: Confirmation that things are working as expected.\n",
    "- WARNING: An indication that something unexpected happened, or indicative of some problem in the near future.\n",
    "- ERROR: Due to a more serious problem, the software has not been able to perform some function.\n",
    "- CRITICAL: A very serious error, indicating that the program itself may be unable to continue running.\n"
   ]
  },
  {
   "cell_type": "markdown",
   "id": "56a51d97-29c7-4377-a3f0-20967e93cfd9",
   "metadata": {},
   "source": [
    "18.What is the difference between os.fork() and multiprocessing in Python?\n",
    "\n",
    "- `os.fork()`:  \n",
    "  - Creates a new child process by duplicating the current process (Unix/Linux only).  \n",
    "  - The child process is an exact copy of the parent, sharing no memory with the parent after fork.  \n",
    "  - Low-level and platform-dependent (not available on Windows).  \n",
    "  - Requires manual management of inter-process communication.\n",
    "\n",
    "- `multiprocessing` module:  \n",
    "  - A high-level Python API to create and manage processes across platforms (Windows, Linux, macOS).  \n",
    "  - Supports process-based parallelism with easy-to-use interfaces like `Process`, `Pool`, and communication via queues or pipes.  \n",
    "  - Abstracts away platform-specific details and provides better portability and easier coding."
   ]
  },
  {
   "cell_type": "markdown",
   "id": "aab82642-f518-4490-87dd-267f1bda4177",
   "metadata": {},
   "source": [
    "19. What is the importance of closing a file in Python?\n",
    "\n",
    "- Frees up system resources like file descriptors.  \n",
    "- Ensures that all buffered data is written (flushed) to the file.  \n",
    "- Prevents data corruption and potential memory leaks.  \n",
    "- Allows other programs or processes to access the file.  \n",
    "- Good practice to avoid unexpected behavior or errors.\n"
   ]
  },
  {
   "cell_type": "markdown",
   "id": "80452a0f-8ab5-4e7c-88dc-5448b59b6e52",
   "metadata": {},
   "source": [
    "20. What is the difference between file.read() and file.readline() in Python?\n",
    "\n",
    "- `file.read()` reads the entire content of the file (or specified number of bytes) at once as a single string.  \n",
    "- `file.readline()` reads the file line by line, returning one line each time it is called (including the newline character).\n"
   ]
  },
  {
   "cell_type": "markdown",
   "id": "ed1a3b2c-efd2-49bc-826e-0bcc204c40e6",
   "metadata": {},
   "source": [
    "21.What is the logging module in Python used for?\n",
    "\n",
    "The `logging` module in Python is used to track events that happen when some software runs. It helps record messages (logs) about the program’s execution, errors, warnings, or informational events, which are useful for debugging and monitoring.\n"
   ]
  },
  {
   "cell_type": "markdown",
   "id": "9198381f-f330-4c4c-8ed5-9b56c4858b38",
   "metadata": {},
   "source": [
    "22. What is the os module in Python used for in file handling?\n",
    "\n",
    "The `os` module in Python provides functions to interact with the operating system, including file handling operations like creating, deleting, renaming, and navigating directories and files.\n"
   ]
  },
  {
   "cell_type": "markdown",
   "id": "28e20486-d318-4fec-87e4-cd72efd81911",
   "metadata": {},
   "source": [
    "23.What are the challenges associated with memory management in Python?\n",
    "\n",
    "- Managing memory efficiently in programs with complex data structures.\n",
    "- Handling memory leaks caused by circular references.\n",
    "- Dealing with fragmentation in the heap memory.\n",
    "- Balancing between automatic garbage collection and manual resource management.\n",
    "- Overhead of garbage collection impacting performance.\n",
    "- Limited control over memory allocation compared to lower-level languages.\n"
   ]
  },
  {
   "cell_type": "markdown",
   "id": "befbf373-24e9-4134-9c17-4be430e2e067",
   "metadata": {},
   "source": [
    "24. How do you raise an exception manually in Python?\n",
    "\n",
    "raise Exception(\"This is a manually raised exception\")\n"
   ]
  },
  {
   "cell_type": "markdown",
   "id": "ba5e72fd-8cd7-4c11-b656-0b92d278b76f",
   "metadata": {},
   "source": [
    "25. Why is it important to use multithreading in certain applications?\n",
    "\n",
    " Multithreading allows concurrent execution of multiple threads within a single process,\n",
    " improving performance in I/O-bound tasks by utilizing waiting times efficiently,\n",
    " enabling responsive user interfaces, and better resource utilization.\n"
   ]
  },
  {
   "cell_type": "code",
   "execution_count": null,
   "id": "10ac777b-fcea-49ff-af72-da1bbf09b37a",
   "metadata": {},
   "outputs": [],
   "source": []
  },
  {
   "cell_type": "code",
   "execution_count": null,
   "id": "27258d19-746a-49a3-8273-0e6374e63f7d",
   "metadata": {},
   "outputs": [],
   "source": []
  },
  {
   "cell_type": "markdown",
   "id": "3ea0536b-db76-483a-bf27-f6758480eda3",
   "metadata": {},
   "source": [
    "                         PRACTICAL"
   ]
  },
  {
   "cell_type": "markdown",
   "id": "a3e94ee8-aaa1-4816-962d-e82feb2e99fc",
   "metadata": {},
   "source": [
    "1.How can you open a file for writing in Python and write a string to it"
   ]
  },
  {
   "cell_type": "code",
   "execution_count": 3,
   "id": "9c0fde88-ba2c-4202-a995-b2fa9d481a5b",
   "metadata": {},
   "outputs": [],
   "source": [
    "# Open a file in write mode and write a string\n",
    "with open('filename.txt', 'w') as file:\n",
    "    file.write(\"This is a sample string.\")\n"
   ]
  },
  {
   "cell_type": "code",
   "execution_count": null,
   "id": "0ce36eff-e585-41b7-af39-8dea680506f2",
   "metadata": {},
   "outputs": [],
   "source": []
  },
  {
   "cell_type": "markdown",
   "id": "04861565-197a-4470-9c17-e9b8360d8a8d",
   "metadata": {},
   "source": [
    "2. Write a Python program to read the contents of a file and print each line"
   ]
  },
  {
   "cell_type": "code",
   "execution_count": 4,
   "id": "19bc49ba-ea96-45a4-b238-415edbe5459d",
   "metadata": {},
   "outputs": [
    {
     "name": "stdout",
     "output_type": "stream",
     "text": [
      "This is a sample string.\n"
     ]
    }
   ],
   "source": [
    "# Read a file and print each line\n",
    "with open('filename.txt', 'r') as file:\n",
    "    for line in file:\n",
    "        print(line.strip())\n"
   ]
  },
  {
   "cell_type": "code",
   "execution_count": null,
   "id": "88c80303-b258-4c4f-8403-89f990bd8f20",
   "metadata": {},
   "outputs": [],
   "source": []
  },
  {
   "cell_type": "markdown",
   "id": "a24967f8-aebe-4f7b-8c13-e474b1bc2e74",
   "metadata": {},
   "source": [
    "3.How would you handle a case where the file doesn't exist while trying to open it for reading"
   ]
  },
  {
   "cell_type": "code",
   "execution_count": 5,
   "id": "fdf05cb8-c02d-4b2b-87f8-cc1a6cb2863e",
   "metadata": {},
   "outputs": [
    {
     "name": "stdout",
     "output_type": "stream",
     "text": [
      "This is a sample string.\n"
     ]
    }
   ],
   "source": [
    "try:\n",
    "    with open('filename.txt', 'r') as file:\n",
    "        for line in file:\n",
    "            print(line.strip())\n",
    "except FileNotFoundError:\n",
    "    print(\"Error: The file does not exist.\")\n"
   ]
  },
  {
   "cell_type": "code",
   "execution_count": null,
   "id": "6ae315a4-e6fe-4427-b820-20decd346e6b",
   "metadata": {},
   "outputs": [],
   "source": []
  },
  {
   "cell_type": "markdown",
   "id": "88f30c14-7a91-418d-9036-051ad038ffa5",
   "metadata": {},
   "source": [
    "4. Write a Python script that reads from one file and writes its content to another file"
   ]
  },
  {
   "cell_type": "code",
   "execution_count": 6,
   "id": "928ecb1f-4421-4238-92a1-066c0c3f1582",
   "metadata": {},
   "outputs": [
    {
     "ename": "FileNotFoundError",
     "evalue": "[Errno 2] No such file or directory: 'source.txt'",
     "output_type": "error",
     "traceback": [
      "\u001b[1;31m---------------------------------------------------------------------------\u001b[0m",
      "\u001b[1;31mFileNotFoundError\u001b[0m                         Traceback (most recent call last)",
      "Cell \u001b[1;32mIn[6], line 2\u001b[0m\n\u001b[0;32m      1\u001b[0m \u001b[38;5;66;03m# Read from one file and write to another\u001b[39;00m\n\u001b[1;32m----> 2\u001b[0m \u001b[38;5;28;01mwith\u001b[39;00m \u001b[38;5;28;43mopen\u001b[39;49m\u001b[43m(\u001b[49m\u001b[38;5;124;43m'\u001b[39;49m\u001b[38;5;124;43msource.txt\u001b[39;49m\u001b[38;5;124;43m'\u001b[39;49m\u001b[43m,\u001b[49m\u001b[43m \u001b[49m\u001b[38;5;124;43m'\u001b[39;49m\u001b[38;5;124;43mr\u001b[39;49m\u001b[38;5;124;43m'\u001b[39;49m\u001b[43m)\u001b[49m \u001b[38;5;28;01mas\u001b[39;00m src, \u001b[38;5;28mopen\u001b[39m(\u001b[38;5;124m'\u001b[39m\u001b[38;5;124mdestination.txt\u001b[39m\u001b[38;5;124m'\u001b[39m, \u001b[38;5;124m'\u001b[39m\u001b[38;5;124mw\u001b[39m\u001b[38;5;124m'\u001b[39m) \u001b[38;5;28;01mas\u001b[39;00m dest:\n\u001b[0;32m      3\u001b[0m     \u001b[38;5;28;01mfor\u001b[39;00m line \u001b[38;5;129;01min\u001b[39;00m src:\n\u001b[0;32m      4\u001b[0m         dest\u001b[38;5;241m.\u001b[39mwrite(line)\n",
      "File \u001b[1;32m~\\AppData\\Local\\Programs\\Python\\Python312\\Lib\\site-packages\\IPython\\core\\interactiveshell.py:324\u001b[0m, in \u001b[0;36m_modified_open\u001b[1;34m(file, *args, **kwargs)\u001b[0m\n\u001b[0;32m    317\u001b[0m \u001b[38;5;28;01mif\u001b[39;00m file \u001b[38;5;129;01min\u001b[39;00m {\u001b[38;5;241m0\u001b[39m, \u001b[38;5;241m1\u001b[39m, \u001b[38;5;241m2\u001b[39m}:\n\u001b[0;32m    318\u001b[0m     \u001b[38;5;28;01mraise\u001b[39;00m \u001b[38;5;167;01mValueError\u001b[39;00m(\n\u001b[0;32m    319\u001b[0m         \u001b[38;5;124mf\u001b[39m\u001b[38;5;124m\"\u001b[39m\u001b[38;5;124mIPython won\u001b[39m\u001b[38;5;124m'\u001b[39m\u001b[38;5;124mt let you open fd=\u001b[39m\u001b[38;5;132;01m{\u001b[39;00mfile\u001b[38;5;132;01m}\u001b[39;00m\u001b[38;5;124m by default \u001b[39m\u001b[38;5;124m\"\u001b[39m\n\u001b[0;32m    320\u001b[0m         \u001b[38;5;124m\"\u001b[39m\u001b[38;5;124mas it is likely to crash IPython. If you know what you are doing, \u001b[39m\u001b[38;5;124m\"\u001b[39m\n\u001b[0;32m    321\u001b[0m         \u001b[38;5;124m\"\u001b[39m\u001b[38;5;124myou can use builtins\u001b[39m\u001b[38;5;124m'\u001b[39m\u001b[38;5;124m open.\u001b[39m\u001b[38;5;124m\"\u001b[39m\n\u001b[0;32m    322\u001b[0m     )\n\u001b[1;32m--> 324\u001b[0m \u001b[38;5;28;01mreturn\u001b[39;00m \u001b[43mio_open\u001b[49m\u001b[43m(\u001b[49m\u001b[43mfile\u001b[49m\u001b[43m,\u001b[49m\u001b[43m \u001b[49m\u001b[38;5;241;43m*\u001b[39;49m\u001b[43margs\u001b[49m\u001b[43m,\u001b[49m\u001b[43m \u001b[49m\u001b[38;5;241;43m*\u001b[39;49m\u001b[38;5;241;43m*\u001b[39;49m\u001b[43mkwargs\u001b[49m\u001b[43m)\u001b[49m\n",
      "\u001b[1;31mFileNotFoundError\u001b[0m: [Errno 2] No such file or directory: 'source.txt'"
     ]
    }
   ],
   "source": [
    "# Read from one file and write to another\n",
    "with open('source.txt', 'r') as src, open('destination.txt', 'w') as dest:\n",
    "    for line in src:\n",
    "        dest.write(line)\n"
   ]
  },
  {
   "cell_type": "code",
   "execution_count": null,
   "id": "2e403bd3-c728-4f5c-9860-0e9703698d92",
   "metadata": {},
   "outputs": [],
   "source": []
  },
  {
   "cell_type": "markdown",
   "id": "0d2da1df-0a6a-4a96-944e-8c1f8989c38f",
   "metadata": {},
   "source": [
    "5.How would you catch and handle division by zero error in Python"
   ]
  },
  {
   "cell_type": "code",
   "execution_count": 7,
   "id": "a25ae1aa-229c-49fc-b044-b707eab83630",
   "metadata": {},
   "outputs": [
    {
     "name": "stdout",
     "output_type": "stream",
     "text": [
      "Error: Division by zero is not allowed.\n"
     ]
    }
   ],
   "source": [
    "try:\n",
    "    result = 10 / 0\n",
    "except ZeroDivisionError:\n",
    "    print(\"Error: Division by zero is not allowed.\")\n"
   ]
  },
  {
   "cell_type": "code",
   "execution_count": null,
   "id": "bd55604a-89bd-47c4-beb8-3122c27e516c",
   "metadata": {},
   "outputs": [],
   "source": []
  },
  {
   "cell_type": "markdown",
   "id": "8cbb9a93-18e9-456b-a92d-d0090c3812b0",
   "metadata": {},
   "source": [
    "6.Write a Python program that logs an error message to a log file when a division by zero exception occurs"
   ]
  },
  {
   "cell_type": "code",
   "execution_count": 8,
   "id": "5de251a5-3a65-4dae-86fc-83cacf7e305a",
   "metadata": {},
   "outputs": [],
   "source": [
    "import logging\n",
    "\n",
    "# Configure logging\n",
    "logging.basicConfig(filename='error.log', level=logging.ERROR,\n",
    "                    format='%(asctime)s - %(levelname)s - %(message)s')\n",
    "\n",
    "try:\n",
    "    result = 10 / 0\n",
    "except ZeroDivisionError as e:\n",
    "    logging.error(\"Division by zero error occurred: %s\", e)\n"
   ]
  },
  {
   "cell_type": "code",
   "execution_count": null,
   "id": "49c36e6e-b2fa-432c-910d-916a181ccde8",
   "metadata": {},
   "outputs": [],
   "source": []
  },
  {
   "cell_type": "markdown",
   "id": "308a3080-f515-46b6-a616-9bcdbbdddba4",
   "metadata": {},
   "source": [
    "7.How do you log information at different levels (INFO, ERROR, WARNING) in Python using the logging module"
   ]
  },
  {
   "cell_type": "code",
   "execution_count": 9,
   "id": "366c2441-3d2f-4834-b161-0031e10ab211",
   "metadata": {},
   "outputs": [],
   "source": [
    "import logging\n",
    "\n",
    "# Configure logging\n",
    "logging.basicConfig(level=logging.DEBUG, format='%(levelname)s: %(message)s')\n",
    "\n",
    "# Log at different levels\n",
    "logging.info(\"This is an INFO message\")\n",
    "logging.error(\"This is an ERROR message\")\n",
    "logging.warning(\"This is a WARNING message\")\n"
   ]
  },
  {
   "cell_type": "code",
   "execution_count": null,
   "id": "38ca71f3-9a70-4491-bfdb-bae3c8af1e20",
   "metadata": {},
   "outputs": [],
   "source": []
  },
  {
   "cell_type": "markdown",
   "id": "3d8c4e0b-35c1-457f-8fdf-8248c07d44ce",
   "metadata": {},
   "source": [
    "8.Write a program to handle a file opening error using exception handling"
   ]
  },
  {
   "cell_type": "code",
   "execution_count": 10,
   "id": "4f7c9707-39a4-4f3a-9e8e-df5b5aba4fa9",
   "metadata": {},
   "outputs": [
    {
     "name": "stdout",
     "output_type": "stream",
     "text": [
      "Error: The file could not be found.\n"
     ]
    }
   ],
   "source": [
    "try:\n",
    "    with open('non_existent_file.txt', 'r') as file:\n",
    "        content = file.read()\n",
    "        print(content)\n",
    "except FileNotFoundError:\n",
    "    print(\"Error: The file could not be found.\")\n",
    "except IOError:\n",
    "    print(\"Error: An I/O error occurred while handling the file.\")\n"
   ]
  },
  {
   "cell_type": "code",
   "execution_count": null,
   "id": "4c6b3814-ebe7-4dbc-8d6f-c7b0b351c005",
   "metadata": {},
   "outputs": [],
   "source": []
  },
  {
   "cell_type": "markdown",
   "id": "a9cfa0aa-1bec-4554-844d-03e9be4b09be",
   "metadata": {},
   "source": [
    "9.How can you read a file line by line and store its content in a list in Python"
   ]
  },
  {
   "cell_type": "code",
   "execution_count": 11,
   "id": "2e2f26a9-6ca8-4be2-a8b7-0a3b7257f6d5",
   "metadata": {},
   "outputs": [],
   "source": [
    "with open('filename.txt', 'r') as file:\n",
    "    lines = [line.strip() for line in file]\n"
   ]
  },
  {
   "cell_type": "code",
   "execution_count": null,
   "id": "e12be28e-095c-4deb-a1d8-acdcacaac443",
   "metadata": {},
   "outputs": [],
   "source": []
  },
  {
   "cell_type": "markdown",
   "id": "5fb3ca03-96e0-42b3-ba84-1890d03516db",
   "metadata": {},
   "source": [
    "10.How can you append data to an existing file in PythoN"
   ]
  },
  {
   "cell_type": "code",
   "execution_count": 12,
   "id": "5f5b89cb-9476-469d-9104-5f1f9dd708bd",
   "metadata": {},
   "outputs": [],
   "source": [
    "with open('filename.txt', 'a') as file:\n",
    "    file.write(\"This text will be appended.\\n\")\n"
   ]
  },
  {
   "cell_type": "code",
   "execution_count": null,
   "id": "4ec7e3d3-94b4-442a-bc97-ad14f324be59",
   "metadata": {},
   "outputs": [],
   "source": []
  },
  {
   "cell_type": "markdown",
   "id": "650c5558-5dd5-4e04-82c0-a76ed98c087b",
   "metadata": {},
   "source": [
    "11.Write a Python program that uses a try-except block to handle an error when attempting to access a\n",
    "dictionary key that doesn't exist"
   ]
  },
  {
   "cell_type": "code",
   "execution_count": 13,
   "id": "7a022ad4-d540-4438-ac77-5600803c351e",
   "metadata": {},
   "outputs": [
    {
     "name": "stdout",
     "output_type": "stream",
     "text": [
      "Error: Key 'c' does not exist in the dictionary.\n"
     ]
    }
   ],
   "source": [
    "my_dict = {'a': 1, 'b': 2}\n",
    "\n",
    "try:\n",
    "    value = my_dict['c']\n",
    "except KeyError:\n",
    "    print(\"Error: Key 'c' does not exist in the dictionary.\")\n"
   ]
  },
  {
   "cell_type": "code",
   "execution_count": null,
   "id": "7b27ff1e-5771-40ba-b484-587972bdcebf",
   "metadata": {},
   "outputs": [],
   "source": []
  },
  {
   "cell_type": "markdown",
   "id": "003a1d08-bdb1-4a2d-83e6-d8d8b2997b72",
   "metadata": {},
   "source": [
    "12.Write a program that demonstrates using multiple except blocks to handle different types of exceptions"
   ]
  },
  {
   "cell_type": "code",
   "execution_count": 14,
   "id": "ad11b078-e013-4eeb-9933-8a77df86ef8f",
   "metadata": {},
   "outputs": [
    {
     "name": "stdin",
     "output_type": "stream",
     "text": [
      "Enter a number:  5\n"
     ]
    },
    {
     "name": "stdout",
     "output_type": "stream",
     "text": [
      "Error: List index out of range.\n"
     ]
    }
   ],
   "source": [
    "try:\n",
    "    x = int(input(\"Enter a number: \"))\n",
    "    result = 10 / x\n",
    "    my_list = [1, 2, 3]\n",
    "    print(my_list[x])\n",
    "except ZeroDivisionError:\n",
    "    print(\"Error: Division by zero is not allowed.\")\n",
    "except ValueError:\n",
    "    print(\"Error: Invalid input. Please enter an integer.\")\n",
    "except IndexError:\n",
    "    print(\"Error: List index out of range.\")\n"
   ]
  },
  {
   "cell_type": "code",
   "execution_count": null,
   "id": "b09bd3be-7362-4499-828a-5d6a9c77be17",
   "metadata": {},
   "outputs": [],
   "source": []
  },
  {
   "cell_type": "markdown",
   "id": "4e434e3f-60f4-40a6-8460-5675ac2855f9",
   "metadata": {},
   "source": [
    "13.How would you check if a file exists before attempting to read it in Python"
   ]
  },
  {
   "cell_type": "code",
   "execution_count": 15,
   "id": "809ce80b-0841-4e12-b7a1-db71db026487",
   "metadata": {},
   "outputs": [
    {
     "name": "stdout",
     "output_type": "stream",
     "text": [
      "This is a sample string.This text will be appended.\n",
      "\n"
     ]
    }
   ],
   "source": [
    "import os\n",
    "\n",
    "if os.path.exists('filename.txt'):\n",
    "    with open('filename.txt', 'r') as file:\n",
    "        content = file.read()\n",
    "        print(content)\n",
    "else:\n",
    "    print(\"File does not exist.\")\n"
   ]
  },
  {
   "cell_type": "code",
   "execution_count": null,
   "id": "4f566693-ff65-4115-90d0-37f5b8e5fab5",
   "metadata": {},
   "outputs": [],
   "source": []
  },
  {
   "cell_type": "markdown",
   "id": "c452fcb7-fc1e-4426-b640-f950790d7d43",
   "metadata": {},
   "source": [
    "14.Write a program that uses the logging module to log both informational and error messages"
   ]
  },
  {
   "cell_type": "code",
   "execution_count": 16,
   "id": "158ad7d8-bab8-4b52-9039-8260cc6f24cd",
   "metadata": {},
   "outputs": [],
   "source": [
    "import logging\n",
    "\n",
    "logging.basicConfig(filename='app.log', level=logging.DEBUG,\n",
    "                    format='%(asctime)s - %(levelname)s - %(message)s')\n",
    "\n",
    "logging.info(\"This is an informational message.\")\n",
    "try:\n",
    "    result = 10 / 0\n",
    "except ZeroDivisionError:\n",
    "    logging.error(\"Error: Division by zero occurred.\")\n"
   ]
  },
  {
   "cell_type": "code",
   "execution_count": null,
   "id": "464ed00e-b046-4cbe-a2dd-83e43ea5a9cf",
   "metadata": {},
   "outputs": [],
   "source": []
  },
  {
   "cell_type": "markdown",
   "id": "dd942ee4-1361-46fd-8ba5-3729d4d22b2b",
   "metadata": {},
   "source": [
    "15.Write a Python program that prints the content of a file and handles the case when the file is empty"
   ]
  },
  {
   "cell_type": "code",
   "execution_count": 17,
   "id": "b1c796dc-0dba-422c-b917-78e7e96d82bc",
   "metadata": {},
   "outputs": [
    {
     "name": "stdout",
     "output_type": "stream",
     "text": [
      "this is my first line this is my fisrt codethis is my fisrt code\n",
      "\n",
      "this is my fisrt code\n",
      "\n"
     ]
    }
   ],
   "source": [
    "filename = 'file.txt'\n",
    "\n",
    "try:\n",
    "    with open(filename, 'r') as file:\n",
    "        content = file.read()\n",
    "        if content:\n",
    "            print(content)\n",
    "        else:\n",
    "            print(\"The file is empty.\")\n",
    "except FileNotFoundError:\n",
    "    print(f\"Error: The file '{filename}' does not exist.\")\n"
   ]
  },
  {
   "cell_type": "code",
   "execution_count": null,
   "id": "dfa96369-6c21-4c6c-a521-e695ab6ce0bb",
   "metadata": {},
   "outputs": [],
   "source": []
  },
  {
   "cell_type": "markdown",
   "id": "cca43755-5d1b-4cef-9cf6-69e108e03b00",
   "metadata": {},
   "source": [
    "16.Demonstrate how to use memory profiling to check the memory usage of a small program"
   ]
  },
  {
   "cell_type": "code",
   "execution_count": 19,
   "id": "31b57b74-0e49-46b0-b102-1ae9616d02ef",
   "metadata": {},
   "outputs": [
    {
     "name": "stdout",
     "output_type": "stream",
     "text": [
      "Collecting memory_profiler\n",
      "  Downloading memory_profiler-0.61.0-py3-none-any.whl.metadata (20 kB)\n",
      "Requirement already satisfied: psutil in c:\\users\\dell\\appdata\\local\\programs\\python\\python312\\lib\\site-packages (from memory_profiler) (6.0.0)\n",
      "Downloading memory_profiler-0.61.0-py3-none-any.whl (31 kB)\n",
      "Installing collected packages: memory_profiler\n",
      "Successfully installed memory_profiler-0.61.0\n",
      "Note: you may need to restart the kernel to use updated packages.\n"
     ]
    }
   ],
   "source": [
    "pip install memory_profiler"
   ]
  },
  {
   "cell_type": "code",
   "execution_count": 20,
   "id": "1d6520f1-d9e7-4da0-aa4d-f62ad67b7813",
   "metadata": {},
   "outputs": [
    {
     "name": "stdout",
     "output_type": "stream",
     "text": [
      "ERROR: Could not find file C:\\Users\\DELL\\AppData\\Local\\Temp\\ipykernel_10896\\1814838898.py\n"
     ]
    }
   ],
   "source": [
    "\n",
    "\n",
    "from memory_profiler import profile\n",
    "\n",
    "@profile\n",
    "def my_function():\n",
    "    a = [i for i in range(100000)]\n",
    "    b = [x * 2 for x in a]\n",
    "    return b\n",
    "\n",
    "if __name__ == \"__main__\":\n",
    "    my_function()\n"
   ]
  },
  {
   "cell_type": "code",
   "execution_count": null,
   "id": "ca735f1c-6a4e-43c3-b679-d009984bfe8f",
   "metadata": {},
   "outputs": [],
   "source": []
  },
  {
   "cell_type": "markdown",
   "id": "6b80e923-174a-4b84-97c2-517bd4abede4",
   "metadata": {},
   "source": [
    "17.Write a Python program to create and write a list of numbers to a file, one number per line"
   ]
  },
  {
   "cell_type": "code",
   "execution_count": 21,
   "id": "9f98b062-aa59-4abe-b478-4b819f8cd09b",
   "metadata": {},
   "outputs": [],
   "source": [
    "numbers = [1, 2, 3, 4, 5]\n",
    "\n",
    "with open('numbers.txt', 'w') as file:\n",
    "    for number in numbers:\n",
    "        file.write(str(number) + '\\n')\n"
   ]
  },
  {
   "cell_type": "code",
   "execution_count": null,
   "id": "2d2f8b13-9648-468e-938a-9573c23139c5",
   "metadata": {},
   "outputs": [],
   "source": []
  },
  {
   "cell_type": "markdown",
   "id": "f04fb32d-dc43-47ea-b1e7-20463cd0023d",
   "metadata": {},
   "source": [
    "18.How would you implement a basic logging setup that logs to a file with rotation after 1MB"
   ]
  },
  {
   "cell_type": "code",
   "execution_count": 22,
   "id": "f5914e15-8a4e-4626-9093-80ef7a1d3896",
   "metadata": {},
   "outputs": [],
   "source": [
    "import logging\n",
    "from logging.handlers import RotatingFileHandler\n",
    "\n",
    "# Create logger\n",
    "logger = logging.getLogger('my_logger')\n",
    "logger.setLevel(logging.DEBUG)\n",
    "\n",
    "# Create handler with rotation after 1MB, keeping 3 backups\n",
    "handler = RotatingFileHandler('app.log', maxBytes=1_000_000, backupCount=3)\n",
    "handler.setLevel(logging.DEBUG)\n",
    "\n",
    "# Create formatter and add it to handler\n",
    "formatter = logging.Formatter('%(asctime)s - %(levelname)s - %(message)s')\n",
    "handler.setFormatter(formatter)\n",
    "\n",
    "# Add handler to logger\n",
    "logger.addHandler(handler)\n",
    "\n",
    "# Example usage\n",
    "logger.info('This is an info message.')\n",
    "logger.error('This is an error message.')\n"
   ]
  },
  {
   "cell_type": "code",
   "execution_count": null,
   "id": "a4f3f31e-b3ef-4893-9598-128b436da149",
   "metadata": {},
   "outputs": [],
   "source": []
  },
  {
   "cell_type": "markdown",
   "id": "715a9d15-5c11-489f-b1c8-277696e06e48",
   "metadata": {},
   "source": [
    "19.Write a program that handles both IndexError and KeyError using a try-except block"
   ]
  },
  {
   "cell_type": "code",
   "execution_count": 23,
   "id": "09f1dfc0-b8cb-437b-ad3c-fed89f9f2f55",
   "metadata": {},
   "outputs": [
    {
     "name": "stdout",
     "output_type": "stream",
     "text": [
      "Caught an IndexError: List index out of range.\n"
     ]
    }
   ],
   "source": [
    "try:\n",
    "    my_list = [1, 2, 3]\n",
    "    my_dict = {'a': 10, 'b': 20}\n",
    "\n",
    "    # Access an invalid index\n",
    "    print(my_list[5])\n",
    "\n",
    "    # Access a non-existent key\n",
    "    print(my_dict['c'])\n",
    "\n",
    "except IndexError:\n",
    "    print(\"Caught an IndexError: List index out of range.\")\n",
    "\n",
    "except KeyError:\n",
    "    print(\"Caught a KeyError: Key not found in dictionary.\")\n"
   ]
  },
  {
   "cell_type": "code",
   "execution_count": null,
   "id": "48e732d7-32e8-4d66-ac32-d48fa9a2fe4c",
   "metadata": {},
   "outputs": [],
   "source": []
  },
  {
   "cell_type": "markdown",
   "id": "939ac2c7-4a7d-487e-90e3-84d635ea64f5",
   "metadata": {},
   "source": [
    "20.How would you open a file and read its contents using a context manager in PythoN"
   ]
  },
  {
   "cell_type": "code",
   "execution_count": 24,
   "id": "5ff0d43f-6bdf-4dba-95d2-bba1292d6b86",
   "metadata": {},
   "outputs": [
    {
     "name": "stdout",
     "output_type": "stream",
     "text": [
      "This is a sample string.This text will be appended.\n",
      "\n"
     ]
    }
   ],
   "source": [
    "with open('filename.txt', 'r') as file:\n",
    "    contents = file.read()\n",
    "    print(contents)\n"
   ]
  },
  {
   "cell_type": "code",
   "execution_count": null,
   "id": "c1e9f879-e4c9-4d63-bfd8-659f5a39f82d",
   "metadata": {},
   "outputs": [],
   "source": []
  },
  {
   "cell_type": "markdown",
   "id": "c55920ca-3c60-4e64-96de-9354da0ada34",
   "metadata": {},
   "source": [
    "21. Write a Python program that reads a file and prints the number of occurrences of a specific word"
   ]
  },
  {
   "cell_type": "code",
   "execution_count": 25,
   "id": "b33c036a-bba0-4761-a058-7130b418d7b1",
   "metadata": {},
   "outputs": [
    {
     "name": "stdout",
     "output_type": "stream",
     "text": [
      "The file 'sample.txt' was not found.\n"
     ]
    }
   ],
   "source": [
    "def count_word_occurrences(filename, word):\n",
    "    try:\n",
    "        with open(filename, 'r') as file:\n",
    "            content = file.read().lower()\n",
    "            word = word.lower()\n",
    "            count = content.split().count(word)\n",
    "            print(f\"The word '{word}' occurs {count} times in the file.\")\n",
    "    except FileNotFoundError:\n",
    "        print(f\"The file '{filename}' was not found.\")\n",
    "\n",
    "# Example usage\n",
    "count_word_occurrences('sample.txt', 'python')\n"
   ]
  },
  {
   "cell_type": "code",
   "execution_count": null,
   "id": "e77ddbf2-bf4b-45eb-ae03-6078dab132a3",
   "metadata": {},
   "outputs": [],
   "source": []
  },
  {
   "cell_type": "markdown",
   "id": "2454e814-17b8-4a2c-b5d0-3fec90b6e47c",
   "metadata": {},
   "source": [
    "22.How can you check if a file is empty before attempting to read its contents"
   ]
  },
  {
   "cell_type": "code",
   "execution_count": 26,
   "id": "7d838199-069c-47d0-8b31-8154f36e4587",
   "metadata": {},
   "outputs": [
    {
     "name": "stdout",
     "output_type": "stream",
     "text": [
      "The file is not empty.\n"
     ]
    }
   ],
   "source": [
    "import os\n",
    "\n",
    "def is_file_empty(filename):\n",
    "    return os.path.isfile(filename) and os.stat(filename).st_size == 0\n",
    "\n",
    "# Example usage\n",
    "filename = 'sample.txt'\n",
    "if is_file_empty(filename):\n",
    "    print(\"The file is empty.\")\n",
    "else:\n",
    "    print(\"The file is not empty.\")\n"
   ]
  },
  {
   "cell_type": "code",
   "execution_count": null,
   "id": "cc582280-1f03-4376-a605-91cd2015dfd1",
   "metadata": {},
   "outputs": [],
   "source": []
  },
  {
   "cell_type": "markdown",
   "id": "4cd31f18-c6bf-4c25-9d00-1d08642e140f",
   "metadata": {},
   "source": [
    "23.Write a Python program that writes to a log file when an error occurs during file handling"
   ]
  },
  {
   "cell_type": "code",
   "execution_count": 27,
   "id": "203d0b30-bcab-4d59-8f91-030b0a17b464",
   "metadata": {},
   "outputs": [
    {
     "name": "stdout",
     "output_type": "stream",
     "text": [
      "An error occurred. Check the log file for details.\n"
     ]
    }
   ],
   "source": [
    "import logging\n",
    "\n",
    "# Configure logging\n",
    "logging.basicConfig(filename='file_errors.log', level=logging.ERROR,\n",
    "                    format='%(asctime)s - %(levelname)s - %(message)s')\n",
    "\n",
    "filename = 'nonexistent_file.txt'\n",
    "\n",
    "try:\n",
    "    with open(filename, 'r') as file:\n",
    "        content = file.read()\n",
    "        print(content)\n",
    "except FileNotFoundError as e:\n",
    "    logging.error(f\"File not found: {filename} - {e}\")\n",
    "    print(\"An error occurred. Check the log file for details.\")\n",
    "except Exception as e:\n",
    "    logging.error(f\"An unexpected error occurred: {e}\")\n",
    "    print(\"An unexpected error occurred. Check the log file for details.\")\n"
   ]
  },
  {
   "cell_type": "code",
   "execution_count": null,
   "id": "384e4e44-60a3-4cfc-873b-9a85e2ba77c5",
   "metadata": {},
   "outputs": [],
   "source": []
  }
 ],
 "metadata": {
  "kernelspec": {
   "display_name": "Python 3 (ipykernel)",
   "language": "python",
   "name": "python3"
  },
  "language_info": {
   "codemirror_mode": {
    "name": "ipython",
    "version": 3
   },
   "file_extension": ".py",
   "mimetype": "text/x-python",
   "name": "python",
   "nbconvert_exporter": "python",
   "pygments_lexer": "ipython3",
   "version": "3.12.6"
  }
 },
 "nbformat": 4,
 "nbformat_minor": 5
}
